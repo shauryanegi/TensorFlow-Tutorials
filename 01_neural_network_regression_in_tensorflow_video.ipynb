{
  "nbformat": 4,
  "nbformat_minor": 0,
  "metadata": {
    "colab": {
      "name": "01_neural_network_regression_in_tensorflow_video.ipynb",
      "provenance": [],
      "mount_file_id": "1d3Qj0PcICL5cJz2jie8Iq_bIOLJRN7ju",
      "authorship_tag": "ABX9TyPDy5PDBkkMP4fX6sxJxa/x",
      "include_colab_link": true
    },
    "kernelspec": {
      "name": "python3",
      "display_name": "Python 3"
    },
    "language_info": {
      "name": "python"
    }
  },
  "cells": [
    {
      "cell_type": "markdown",
      "metadata": {
        "id": "view-in-github",
        "colab_type": "text"
      },
      "source": [
        "<a href=\"https://colab.research.google.com/github/shauryanegi/TensorFlow-Tutorials/blob/master/01_neural_network_regression_in_tensorflow_video.ipynb\" target=\"_parent\"><img src=\"https://colab.research.google.com/assets/colab-badge.svg\" alt=\"Open In Colab\"/></a>"
      ]
    },
    {
      "cell_type": "markdown",
      "metadata": {
        "id": "vN0PW1oeq2m6"
      },
      "source": [
        "# Introduction to Regression with Neural Networks in TensorFlow\n",
        "\n",
        "There are many definitions for a regression problem in our case, we're going to simplify it: predicting a numerical variable based on some combination of variables, even shorter....predicting a number."
      ]
    },
    {
      "cell_type": "code",
      "metadata": {
        "colab": {
          "base_uri": "https://localhost:8080/"
        },
        "id": "x5PSXVkAtEXJ",
        "outputId": "68f83f27-f00c-4dd1-d0ac-53265178daad"
      },
      "source": [
        "# Import TensorFlow\n",
        "import tensorflow as tf\n",
        "print(tf.__version__)"
      ],
      "execution_count": 3,
      "outputs": [
        {
          "output_type": "stream",
          "text": [
            "2.5.0\n"
          ],
          "name": "stdout"
        }
      ]
    },
    {
      "cell_type": "markdown",
      "metadata": {
        "id": "OQTTbPgNtNJG"
      },
      "source": [
        "## Creating a data to view and fit"
      ]
    },
    {
      "cell_type": "code",
      "metadata": {
        "colab": {
          "base_uri": "https://localhost:8080/",
          "height": 286
        },
        "id": "X0BJr_OOtdHy",
        "outputId": "77c7e580-76ad-4d0c-ace9-82f5fbdc086c"
      },
      "source": [
        "import numpy as np\n",
        "import matplotlib.pyplot as plt\n",
        "\n",
        "# Create features\n",
        "X = np.array([-7.0, -4.0, -1.0, 2.0, 5.0, 8.0, 11.0, 14.0])\n",
        "\n",
        "# Create labels\n",
        "y = np.array([3.0, 6.0, 9.0, 12.0, 15.0, 18.0, 21.0, 24.0])\n",
        "\n",
        "# Visualize it\n",
        "plt.style.use(\"ggplot\")\n",
        "plt.scatter(X, y)\n"
      ],
      "execution_count": 4,
      "outputs": [
        {
          "output_type": "execute_result",
          "data": {
            "text/plain": [
              "<matplotlib.collections.PathCollection at 0x7f53ab7ae290>"
            ]
          },
          "metadata": {
            "tags": []
          },
          "execution_count": 4
        },
        {
          "output_type": "display_data",
          "data": {
            "image/png": "[encoded data removed]",
            "text/plain": [
              "<Figure size 432x288 with 1 Axes>"
            ]
          },
          "metadata": {
            "tags": []
          }
        }
      ]
    },
    {
      "cell_type": "code",
      "metadata": {
        "colab": {
          "base_uri": "https://localhost:8080/"
        },
        "id": "LrNJUrlZtyYD",
        "outputId": "17550606-1386-4e1c-a4e8-ef8f57b4f287"
      },
      "source": [
        "y == X + 10"
      ],
      "execution_count": 5,
      "outputs": [
        {
          "output_type": "execute_result",
          "data": {
            "text/plain": [
              "array([ True,  True,  True,  True,  True,  True,  True,  True])"
            ]
          },
          "metadata": {
            "tags": []
          },
          "execution_count": 5
        }
      ]
    },
    {
      "cell_type": "markdown",
      "metadata": {
        "id": "tBtFlayquNV6"
      },
      "source": [
        "# Input and output shapes"
      ]
    },
    {
      "cell_type": "code",
      "metadata": {
        "colab": {
          "base_uri": "https://localhost:8080/"
        },
        "id": "0d9y1spBudnh",
        "outputId": "4f6bf478-fa55-4ff1-ed54-fd72eb82290a"
      },
      "source": [
        "# Create a demo tensor for our housing price prediction problem\n",
        "house_info = tf.constant([\"bedroom\",\"bathroom\",\"garage\"])\n",
        "house_price = tf.constant([939700])\n",
        "\n",
        "house_info,house_price"
      ],
      "execution_count": 6,
      "outputs": [
        {
          "output_type": "execute_result",
          "data": {
            "text/plain": [
              "(<tf.Tensor: shape=(3,), dtype=string, numpy=array([b'bedroom', b'bathroom', b'garage'], dtype=object)>,\n",
              " <tf.Tensor: shape=(1,), dtype=int32, numpy=array([939700], dtype=int32)>)"
            ]
          },
          "metadata": {
            "tags": []
          },
          "execution_count": 6
        }
      ]
    },
    {
      "cell_type": "code",
      "metadata": {
        "colab": {
          "base_uri": "https://localhost:8080/"
        },
        "id": "8mFUG4PKvAYi",
        "outputId": "82acc0fc-8cf2-4b79-f535-6fe808e6f968"
      },
      "source": [
        "X[0], y[0]"
      ],
      "execution_count": 7,
      "outputs": [
        {
          "output_type": "execute_result",
          "data": {
            "text/plain": [
              "(-7.0, 3.0)"
            ]
          },
          "metadata": {
            "tags": []
          },
          "execution_count": 7
        }
      ]
    },
    {
      "cell_type": "code",
      "metadata": {
        "colab": {
          "base_uri": "https://localhost:8080/"
        },
        "id": "uJWCxgEbvBRh",
        "outputId": "d4437c44-0bf1-44f3-d148-d0097ab17638"
      },
      "source": [
        "X[1], y[1]"
      ],
      "execution_count": 8,
      "outputs": [
        {
          "output_type": "execute_result",
          "data": {
            "text/plain": [
              "(-4.0, 6.0)"
            ]
          },
          "metadata": {
            "tags": []
          },
          "execution_count": 8
        }
      ]
    },
    {
      "cell_type": "code",
      "metadata": {
        "colab": {
          "base_uri": "https://localhost:8080/"
        },
        "id": "-QoVGcd7uwpF",
        "outputId": "8cad4737-fc28-4987-a5b9-21309bf21d0a"
      },
      "source": [
        "input_shape = X[0].shape\n",
        "output_shape = y[0].shape\n",
        "input_shape, output_shape"
      ],
      "execution_count": 9,
      "outputs": [
        {
          "output_type": "execute_result",
          "data": {
            "text/plain": [
              "((), ())"
            ]
          },
          "metadata": {
            "tags": []
          },
          "execution_count": 9
        }
      ]
    },
    {
      "cell_type": "code",
      "metadata": {
        "colab": {
          "base_uri": "https://localhost:8080/"
        },
        "id": "BA24IsQPu6xa",
        "outputId": "9b5f82a6-1b1d-40cd-8e95-5ab4af1ea475"
      },
      "source": [
        "X[0], y[0]"
      ],
      "execution_count": 10,
      "outputs": [
        {
          "output_type": "execute_result",
          "data": {
            "text/plain": [
              "(-7.0, 3.0)"
            ]
          },
          "metadata": {
            "tags": []
          },
          "execution_count": 10
        }
      ]
    },
    {
      "cell_type": "code",
      "metadata": {
        "colab": {
          "base_uri": "https://localhost:8080/"
        },
        "id": "lrkW4T_EvdAD",
        "outputId": "883164ca-eaf9-4edb-a816-5b4c1c471737"
      },
      "source": [
        "#Turn our NumPy arrays into tensors\n",
        "X = tf.cast(tf.constant(X), dtype = tf.float32)\n",
        "y = tf.cast(tf.constant(y), dtype = tf.float32)\n",
        "X, y"
      ],
      "execution_count": 11,
      "outputs": [
        {
          "output_type": "execute_result",
          "data": {
            "text/plain": [
              "(<tf.Tensor: shape=(8,), dtype=float32, numpy=array([-7., -4., -1.,  2.,  5.,  8., 11., 14.], dtype=float32)>,\n",
              " <tf.Tensor: shape=(8,), dtype=float32, numpy=array([ 3.,  6.,  9., 12., 15., 18., 21., 24.], dtype=float32)>)"
            ]
          },
          "metadata": {
            "tags": []
          },
          "execution_count": 11
        }
      ]
    },
    {
      "cell_type": "code",
      "metadata": {
        "colab": {
          "base_uri": "https://localhost:8080/"
        },
        "id": "1VpngbXpwNhV",
        "outputId": "63cfd2b8-0024-422e-a487-840e7c4eb0cd"
      },
      "source": [
        "input_shape = X[0].shape\n",
        "output_shape = y[0].shape\n",
        "input_shape, output_shape"
      ],
      "execution_count": 12,
      "outputs": [
        {
          "output_type": "execute_result",
          "data": {
            "text/plain": [
              "(TensorShape([]), TensorShape([]))"
            ]
          },
          "metadata": {
            "tags": []
          },
          "execution_count": 12
        }
      ]
    },
    {
      "cell_type": "code",
      "metadata": {
        "colab": {
          "base_uri": "https://localhost:8080/",
          "height": 286
        },
        "id": "40-l_x75wXxM",
        "outputId": "aebca0eb-8a96-4e71-fb87-5c44b654e778"
      },
      "source": [
        "plt.scatter(X,y)"
      ],
      "execution_count": 13,
      "outputs": [
        {
          "output_type": "execute_result",
          "data": {
            "text/plain": [
              "<matplotlib.collections.PathCollection at 0x7f53a440cf90>"
            ]
          },
          "metadata": {
            "tags": []
          },
          "execution_count": 13
        },
        {
          "output_type": "display_data",
          "data": {
            "image/png": "[encoded data removed]",
            "text/plain": [
              "<Figure size 432x288 with 1 Axes>"
            ]
          },
          "metadata": {
            "tags": []
          }
        }
      ]
    },
    {
      "cell_type": "markdown",
      "metadata": {
        "id": "BO_uRb5VwdKT"
      },
      "source": [
        "## Steps in modelling with TensorFlow\n",
        "\n",
        "1. **Creating a model** - define the input and output layers, as well as the hidden layers of the deep learning model.\n",
        "\n",
        "2. **Compiling a model** - Define the loss function (in other words, the function which tells our how model how wrong it is) and the optimizer (tells our model how to improve the patterns its learning) and evaluation metrics (what we can use to interpret the performance of our model).\n",
        "\n",
        "3. Fitting the model - letting the model try to find patterns between X and y (features and labels)"
      ]
    },
    {
      "cell_type": "code",
      "metadata": {
        "colab": {
          "base_uri": "https://localhost:8080/"
        },
        "id": "vB4gqDdXwiaT",
        "outputId": "ef82bc64-dc94-4eb1-9d97-3191ceac6e1c"
      },
      "source": [
        "# Set random seed\n",
        "\n",
        "tf.random.set_seed(42)\n",
        "\n",
        "# 1. Create a model using the Sequential API\n",
        "\n",
        "model = tf.keras.Sequential()\n",
        "\n",
        "model.add(tf.keras.layers.Dense(1))\n",
        "\n",
        "# 2. Compile the model\n",
        "\n",
        "model.compile(loss=tf.keras.losses.mae,\n",
        "              optimizer=tf.keras.optimizers.SGD(), metrics=['mae'])  # mean absolute error\n",
        "\n",
        "   # Stochastic Gradient Descent.\n",
        "\n",
        "# 3. Fit the model\n",
        "\n",
        "model.fit(X, y, epochs=5)"
      ],
      "execution_count": 14,
      "outputs": [
        {
          "output_type": "stream",
          "text": [
            "Epoch 1/5\n",
            "1/1 [==============================] - 0s 284ms/step - loss: 11.5048 - mae: 11.5048\n",
            "Epoch 2/5\n",
            "1/1 [==============================] - 0s 8ms/step - loss: 11.3723 - mae: 11.3723\n",
            "Epoch 3/5\n",
            "1/1 [==============================] - 0s 5ms/step - loss: 11.2398 - mae: 11.2398\n",
            "Epoch 4/5\n",
            "1/1 [==============================] - 0s 5ms/step - loss: 11.1073 - mae: 11.1073\n",
            "Epoch 5/5\n",
            "1/1 [==============================] - 0s 4ms/step - loss: 10.9748 - mae: 10.9748\n"
          ],
          "name": "stdout"
        },
        {
          "output_type": "execute_result",
          "data": {
            "text/plain": [
              "<tensorflow.python.keras.callbacks.History at 0x7f53a4419b90>"
            ]
          },
          "metadata": {
            "tags": []
          },
          "execution_count": 14
        }
      ]
    },
    {
      "cell_type": "code",
      "metadata": {
        "colab": {
          "base_uri": "https://localhost:8080/"
        },
        "id": "vkZ90bIW0Jmf",
        "outputId": "f230cd1f-4406-4e70-b032-c7bb8aa74388"
      },
      "source": [
        "# Check out X and y\n",
        "X , y"
      ],
      "execution_count": 15,
      "outputs": [
        {
          "output_type": "execute_result",
          "data": {
            "text/plain": [
              "(<tf.Tensor: shape=(8,), dtype=float32, numpy=array([-7., -4., -1.,  2.,  5.,  8., 11., 14.], dtype=float32)>,\n",
              " <tf.Tensor: shape=(8,), dtype=float32, numpy=array([ 3.,  6.,  9., 12., 15., 18., 21., 24.], dtype=float32)>)"
            ]
          },
          "metadata": {
            "tags": []
          },
          "execution_count": 15
        }
      ]
    },
    {
      "cell_type": "code",
      "metadata": {
        "id": "g9-G853X1MQt"
      },
      "source": [
        "# Try to make a prediction using our model\n",
        "y_pred = model.predict([17.0])"
      ],
      "execution_count": 16,
      "outputs": []
    },
    {
      "cell_type": "code",
      "metadata": {
        "colab": {
          "base_uri": "https://localhost:8080/"
        },
        "id": "4SGA2kz61UhL",
        "outputId": "b2ee43e8-89b3-405d-93b2-63abb70832a1"
      },
      "source": [
        "y_pred , y_pred + 11"
      ],
      "execution_count": 17,
      "outputs": [
        {
          "output_type": "execute_result",
          "data": {
            "text/plain": [
              "(array([[12.716021]], dtype=float32), array([[23.71602]], dtype=float32))"
            ]
          },
          "metadata": {
            "tags": []
          },
          "execution_count": 17
        }
      ]
    },
    {
      "cell_type": "markdown",
      "metadata": {
        "id": "CS5fHeia1158"
      },
      "source": [
        "## Improving our model\n",
        "\n",
        "We can improve our model, by altering the steps we took to create a model.\n",
        "\n",
        "1. **Creating a model** - We might add more layers, increase the number of hidden units (also called neurons) within each of the hidden layers, called the activation function of each layer.\n",
        "\n",
        "2. **Compiling a model** - We might change the optimization function or perhaps the **learning rate** of optimization function.\n",
        "\n",
        "3. **Fitting a model** - Here we might fit a model for more **epochs** (leave it training for longer) or on more data (give the model more examples to learn from)"
      ]
    },
    {
      "cell_type": "code",
      "metadata": {
        "colab": {
          "base_uri": "https://localhost:8080/"
        },
        "id": "20Dg68QG34ZF",
        "outputId": "6cfadbb3-f1ee-4fc1-a2c7-da8772c9964b"
      },
      "source": [
        "## Increasing the number of epochs\n",
        "\n",
        "# Set random seed\n",
        "\n",
        "tf.random.set_seed(42)\n",
        "\n",
        "# 1. Create a model using the Sequential API\n",
        "\n",
        "model = tf.keras.Sequential()\n",
        "\n",
        "model.add(tf.keras.layers.Dense(1))\n",
        "\n",
        "# 2. Compile the model\n",
        "\n",
        "model.compile(loss=tf.keras.losses.mae,\n",
        "              optimizer=tf.keras.optimizers.SGD(), metrics=['mae'])  # mean absolute error\n",
        "\n",
        "   # Stochastic Gradient Descent.\n",
        "\n",
        "# 3. Fit the model\n",
        "\n",
        "model.fit(X, y, epochs=100)"
      ],
      "execution_count": 18,
      "outputs": [
        {
          "output_type": "stream",
          "text": [
            "Epoch 1/100\n",
            "1/1 [==============================] - 0s 237ms/step - loss: 11.5048 - mae: 11.5048\n",
            "Epoch 2/100\n",
            "1/1 [==============================] - 0s 5ms/step - loss: 11.3723 - mae: 11.3723\n",
            "Epoch 3/100\n",
            "1/1 [==============================] - 0s 5ms/step - loss: 11.2398 - mae: 11.2398\n",
            "Epoch 4/100\n",
            "1/1 [==============================] - 0s 4ms/step - loss: 11.1073 - mae: 11.1073\n",
            "Epoch 5/100\n",
            "1/1 [==============================] - 0s 4ms/step - loss: 10.9748 - mae: 10.9748\n",
            "Epoch 6/100\n",
            "1/1 [==============================] - 0s 4ms/step - loss: 10.8423 - mae: 10.8423\n",
            "Epoch 7/100\n",
            "1/1 [==============================] - 0s 4ms/step - loss: 10.7098 - mae: 10.7098\n",
            "Epoch 8/100\n",
            "1/1 [==============================] - 0s 5ms/step - loss: 10.5773 - mae: 10.5773\n",
            "Epoch 9/100\n",
            "1/1 [==============================] - 0s 4ms/step - loss: 10.4448 - mae: 10.4448\n",
            "Epoch 10/100\n",
            "1/1 [==============================] - 0s 6ms/step - loss: 10.3123 - mae: 10.3123\n",
            "Epoch 11/100\n",
            "1/1 [==============================] - 0s 6ms/step - loss: 10.1798 - mae: 10.1798\n",
            "Epoch 12/100\n",
            "1/1 [==============================] - 0s 5ms/step - loss: 10.0473 - mae: 10.0473\n",
            "Epoch 13/100\n",
            "1/1 [==============================] - 0s 8ms/step - loss: 9.9148 - mae: 9.9148\n",
            "Epoch 14/100\n",
            "1/1 [==============================] - 0s 9ms/step - loss: 9.7823 - mae: 9.7823\n",
            "Epoch 15/100\n",
            "1/1 [==============================] - 0s 3ms/step - loss: 9.6498 - mae: 9.6498\n",
            "Epoch 16/100\n",
            "1/1 [==============================] - 0s 4ms/step - loss: 9.5173 - mae: 9.5173\n",
            "Epoch 17/100\n",
            "1/1 [==============================] - 0s 7ms/step - loss: 9.3848 - mae: 9.3848\n",
            "Epoch 18/100\n",
            "1/1 [==============================] - 0s 6ms/step - loss: 9.2523 - mae: 9.2523\n",
            "Epoch 19/100\n",
            "1/1 [==============================] - 0s 8ms/step - loss: 9.1198 - mae: 9.1198\n",
            "Epoch 20/100\n",
            "1/1 [==============================] - 0s 7ms/step - loss: 8.9873 - mae: 8.9873\n",
            "Epoch 21/100\n",
            "1/1 [==============================] - 0s 8ms/step - loss: 8.8548 - mae: 8.8548\n",
            "Epoch 22/100\n",
            "1/1 [==============================] - 0s 6ms/step - loss: 8.7223 - mae: 8.7223\n",
            "Epoch 23/100\n",
            "1/1 [==============================] - 0s 11ms/step - loss: 8.5898 - mae: 8.5898\n",
            "Epoch 24/100\n",
            "1/1 [==============================] - 0s 8ms/step - loss: 8.4573 - mae: 8.4573\n",
            "Epoch 25/100\n",
            "1/1 [==============================] - 0s 8ms/step - loss: 8.3248 - mae: 8.3248\n",
            "Epoch 26/100\n",
            "1/1 [==============================] - 0s 9ms/step - loss: 8.1923 - mae: 8.1923\n",
            "Epoch 27/100\n",
            "1/1 [==============================] - 0s 5ms/step - loss: 8.0598 - mae: 8.0598\n",
            "Epoch 28/100\n",
            "1/1 [==============================] - 0s 5ms/step - loss: 7.9273 - mae: 7.9273\n",
            "Epoch 29/100\n",
            "1/1 [==============================] - 0s 5ms/step - loss: 7.7948 - mae: 7.7948\n",
            "Epoch 30/100\n",
            "1/1 [==============================] - 0s 4ms/step - loss: 7.6623 - mae: 7.6623\n",
            "Epoch 31/100\n",
            "1/1 [==============================] - 0s 4ms/step - loss: 7.5298 - mae: 7.5298\n",
            "Epoch 32/100\n",
            "1/1 [==============================] - 0s 5ms/step - loss: 7.3973 - mae: 7.3973\n",
            "Epoch 33/100\n",
            "1/1 [==============================] - 0s 6ms/step - loss: 7.2648 - mae: 7.2648\n",
            "Epoch 34/100\n",
            "1/1 [==============================] - 0s 3ms/step - loss: 7.2525 - mae: 7.2525\n",
            "Epoch 35/100\n",
            "1/1 [==============================] - 0s 5ms/step - loss: 7.2469 - mae: 7.2469\n",
            "Epoch 36/100\n",
            "1/1 [==============================] - 0s 3ms/step - loss: 7.2413 - mae: 7.2413\n",
            "Epoch 37/100\n",
            "1/1 [==============================] - 0s 3ms/step - loss: 7.2356 - mae: 7.2356\n",
            "Epoch 38/100\n",
            "1/1 [==============================] - 0s 5ms/step - loss: 7.2300 - mae: 7.2300\n",
            "Epoch 39/100\n",
            "1/1 [==============================] - 0s 3ms/step - loss: 7.2244 - mae: 7.2244\n",
            "Epoch 40/100\n",
            "1/1 [==============================] - 0s 5ms/step - loss: 7.2188 - mae: 7.2188\n",
            "Epoch 41/100\n",
            "1/1 [==============================] - 0s 5ms/step - loss: 7.2131 - mae: 7.2131\n",
            "Epoch 42/100\n",
            "1/1 [==============================] - 0s 6ms/step - loss: 7.2075 - mae: 7.2075\n",
            "Epoch 43/100\n",
            "1/1 [==============================] - 0s 3ms/step - loss: 7.2019 - mae: 7.2019\n",
            "Epoch 44/100\n",
            "1/1 [==============================] - 0s 8ms/step - loss: 7.1963 - mae: 7.1963\n",
            "Epoch 45/100\n",
            "1/1 [==============================] - 0s 5ms/step - loss: 7.1906 - mae: 7.1906\n",
            "Epoch 46/100\n",
            "1/1 [==============================] - 0s 3ms/step - loss: 7.1850 - mae: 7.1850\n",
            "Epoch 47/100\n",
            "1/1 [==============================] - 0s 4ms/step - loss: 7.1794 - mae: 7.1794\n",
            "Epoch 48/100\n",
            "1/1 [==============================] - 0s 4ms/step - loss: 7.1738 - mae: 7.1738\n",
            "Epoch 49/100\n",
            "1/1 [==============================] - 0s 4ms/step - loss: 7.1681 - mae: 7.1681\n",
            "Epoch 50/100\n",
            "1/1 [==============================] - 0s 19ms/step - loss: 7.1625 - mae: 7.1625\n",
            "Epoch 51/100\n",
            "1/1 [==============================] - 0s 3ms/step - loss: 7.1569 - mae: 7.1569\n",
            "Epoch 52/100\n",
            "1/1 [==============================] - 0s 3ms/step - loss: 7.1512 - mae: 7.1512\n",
            "Epoch 53/100\n",
            "1/1 [==============================] - 0s 4ms/step - loss: 7.1456 - mae: 7.1456\n",
            "Epoch 54/100\n",
            "1/1 [==============================] - 0s 4ms/step - loss: 7.1400 - mae: 7.1400\n",
            "Epoch 55/100\n",
            "1/1 [==============================] - 0s 4ms/step - loss: 7.1344 - mae: 7.1344\n",
            "Epoch 56/100\n",
            "1/1 [==============================] - 0s 6ms/step - loss: 7.1287 - mae: 7.1287\n",
            "Epoch 57/100\n",
            "1/1 [==============================] - 0s 4ms/step - loss: 7.1231 - mae: 7.1231\n",
            "Epoch 58/100\n",
            "1/1 [==============================] - 0s 3ms/step - loss: 7.1175 - mae: 7.1175\n",
            "Epoch 59/100\n",
            "1/1 [==============================] - 0s 5ms/step - loss: 7.1119 - mae: 7.1119\n",
            "Epoch 60/100\n",
            "1/1 [==============================] - 0s 6ms/step - loss: 7.1063 - mae: 7.1063\n",
            "Epoch 61/100\n",
            "1/1 [==============================] - 0s 4ms/step - loss: 7.1006 - mae: 7.1006\n",
            "Epoch 62/100\n",
            "1/1 [==============================] - 0s 3ms/step - loss: 7.0950 - mae: 7.0950\n",
            "Epoch 63/100\n",
            "1/1 [==============================] - 0s 5ms/step - loss: 7.0894 - mae: 7.0894\n",
            "Epoch 64/100\n",
            "1/1 [==============================] - 0s 3ms/step - loss: 7.0838 - mae: 7.0838\n",
            "Epoch 65/100\n",
            "1/1 [==============================] - 0s 5ms/step - loss: 7.0781 - mae: 7.0781\n",
            "Epoch 66/100\n",
            "1/1 [==============================] - 0s 4ms/step - loss: 7.0725 - mae: 7.0725\n",
            "Epoch 67/100\n",
            "1/1 [==============================] - 0s 5ms/step - loss: 7.0669 - mae: 7.0669\n",
            "Epoch 68/100\n",
            "1/1 [==============================] - 0s 3ms/step - loss: 7.0613 - mae: 7.0613\n",
            "Epoch 69/100\n",
            "1/1 [==============================] - 0s 3ms/step - loss: 7.0556 - mae: 7.0556\n",
            "Epoch 70/100\n",
            "1/1 [==============================] - 0s 5ms/step - loss: 7.0500 - mae: 7.0500\n",
            "Epoch 71/100\n",
            "1/1 [==============================] - 0s 4ms/step - loss: 7.0444 - mae: 7.0444\n",
            "Epoch 72/100\n",
            "1/1 [==============================] - 0s 6ms/step - loss: 7.0388 - mae: 7.0388\n",
            "Epoch 73/100\n",
            "1/1 [==============================] - 0s 4ms/step - loss: 7.0331 - mae: 7.0331\n",
            "Epoch 74/100\n",
            "1/1 [==============================] - 0s 5ms/step - loss: 7.0275 - mae: 7.0275\n",
            "Epoch 75/100\n",
            "1/1 [==============================] - 0s 4ms/step - loss: 7.0219 - mae: 7.0219\n",
            "Epoch 76/100\n",
            "1/1 [==============================] - 0s 6ms/step - loss: 7.0163 - mae: 7.0163\n",
            "Epoch 77/100\n",
            "1/1 [==============================] - 0s 4ms/step - loss: 7.0106 - mae: 7.0106\n",
            "Epoch 78/100\n",
            "1/1 [==============================] - 0s 7ms/step - loss: 7.0050 - mae: 7.0050\n",
            "Epoch 79/100\n",
            "1/1 [==============================] - 0s 4ms/step - loss: 6.9994 - mae: 6.9994\n",
            "Epoch 80/100\n",
            "1/1 [==============================] - 0s 7ms/step - loss: 6.9938 - mae: 6.9938\n",
            "Epoch 81/100\n",
            "1/1 [==============================] - 0s 4ms/step - loss: 6.9881 - mae: 6.9881\n",
            "Epoch 82/100\n",
            "1/1 [==============================] - 0s 6ms/step - loss: 6.9825 - mae: 6.9825\n",
            "Epoch 83/100\n",
            "1/1 [==============================] - 0s 4ms/step - loss: 6.9769 - mae: 6.9769\n",
            "Epoch 84/100\n",
            "1/1 [==============================] - 0s 7ms/step - loss: 6.9713 - mae: 6.9713\n",
            "Epoch 85/100\n",
            "1/1 [==============================] - 0s 4ms/step - loss: 6.9656 - mae: 6.9656\n",
            "Epoch 86/100\n",
            "1/1 [==============================] - 0s 4ms/step - loss: 6.9600 - mae: 6.9600\n",
            "Epoch 87/100\n",
            "1/1 [==============================] - 0s 4ms/step - loss: 6.9544 - mae: 6.9544\n",
            "Epoch 88/100\n",
            "1/1 [==============================] - 0s 6ms/step - loss: 6.9488 - mae: 6.9488\n",
            "Epoch 89/100\n",
            "1/1 [==============================] - 0s 3ms/step - loss: 6.9431 - mae: 6.9431\n",
            "Epoch 90/100\n",
            "1/1 [==============================] - 0s 24ms/step - loss: 6.9375 - mae: 6.9375\n",
            "Epoch 91/100\n",
            "1/1 [==============================] - 0s 9ms/step - loss: 6.9319 - mae: 6.9319\n",
            "Epoch 92/100\n",
            "1/1 [==============================] - 0s 5ms/step - loss: 6.9263 - mae: 6.9263\n",
            "Epoch 93/100\n",
            "1/1 [==============================] - 0s 5ms/step - loss: 6.9206 - mae: 6.9206\n",
            "Epoch 94/100\n",
            "1/1 [==============================] - 0s 4ms/step - loss: 6.9150 - mae: 6.9150\n",
            "Epoch 95/100\n",
            "1/1 [==============================] - 0s 3ms/step - loss: 6.9094 - mae: 6.9094\n",
            "Epoch 96/100\n",
            "1/1 [==============================] - 0s 7ms/step - loss: 6.9038 - mae: 6.9038\n",
            "Epoch 97/100\n",
            "1/1 [==============================] - 0s 5ms/step - loss: 6.8981 - mae: 6.8981\n",
            "Epoch 98/100\n",
            "1/1 [==============================] - 0s 4ms/step - loss: 6.8925 - mae: 6.8925\n",
            "Epoch 99/100\n",
            "1/1 [==============================] - 0s 29ms/step - loss: 6.8869 - mae: 6.8869\n",
            "Epoch 100/100\n",
            "1/1 [==============================] - 0s 9ms/step - loss: 6.8813 - mae: 6.8813\n"
          ],
          "name": "stdout"
        },
        {
          "output_type": "execute_result",
          "data": {
            "text/plain": [
              "<tensorflow.python.keras.callbacks.History at 0x7f53a0ffc8d0>"
            ]
          },
          "metadata": {
            "tags": []
          },
          "execution_count": 18
        }
      ]
    },
    {
      "cell_type": "code",
      "metadata": {
        "id": "6tsnVekPKssN"
      },
      "source": [
        "# Try to make a prediction using our model\n",
        "y_pred = model.predict([17.0])"
      ],
      "execution_count": 19,
      "outputs": []
    },
    {
      "cell_type": "code",
      "metadata": {
        "colab": {
          "base_uri": "https://localhost:8080/"
        },
        "id": "UgejQd52K8R0",
        "outputId": "25e69f5a-a0e5-49d4-b0ab-495ce7cac1f9"
      },
      "source": [
        "y_pred #much better than before"
      ],
      "execution_count": 20,
      "outputs": [
        {
          "output_type": "execute_result",
          "data": {
            "text/plain": [
              "array([[30.158512]], dtype=float32)"
            ]
          },
          "metadata": {
            "tags": []
          },
          "execution_count": 20
        }
      ]
    },
    {
      "cell_type": "code",
      "metadata": {
        "colab": {
          "base_uri": "https://localhost:8080/"
        },
        "id": "OMeLy9KmK9f6",
        "outputId": "cc131496-a2d9-4238-dbd9-2d3486ed7a8d"
      },
      "source": [
        "# Let us try more things now to improve the model\n",
        "\n",
        "# 1. Create a model with Sequential API\n",
        "\n",
        "model = tf.keras.Sequential()\n",
        "\n",
        "model.add(tf.keras.layers.Dense(100, activation = 'relu'))\n",
        "\n",
        "model.add(tf.keras.layers.Dense(1))\n",
        "\n",
        "# 2. Compile our model\n",
        "\n",
        "model.compile(loss=tf.keras.losses.mae,\n",
        "              optimizer=tf.keras.optimizers.Adam(learning_rate=0.1),\n",
        "              metrics=['mae'])\n",
        "\n",
        "# 3. Compile the model\n",
        "\n",
        "model.fit(X, y, epochs=100)"
      ],
      "execution_count": 21,
      "outputs": [
        {
          "output_type": "stream",
          "text": [
            "Epoch 1/100\n",
            "1/1 [==============================] - 0s 327ms/step - loss: 13.9468 - mae: 13.9468\n",
            "Epoch 2/100\n",
            "1/1 [==============================] - 0s 6ms/step - loss: 5.6308 - mae: 5.6308\n",
            "Epoch 3/100\n",
            "1/1 [==============================] - 0s 6ms/step - loss: 8.5388 - mae: 8.5388\n",
            "Epoch 4/100\n",
            "1/1 [==============================] - 0s 7ms/step - loss: 8.0333 - mae: 8.0333\n",
            "Epoch 5/100\n",
            "1/1 [==============================] - 0s 6ms/step - loss: 5.1341 - mae: 5.1341\n",
            "Epoch 6/100\n",
            "1/1 [==============================] - 0s 5ms/step - loss: 3.8633 - mae: 3.8633\n",
            "Epoch 7/100\n",
            "1/1 [==============================] - 0s 8ms/step - loss: 5.7742 - mae: 5.7742\n",
            "Epoch 8/100\n",
            "1/1 [==============================] - 0s 6ms/step - loss: 5.8511 - mae: 5.8511\n",
            "Epoch 9/100\n",
            "1/1 [==============================] - 0s 4ms/step - loss: 4.4557 - mae: 4.4557\n",
            "Epoch 10/100\n",
            "1/1 [==============================] - 0s 7ms/step - loss: 3.7069 - mae: 3.7069\n",
            "Epoch 11/100\n",
            "1/1 [==============================] - 0s 8ms/step - loss: 4.5971 - mae: 4.5971\n",
            "Epoch 12/100\n",
            "1/1 [==============================] - 0s 6ms/step - loss: 4.1340 - mae: 4.1340\n",
            "Epoch 13/100\n",
            "1/1 [==============================] - 0s 9ms/step - loss: 3.2568 - mae: 3.2568\n",
            "Epoch 14/100\n",
            "1/1 [==============================] - 0s 13ms/step - loss: 3.6257 - mae: 3.6257\n",
            "Epoch 15/100\n",
            "1/1 [==============================] - 0s 6ms/step - loss: 2.9379 - mae: 2.9379\n",
            "Epoch 16/100\n",
            "1/1 [==============================] - 0s 6ms/step - loss: 3.0616 - mae: 3.0616\n",
            "Epoch 17/100\n",
            "1/1 [==============================] - 0s 6ms/step - loss: 2.8746 - mae: 2.8746\n",
            "Epoch 18/100\n",
            "1/1 [==============================] - 0s 5ms/step - loss: 1.8429 - mae: 1.8429\n",
            "Epoch 19/100\n",
            "1/1 [==============================] - 0s 5ms/step - loss: 1.8414 - mae: 1.8414\n",
            "Epoch 20/100\n",
            "1/1 [==============================] - 0s 6ms/step - loss: 0.5662 - mae: 0.5662\n",
            "Epoch 21/100\n",
            "1/1 [==============================] - 0s 6ms/step - loss: 1.2735 - mae: 1.2735\n",
            "Epoch 22/100\n",
            "1/1 [==============================] - 0s 6ms/step - loss: 1.0837 - mae: 1.0837\n",
            "Epoch 23/100\n",
            "1/1 [==============================] - 0s 5ms/step - loss: 1.6545 - mae: 1.6545\n",
            "Epoch 24/100\n",
            "1/1 [==============================] - 0s 7ms/step - loss: 1.4990 - mae: 1.4990\n",
            "Epoch 25/100\n",
            "1/1 [==============================] - 0s 5ms/step - loss: 1.0596 - mae: 1.0596\n",
            "Epoch 26/100\n",
            "1/1 [==============================] - 0s 6ms/step - loss: 0.9867 - mae: 0.9867\n",
            "Epoch 27/100\n",
            "1/1 [==============================] - 0s 5ms/step - loss: 1.2209 - mae: 1.2209\n",
            "Epoch 28/100\n",
            "1/1 [==============================] - 0s 6ms/step - loss: 0.6063 - mae: 0.6063\n",
            "Epoch 29/100\n",
            "1/1 [==============================] - 0s 6ms/step - loss: 0.5471 - mae: 0.5471\n",
            "Epoch 30/100\n",
            "1/1 [==============================] - 0s 5ms/step - loss: 0.8773 - mae: 0.8773\n",
            "Epoch 31/100\n",
            "1/1 [==============================] - 0s 9ms/step - loss: 0.7229 - mae: 0.7229\n",
            "Epoch 32/100\n",
            "1/1 [==============================] - 0s 4ms/step - loss: 1.0312 - mae: 1.0312\n",
            "Epoch 33/100\n",
            "1/1 [==============================] - 0s 5ms/step - loss: 0.6022 - mae: 0.6022\n",
            "Epoch 34/100\n",
            "1/1 [==============================] - 0s 4ms/step - loss: 0.9565 - mae: 0.9565\n",
            "Epoch 35/100\n",
            "1/1 [==============================] - 0s 4ms/step - loss: 0.6271 - mae: 0.6271\n",
            "Epoch 36/100\n",
            "1/1 [==============================] - 0s 7ms/step - loss: 1.1277 - mae: 1.1277\n",
            "Epoch 37/100\n",
            "1/1 [==============================] - 0s 6ms/step - loss: 0.9582 - mae: 0.9582\n",
            "Epoch 38/100\n",
            "1/1 [==============================] - 0s 5ms/step - loss: 0.7532 - mae: 0.7532\n",
            "Epoch 39/100\n",
            "1/1 [==============================] - 0s 7ms/step - loss: 0.8627 - mae: 0.8627\n",
            "Epoch 40/100\n",
            "1/1 [==============================] - 0s 5ms/step - loss: 0.9813 - mae: 0.9813\n",
            "Epoch 41/100\n",
            "1/1 [==============================] - 0s 6ms/step - loss: 0.8778 - mae: 0.8778\n",
            "Epoch 42/100\n",
            "1/1 [==============================] - 0s 6ms/step - loss: 0.4445 - mae: 0.4445\n",
            "Epoch 43/100\n",
            "1/1 [==============================] - 0s 6ms/step - loss: 0.2769 - mae: 0.2769\n",
            "Epoch 44/100\n",
            "1/1 [==============================] - 0s 6ms/step - loss: 0.6310 - mae: 0.6310\n",
            "Epoch 45/100\n",
            "1/1 [==============================] - 0s 5ms/step - loss: 0.3484 - mae: 0.3484\n",
            "Epoch 46/100\n",
            "1/1 [==============================] - 0s 6ms/step - loss: 0.3114 - mae: 0.3114\n",
            "Epoch 47/100\n",
            "1/1 [==============================] - 0s 4ms/step - loss: 0.2814 - mae: 0.2814\n",
            "Epoch 48/100\n",
            "1/1 [==============================] - 0s 6ms/step - loss: 0.2799 - mae: 0.2799\n",
            "Epoch 49/100\n",
            "1/1 [==============================] - 0s 7ms/step - loss: 0.6918 - mae: 0.6918\n",
            "Epoch 50/100\n",
            "1/1 [==============================] - 0s 4ms/step - loss: 0.1425 - mae: 0.1425\n",
            "Epoch 51/100\n",
            "1/1 [==============================] - 0s 6ms/step - loss: 1.5208 - mae: 1.5208\n",
            "Epoch 52/100\n",
            "1/1 [==============================] - 0s 6ms/step - loss: 1.6428 - mae: 1.6428\n",
            "Epoch 53/100\n",
            "1/1 [==============================] - 0s 4ms/step - loss: 0.4434 - mae: 0.4434\n",
            "Epoch 54/100\n",
            "1/1 [==============================] - 0s 6ms/step - loss: 1.6013 - mae: 1.6013\n",
            "Epoch 55/100\n",
            "1/1 [==============================] - 0s 5ms/step - loss: 2.3192 - mae: 2.3192\n",
            "Epoch 56/100\n",
            "1/1 [==============================] - 0s 7ms/step - loss: 2.0802 - mae: 2.0802\n",
            "Epoch 57/100\n",
            "1/1 [==============================] - 0s 5ms/step - loss: 0.9589 - mae: 0.9589\n",
            "Epoch 58/100\n",
            "1/1 [==============================] - 0s 4ms/step - loss: 1.2170 - mae: 1.2170\n",
            "Epoch 59/100\n",
            "1/1 [==============================] - 0s 14ms/step - loss: 1.9107 - mae: 1.9107\n",
            "Epoch 60/100\n",
            "1/1 [==============================] - 0s 10ms/step - loss: 1.3306 - mae: 1.3306\n",
            "Epoch 61/100\n",
            "1/1 [==============================] - 0s 12ms/step - loss: 0.4644 - mae: 0.4644\n",
            "Epoch 62/100\n",
            "1/1 [==============================] - 0s 12ms/step - loss: 0.6882 - mae: 0.6882\n",
            "Epoch 63/100\n",
            "1/1 [==============================] - 0s 5ms/step - loss: 0.2622 - mae: 0.2622\n",
            "Epoch 64/100\n",
            "1/1 [==============================] - 0s 8ms/step - loss: 0.5846 - mae: 0.5846\n",
            "Epoch 65/100\n",
            "1/1 [==============================] - 0s 5ms/step - loss: 0.2709 - mae: 0.2709\n",
            "Epoch 66/100\n",
            "1/1 [==============================] - 0s 5ms/step - loss: 0.2930 - mae: 0.2930\n",
            "Epoch 67/100\n",
            "1/1 [==============================] - 0s 5ms/step - loss: 0.3083 - mae: 0.3083\n",
            "Epoch 68/100\n",
            "1/1 [==============================] - 0s 9ms/step - loss: 0.2487 - mae: 0.2487\n",
            "Epoch 69/100\n",
            "1/1 [==============================] - 0s 9ms/step - loss: 0.5931 - mae: 0.5931\n",
            "Epoch 70/100\n",
            "1/1 [==============================] - 0s 8ms/step - loss: 0.1638 - mae: 0.1638\n",
            "Epoch 71/100\n",
            "1/1 [==============================] - 0s 9ms/step - loss: 1.2686 - mae: 1.2686\n",
            "Epoch 72/100\n",
            "1/1 [==============================] - 0s 5ms/step - loss: 1.4780 - mae: 1.4780\n",
            "Epoch 73/100\n",
            "1/1 [==============================] - 0s 4ms/step - loss: 0.9672 - mae: 0.9672\n",
            "Epoch 74/100\n",
            "1/1 [==============================] - 0s 7ms/step - loss: 0.5415 - mae: 0.5415\n",
            "Epoch 75/100\n",
            "1/1 [==============================] - 0s 4ms/step - loss: 0.8166 - mae: 0.8166\n",
            "Epoch 76/100\n",
            "1/1 [==============================] - 0s 3ms/step - loss: 0.1464 - mae: 0.1464\n",
            "Epoch 77/100\n",
            "1/1 [==============================] - 0s 5ms/step - loss: 0.3701 - mae: 0.3701\n",
            "Epoch 78/100\n",
            "1/1 [==============================] - 0s 4ms/step - loss: 0.3109 - mae: 0.3109\n",
            "Epoch 79/100\n",
            "1/1 [==============================] - 0s 15ms/step - loss: 0.3347 - mae: 0.3347\n",
            "Epoch 80/100\n",
            "1/1 [==============================] - 0s 4ms/step - loss: 0.4427 - mae: 0.4427\n",
            "Epoch 81/100\n",
            "1/1 [==============================] - 0s 4ms/step - loss: 0.3395 - mae: 0.3395\n",
            "Epoch 82/100\n",
            "1/1 [==============================] - 0s 4ms/step - loss: 0.1310 - mae: 0.1310\n",
            "Epoch 83/100\n",
            "1/1 [==============================] - 0s 4ms/step - loss: 0.3693 - mae: 0.3693\n",
            "Epoch 84/100\n",
            "1/1 [==============================] - 0s 4ms/step - loss: 0.2933 - mae: 0.2933\n",
            "Epoch 85/100\n",
            "1/1 [==============================] - 0s 4ms/step - loss: 0.2889 - mae: 0.2889\n",
            "Epoch 86/100\n",
            "1/1 [==============================] - 0s 10ms/step - loss: 0.1642 - mae: 0.1642\n",
            "Epoch 87/100\n",
            "1/1 [==============================] - 0s 6ms/step - loss: 0.2371 - mae: 0.2371\n",
            "Epoch 88/100\n",
            "1/1 [==============================] - 0s 3ms/step - loss: 0.2431 - mae: 0.2431\n",
            "Epoch 89/100\n",
            "1/1 [==============================] - 0s 4ms/step - loss: 0.4970 - mae: 0.4970\n",
            "Epoch 90/100\n",
            "1/1 [==============================] - 0s 4ms/step - loss: 0.3579 - mae: 0.3579\n",
            "Epoch 91/100\n",
            "1/1 [==============================] - 0s 6ms/step - loss: 0.2289 - mae: 0.2289\n",
            "Epoch 92/100\n",
            "1/1 [==============================] - 0s 4ms/step - loss: 0.5734 - mae: 0.5734\n",
            "Epoch 93/100\n",
            "1/1 [==============================] - 0s 7ms/step - loss: 0.5273 - mae: 0.5273\n",
            "Epoch 94/100\n",
            "1/1 [==============================] - 0s 4ms/step - loss: 0.5575 - mae: 0.5575\n",
            "Epoch 95/100\n",
            "1/1 [==============================] - 0s 7ms/step - loss: 0.1697 - mae: 0.1697\n",
            "Epoch 96/100\n",
            "1/1 [==============================] - 0s 4ms/step - loss: 0.5973 - mae: 0.5973\n",
            "Epoch 97/100\n",
            "1/1 [==============================] - 0s 7ms/step - loss: 0.4713 - mae: 0.4713\n",
            "Epoch 98/100\n",
            "1/1 [==============================] - 0s 4ms/step - loss: 0.3242 - mae: 0.3242\n",
            "Epoch 99/100\n",
            "1/1 [==============================] - 0s 4ms/step - loss: 0.5095 - mae: 0.5095\n",
            "Epoch 100/100\n",
            "1/1 [==============================] - 0s 6ms/step - loss: 0.4581 - mae: 0.4581\n"
          ],
          "name": "stdout"
        },
        {
          "output_type": "execute_result",
          "data": {
            "text/plain": [
              "<tensorflow.python.keras.callbacks.History at 0x7f539f4ca5d0>"
            ]
          },
          "metadata": {
            "tags": []
          },
          "execution_count": 21
        }
      ]
    },
    {
      "cell_type": "code",
      "metadata": {
        "id": "SjODEPkcNGUt"
      },
      "source": [
        "# Try to make a prediction using our model\n",
        "\n",
        "y_pred = model.predict([17.0]) "
      ],
      "execution_count": 22,
      "outputs": []
    },
    {
      "cell_type": "code",
      "metadata": {
        "colab": {
          "base_uri": "https://localhost:8080/"
        },
        "id": "gyiJQn3JNPAO",
        "outputId": "18e7fa6e-c19f-4efc-bdcc-978f8352fd48"
      },
      "source": [
        "y_pred ##The model is overfitting and therefore it is giving a poor result."
      ],
      "execution_count": 23,
      "outputs": [
        {
          "output_type": "execute_result",
          "data": {
            "text/plain": [
              "array([[28.32901]], dtype=float32)"
            ]
          },
          "metadata": {
            "tags": []
          },
          "execution_count": 23
        }
      ]
    },
    {
      "cell_type": "markdown",
      "metadata": {
        "id": "Y1et5U7aN0Is"
      },
      "source": [
        "### Evaluating a model \n",
        "\n",
        "A typical workflow you'll go through when building neural networks is:\n",
        "\n",
        "Build a model -> evaluate it -> build (tweak) a model -> evaulate it -> build (tweak) a model -> evaluate it...\n",
        "\n",
        "The tweaking comes from maybe not building a model from scratch but adjusting an existing one."
      ]
    },
    {
      "cell_type": "markdown",
      "metadata": {
        "id": "gf_INRqlPhDP"
      },
      "source": [
        "When it comes to evaluation, you'll want to remember the words: \"visualize, visualize, visualize.\"\n",
        "\n",
        "This is because you're probably better looking at something (doing) than you are thinking about something.\n",
        "\n",
        "It's a good idea to visualize:\n",
        "\n",
        "**The data** - what data are you working with? What does it look like?\n",
        "\n",
        "**The model itself** - what does the architecture look like? What are the different shapes?\n",
        "\n",
        "**The training of a model** - how does a model perform while it learns?\n",
        "\n",
        "**The predictions of a model** - how do the predictions of a model line up against the ground truth (the original labels)?\n",
        "\n",
        "Let's start by visualizing the model.\n",
        "\n",
        "But first, we'll create a little bit of a bigger dataset and a new model we can use (it'll be the same as before, but the more practice the better)"
      ]
    },
    {
      "cell_type": "code",
      "metadata": {
        "colab": {
          "base_uri": "https://localhost:8080/"
        },
        "id": "qUBM6A3uW0o5",
        "outputId": "0d2b2a68-85eb-4107-fc8d-2761187e59fa"
      },
      "source": [
        "# Make a bigger dataset\n",
        "X = tf.range(-100,100,4)\n",
        "X"
      ],
      "execution_count": 24,
      "outputs": [
        {
          "output_type": "execute_result",
          "data": {
            "text/plain": [
              "<tf.Tensor: shape=(50,), dtype=int32, numpy=\n",
              "array([-100,  -96,  -92,  -88,  -84,  -80,  -76,  -72,  -68,  -64,  -60,\n",
              "        -56,  -52,  -48,  -44,  -40,  -36,  -32,  -28,  -24,  -20,  -16,\n",
              "        -12,   -8,   -4,    0,    4,    8,   12,   16,   20,   24,   28,\n",
              "         32,   36,   40,   44,   48,   52,   56,   60,   64,   68,   72,\n",
              "         76,   80,   84,   88,   92,   96], dtype=int32)>"
            ]
          },
          "metadata": {
            "tags": []
          },
          "execution_count": 24
        }
      ]
    },
    {
      "cell_type": "code",
      "metadata": {
        "colab": {
          "base_uri": "https://localhost:8080/"
        },
        "id": "Ap5MkMl5XXY0",
        "outputId": "b34f2324-52f0-419c-fe66-3e6bda950e7b"
      },
      "source": [
        "# Make labels for the dataset\n",
        "y = X + 10\n",
        "y"
      ],
      "execution_count": 25,
      "outputs": [
        {
          "output_type": "execute_result",
          "data": {
            "text/plain": [
              "<tf.Tensor: shape=(50,), dtype=int32, numpy=\n",
              "array([-90, -86, -82, -78, -74, -70, -66, -62, -58, -54, -50, -46, -42,\n",
              "       -38, -34, -30, -26, -22, -18, -14, -10,  -6,  -2,   2,   6,  10,\n",
              "        14,  18,  22,  26,  30,  34,  38,  42,  46,  50,  54,  58,  62,\n",
              "        66,  70,  74,  78,  82,  86,  90,  94,  98, 102, 106], dtype=int32)>"
            ]
          },
          "metadata": {
            "tags": []
          },
          "execution_count": 25
        }
      ]
    },
    {
      "cell_type": "code",
      "metadata": {
        "colab": {
          "base_uri": "https://localhost:8080/",
          "height": 265
        },
        "id": "sVH_5eWjY1u2",
        "outputId": "80a4d2d0-7843-4b24-914a-e7d9799997f5"
      },
      "source": [
        "# Visualize the data\n",
        "plt.scatter(X,y);"
      ],
      "execution_count": 26,
      "outputs": [
        {
          "output_type": "display_data",
          "data": {
            "image/png": "[encoded data removed]",
            "text/plain": [
              "<Figure size 432x288 with 1 Axes>"
            ]
          },
          "metadata": {
            "tags": []
          }
        }
      ]
    },
    {
      "cell_type": "markdown",
      "metadata": {
        "id": "u-4sn3yYZ9WM"
      },
      "source": [
        "### The 3 sets...\n",
        "\n",
        "Each set serves a specific purpose:\n",
        "\n",
        "**Training set** - the model learns from this data, which is typically 70-80% of the total data available (like the course materials you study during the semester).\n",
        "\n",
        "**Validation set** - the model gets tuned on this data, which is typically 10-15% of the total data available (like the practice exam you take before the final exam).\n",
        "\n",
        "**Test set** - the model gets evaluated on this data to test what it has learned, it's typically 10-15% of the total data available (like the final exam you take at the end of the semester).\n",
        "\n",
        "For now, we'll just use a training and test set, this means we'll have a dataset for our model to learn on as well as be evaluated on.\n",
        "\n",
        "We can create them by splitting our X and y arrays.\n",
        "\n",
        "🔑 Note: When dealing with real-world data, this step is typically done right at the start of a project (the test set should always be kept separate from all other data). We want our model to learn on training data and then evaluate it on test data to get an indication of how well it generalizes to unseen examples."
      ]
    },
    {
      "cell_type": "code",
      "metadata": {
        "colab": {
          "base_uri": "https://localhost:8080/"
        },
        "id": "dQYdx5JXbTW9",
        "outputId": "8226ff21-62c5-4218-e8ce-90ac4fda2f8d"
      },
      "source": [
        "#Check the number of samples we have\n",
        "len(X)"
      ],
      "execution_count": 27,
      "outputs": [
        {
          "output_type": "execute_result",
          "data": {
            "text/plain": [
              "50"
            ]
          },
          "metadata": {
            "tags": []
          },
          "execution_count": 27
        }
      ]
    },
    {
      "cell_type": "code",
      "metadata": {
        "colab": {
          "base_uri": "https://localhost:8080/"
        },
        "id": "ltnqTN0LbZRI",
        "outputId": "04a72059-b953-4383-c622-2d38b1d0174e"
      },
      "source": [
        "#Split the data into training and test sets\n",
        "\n",
        "X_train = X[:40] #First 40 examples (80% of the data)\n",
        "y_train = y[:40]\n",
        "\n",
        "X_test = X[40:] # Last 10 Examples (20% of data)\n",
        "y_test = y[40:]\n",
        "\n",
        "len(X_train), len(X_test)"
      ],
      "execution_count": 28,
      "outputs": [
        {
          "output_type": "execute_result",
          "data": {
            "text/plain": [
              "(40, 10)"
            ]
          },
          "metadata": {
            "tags": []
          },
          "execution_count": 28
        }
      ]
    },
    {
      "cell_type": "markdown",
      "metadata": {
        "id": "Jz83b6zsbvBr"
      },
      "source": [
        "## Visualizing the data\n",
        "\n",
        "Now we've got our training and test data, it's a good idea to visualize it.\n",
        "\n",
        "Let's plot it with some nice colours to differentiate what's what."
      ]
    },
    {
      "cell_type": "code",
      "metadata": {
        "colab": {
          "base_uri": "https://localhost:8080/",
          "height": 428
        },
        "id": "yl83PgHzb0zT",
        "outputId": "205686dc-3592-482c-92c6-7640d87b2048"
      },
      "source": [
        "plt.figure(figsize = (10,7))\n",
        "\n",
        "#Plot training data to blue\n",
        "plt.scatter(X_train,y_train, c ='b', label = 'Training Data')\n",
        "\n",
        "#Plot test data to green\n",
        "plt.scatter(X_test,y_test, c='g', label = 'Testing data')\n",
        "plt.legend();"
      ],
      "execution_count": 29,
      "outputs": [
        {
          "output_type": "display_data",
          "data": {
            "image/png": "[encoded data removed]",
            "text/plain": [
              "<Figure size 720x504 with 1 Axes>"
            ]
          },
          "metadata": {
            "tags": []
          }
        }
      ]
    },
    {
      "cell_type": "code",
      "metadata": {
        "colab": {
          "base_uri": "https://localhost:8080/"
        },
        "id": "fKYTQ-wIcNtp",
        "outputId": "99249492-23a9-4202-f1c8-29cf42edbfeb"
      },
      "source": [
        "#Let's have a look at how to build a neural network for our data\n",
        "\n",
        "# 1. Create a model\n",
        "\n",
        "model = tf.keras.Sequential()\n",
        "model.add(tf.keras.layers.Dense(1))\n",
        "\n",
        "# 2. Compile a model\n",
        "model.compile(loss = tf.keras.losses.mae,\n",
        "              optimizer = tf.keras.optimizers.Adam(learning_rate= 0.01),\n",
        "              metrics = ['mae'])\n",
        "\n",
        "# 3. Fit the model\n",
        "model.fit(X_train, y_train, epochs = 100)"
      ],
      "execution_count": 30,
      "outputs": [
        {
          "output_type": "stream",
          "text": [
            "Epoch 1/100\n",
            "2/2 [==============================] - 0s 6ms/step - loss: 8.1530 - mae: 8.1530\n",
            "Epoch 2/100\n",
            "2/2 [==============================] - 0s 3ms/step - loss: 7.8493 - mae: 7.8493\n",
            "Epoch 3/100\n",
            "2/2 [==============================] - 0s 3ms/step - loss: 7.6240 - mae: 7.6240\n",
            "Epoch 4/100\n",
            "2/2 [==============================] - 0s 3ms/step - loss: 7.5539 - mae: 7.5539\n",
            "Epoch 5/100\n",
            "2/2 [==============================] - 0s 5ms/step - loss: 7.5999 - mae: 7.5999\n",
            "Epoch 6/100\n",
            "2/2 [==============================] - 0s 6ms/step - loss: 7.7012 - mae: 7.7012\n",
            "Epoch 7/100\n",
            "2/2 [==============================] - 0s 3ms/step - loss: 7.7001 - mae: 7.7001\n",
            "Epoch 8/100\n",
            "2/2 [==============================] - 0s 7ms/step - loss: 7.6143 - mae: 7.6143\n",
            "Epoch 9/100\n",
            "2/2 [==============================] - 0s 4ms/step - loss: 7.5518 - mae: 7.5518\n",
            "Epoch 10/100\n",
            "2/2 [==============================] - 0s 5ms/step - loss: 7.5005 - mae: 7.5005\n",
            "Epoch 11/100\n",
            "2/2 [==============================] - 0s 3ms/step - loss: 7.4694 - mae: 7.4694\n",
            "Epoch 12/100\n",
            "2/2 [==============================] - 0s 5ms/step - loss: 7.4479 - mae: 7.4479\n",
            "Epoch 13/100\n",
            "2/2 [==============================] - 0s 3ms/step - loss: 7.4363 - mae: 7.4363\n",
            "Epoch 14/100\n",
            "2/2 [==============================] - 0s 7ms/step - loss: 7.4201 - mae: 7.4201\n",
            "Epoch 15/100\n",
            "2/2 [==============================] - 0s 3ms/step - loss: 7.4074 - mae: 7.4074\n",
            "Epoch 16/100\n",
            "2/2 [==============================] - 0s 5ms/step - loss: 7.3959 - mae: 7.3959\n",
            "Epoch 17/100\n",
            "2/2 [==============================] - 0s 7ms/step - loss: 7.3905 - mae: 7.3905\n",
            "Epoch 18/100\n",
            "2/2 [==============================] - 0s 3ms/step - loss: 7.3726 - mae: 7.3726\n",
            "Epoch 19/100\n",
            "2/2 [==============================] - 0s 6ms/step - loss: 7.3452 - mae: 7.3452\n",
            "Epoch 20/100\n",
            "2/2 [==============================] - 0s 5ms/step - loss: 7.3295 - mae: 7.3295\n",
            "Epoch 21/100\n",
            "2/2 [==============================] - 0s 6ms/step - loss: 7.3187 - mae: 7.3187\n",
            "Epoch 22/100\n",
            "2/2 [==============================] - 0s 4ms/step - loss: 7.3040 - mae: 7.3040\n",
            "Epoch 23/100\n",
            "2/2 [==============================] - 0s 5ms/step - loss: 7.2875 - mae: 7.2875\n",
            "Epoch 24/100\n",
            "2/2 [==============================] - 0s 3ms/step - loss: 7.2757 - mae: 7.2757\n",
            "Epoch 25/100\n",
            "2/2 [==============================] - 0s 3ms/step - loss: 7.2552 - mae: 7.2552\n",
            "Epoch 26/100\n",
            "2/2 [==============================] - 0s 4ms/step - loss: 7.2401 - mae: 7.2401\n",
            "Epoch 27/100\n",
            "2/2 [==============================] - 0s 10ms/step - loss: 7.2253 - mae: 7.2253\n",
            "Epoch 28/100\n",
            "2/2 [==============================] - 0s 3ms/step - loss: 7.2103 - mae: 7.2103\n",
            "Epoch 29/100\n",
            "2/2 [==============================] - 0s 3ms/step - loss: 7.1948 - mae: 7.1948\n",
            "Epoch 30/100\n",
            "2/2 [==============================] - 0s 3ms/step - loss: 7.1816 - mae: 7.1816\n",
            "Epoch 31/100\n",
            "2/2 [==============================] - 0s 5ms/step - loss: 7.1639 - mae: 7.1639\n",
            "Epoch 32/100\n",
            "2/2 [==============================] - 0s 7ms/step - loss: 7.1491 - mae: 7.1491\n",
            "Epoch 33/100\n",
            "2/2 [==============================] - 0s 3ms/step - loss: 7.1471 - mae: 7.1471\n",
            "Epoch 34/100\n",
            "2/2 [==============================] - 0s 3ms/step - loss: 7.1394 - mae: 7.1394\n",
            "Epoch 35/100\n",
            "2/2 [==============================] - 0s 3ms/step - loss: 7.1295 - mae: 7.1295\n",
            "Epoch 36/100\n",
            "2/2 [==============================] - 0s 3ms/step - loss: 7.1178 - mae: 7.1178\n",
            "Epoch 37/100\n",
            "2/2 [==============================] - 0s 2ms/step - loss: 7.1182 - mae: 7.1182\n",
            "Epoch 38/100\n",
            "2/2 [==============================] - 0s 3ms/step - loss: 7.1208 - mae: 7.1208\n",
            "Epoch 39/100\n",
            "2/2 [==============================] - 0s 7ms/step - loss: 7.1111 - mae: 7.1111\n",
            "Epoch 40/100\n",
            "2/2 [==============================] - 0s 3ms/step - loss: 7.0780 - mae: 7.0780\n",
            "Epoch 41/100\n",
            "2/2 [==============================] - 0s 3ms/step - loss: 7.0465 - mae: 7.0465\n",
            "Epoch 42/100\n",
            "2/2 [==============================] - 0s 3ms/step - loss: 7.0101 - mae: 7.0101\n",
            "Epoch 43/100\n",
            "2/2 [==============================] - 0s 4ms/step - loss: 6.9910 - mae: 6.9910\n",
            "Epoch 44/100\n",
            "2/2 [==============================] - 0s 4ms/step - loss: 6.9986 - mae: 6.9986\n",
            "Epoch 45/100\n",
            "2/2 [==============================] - 0s 3ms/step - loss: 6.9754 - mae: 6.9754\n",
            "Epoch 46/100\n",
            "2/2 [==============================] - 0s 3ms/step - loss: 6.9482 - mae: 6.9482\n",
            "Epoch 47/100\n",
            "2/2 [==============================] - 0s 3ms/step - loss: 6.9256 - mae: 6.9256\n",
            "Epoch 48/100\n",
            "2/2 [==============================] - 0s 3ms/step - loss: 6.9281 - mae: 6.9281\n",
            "Epoch 49/100\n",
            "2/2 [==============================] - 0s 10ms/step - loss: 6.9395 - mae: 6.9395\n",
            "Epoch 50/100\n",
            "2/2 [==============================] - 0s 3ms/step - loss: 6.9503 - mae: 6.9503\n",
            "Epoch 51/100\n",
            "2/2 [==============================] - 0s 4ms/step - loss: 6.9516 - mae: 6.9516\n",
            "Epoch 52/100\n",
            "2/2 [==============================] - 0s 3ms/step - loss: 6.9307 - mae: 6.9307\n",
            "Epoch 53/100\n",
            "2/2 [==============================] - 0s 3ms/step - loss: 6.8743 - mae: 6.8743\n",
            "Epoch 54/100\n",
            "2/2 [==============================] - 0s 3ms/step - loss: 6.8412 - mae: 6.8412\n",
            "Epoch 55/100\n",
            "2/2 [==============================] - 0s 3ms/step - loss: 6.8163 - mae: 6.8163\n",
            "Epoch 56/100\n",
            "2/2 [==============================] - 0s 4ms/step - loss: 6.7952 - mae: 6.7952\n",
            "Epoch 57/100\n",
            "2/2 [==============================] - 0s 5ms/step - loss: 6.7750 - mae: 6.7750\n",
            "Epoch 58/100\n",
            "2/2 [==============================] - 0s 4ms/step - loss: 6.7939 - mae: 6.7939\n",
            "Epoch 59/100\n",
            "2/2 [==============================] - 0s 4ms/step - loss: 6.8071 - mae: 6.8071\n",
            "Epoch 60/100\n",
            "2/2 [==============================] - 0s 4ms/step - loss: 6.7892 - mae: 6.7892\n",
            "Epoch 61/100\n",
            "2/2 [==============================] - 0s 3ms/step - loss: 6.7415 - mae: 6.7415\n",
            "Epoch 62/100\n",
            "2/2 [==============================] - 0s 3ms/step - loss: 6.7113 - mae: 6.7113\n",
            "Epoch 63/100\n",
            "2/2 [==============================] - 0s 4ms/step - loss: 6.6869 - mae: 6.6869\n",
            "Epoch 64/100\n",
            "2/2 [==============================] - 0s 3ms/step - loss: 6.7130 - mae: 6.7130\n",
            "Epoch 65/100\n",
            "2/2 [==============================] - 0s 3ms/step - loss: 6.7074 - mae: 6.7074\n",
            "Epoch 66/100\n",
            "2/2 [==============================] - 0s 4ms/step - loss: 6.6838 - mae: 6.6838\n",
            "Epoch 67/100\n",
            "2/2 [==============================] - 0s 4ms/step - loss: 6.6478 - mae: 6.6478\n",
            "Epoch 68/100\n",
            "2/2 [==============================] - 0s 3ms/step - loss: 6.6295 - mae: 6.6295\n",
            "Epoch 69/100\n",
            "2/2 [==============================] - 0s 3ms/step - loss: 6.6045 - mae: 6.6045\n",
            "Epoch 70/100\n",
            "2/2 [==============================] - 0s 4ms/step - loss: 6.5924 - mae: 6.5924\n",
            "Epoch 71/100\n",
            "2/2 [==============================] - 0s 5ms/step - loss: 6.5738 - mae: 6.5738\n",
            "Epoch 72/100\n",
            "2/2 [==============================] - 0s 11ms/step - loss: 6.5717 - mae: 6.5717\n",
            "Epoch 73/100\n",
            "2/2 [==============================] - 0s 7ms/step - loss: 6.5760 - mae: 6.5760\n",
            "Epoch 74/100\n",
            "2/2 [==============================] - 0s 18ms/step - loss: 6.5773 - mae: 6.5773\n",
            "Epoch 75/100\n",
            "2/2 [==============================] - 0s 4ms/step - loss: 6.5687 - mae: 6.5687\n",
            "Epoch 76/100\n",
            "2/2 [==============================] - 0s 5ms/step - loss: 6.5246 - mae: 6.5246\n",
            "Epoch 77/100\n",
            "2/2 [==============================] - 0s 6ms/step - loss: 6.4774 - mae: 6.4774\n",
            "Epoch 78/100\n",
            "2/2 [==============================] - 0s 3ms/step - loss: 6.4642 - mae: 6.4642\n",
            "Epoch 79/100\n",
            "2/2 [==============================] - 0s 3ms/step - loss: 6.4966 - mae: 6.4966\n",
            "Epoch 80/100\n",
            "2/2 [==============================] - 0s 6ms/step - loss: 6.4972 - mae: 6.4972\n",
            "Epoch 81/100\n",
            "2/2 [==============================] - 0s 3ms/step - loss: 6.4769 - mae: 6.4769\n",
            "Epoch 82/100\n",
            "2/2 [==============================] - 0s 3ms/step - loss: 6.4368 - mae: 6.4368\n",
            "Epoch 83/100\n",
            "2/2 [==============================] - 0s 5ms/step - loss: 6.4121 - mae: 6.4121\n",
            "Epoch 84/100\n",
            "2/2 [==============================] - 0s 8ms/step - loss: 6.3710 - mae: 6.3710\n",
            "Epoch 85/100\n",
            "2/2 [==============================] - 0s 6ms/step - loss: 6.3753 - mae: 6.3753\n",
            "Epoch 86/100\n",
            "2/2 [==============================] - 0s 6ms/step - loss: 6.3559 - mae: 6.3559\n",
            "Epoch 87/100\n",
            "2/2 [==============================] - 0s 5ms/step - loss: 6.3487 - mae: 6.3487\n",
            "Epoch 88/100\n",
            "2/2 [==============================] - 0s 6ms/step - loss: 6.3323 - mae: 6.3323\n",
            "Epoch 89/100\n",
            "2/2 [==============================] - 0s 4ms/step - loss: 6.3393 - mae: 6.3393\n",
            "Epoch 90/100\n",
            "2/2 [==============================] - 0s 5ms/step - loss: 6.3272 - mae: 6.3272\n",
            "Epoch 91/100\n",
            "2/2 [==============================] - 0s 3ms/step - loss: 6.3016 - mae: 6.3016\n",
            "Epoch 92/100\n",
            "2/2 [==============================] - 0s 5ms/step - loss: 6.2559 - mae: 6.2559\n",
            "Epoch 93/100\n",
            "2/2 [==============================] - 0s 4ms/step - loss: 6.2359 - mae: 6.2359\n",
            "Epoch 94/100\n",
            "2/2 [==============================] - 0s 10ms/step - loss: 6.2400 - mae: 6.2400\n",
            "Epoch 95/100\n",
            "2/2 [==============================] - 0s 3ms/step - loss: 6.2324 - mae: 6.2324\n",
            "Epoch 96/100\n",
            "2/2 [==============================] - 0s 5ms/step - loss: 6.2297 - mae: 6.2297\n",
            "Epoch 97/100\n",
            "2/2 [==============================] - 0s 5ms/step - loss: 6.2045 - mae: 6.2045\n",
            "Epoch 98/100\n",
            "2/2 [==============================] - 0s 4ms/step - loss: 6.1725 - mae: 6.1725\n",
            "Epoch 99/100\n",
            "2/2 [==============================] - 0s 4ms/step - loss: 6.1530 - mae: 6.1530\n",
            "Epoch 100/100\n",
            "2/2 [==============================] - 0s 5ms/step - loss: 6.1377 - mae: 6.1377\n"
          ],
          "name": "stdout"
        },
        {
          "output_type": "execute_result",
          "data": {
            "text/plain": [
              "<tensorflow.python.keras.callbacks.History at 0x7f539ed1c0d0>"
            ]
          },
          "metadata": {
            "tags": []
          },
          "execution_count": 30
        }
      ]
    },
    {
      "cell_type": "markdown",
      "metadata": {
        "id": "YHB7Kdf7hUfs"
      },
      "source": [
        "## Visualizing the model"
      ]
    },
    {
      "cell_type": "code",
      "metadata": {
        "colab": {
          "base_uri": "https://localhost:8080/"
        },
        "id": "FUZTl2pwhkTk",
        "outputId": "b9e39d37-244b-4054-f9ab-3e9a0facbb1d"
      },
      "source": [
        "model.summary()"
      ],
      "execution_count": 31,
      "outputs": [
        {
          "output_type": "stream",
          "text": [
            "Model: \"sequential_3\"\n",
            "_________________________________________________________________\n",
            "Layer (type)                 Output Shape              Param #   \n",
            "=================================================================\n",
            "dense_4 (Dense)              (None, 1)                 2         \n",
            "=================================================================\n",
            "Total params: 2\n",
            "Trainable params: 2\n",
            "Non-trainable params: 0\n",
            "_________________________________________________________________\n"
          ],
          "name": "stdout"
        }
      ]
    },
    {
      "cell_type": "code",
      "metadata": {
        "colab": {
          "base_uri": "https://localhost:8080/"
        },
        "id": "WMTjVj3CiMCR",
        "outputId": "00e8225d-5cef-4f45-84db-b0105e137108"
      },
      "source": [
        "X[0], y[0]"
      ],
      "execution_count": 32,
      "outputs": [
        {
          "output_type": "execute_result",
          "data": {
            "text/plain": [
              "(<tf.Tensor: shape=(), dtype=int32, numpy=-100>,\n",
              " <tf.Tensor: shape=(), dtype=int32, numpy=-90>)"
            ]
          },
          "metadata": {
            "tags": []
          },
          "execution_count": 32
        }
      ]
    },
    {
      "cell_type": "code",
      "metadata": {
        "colab": {
          "base_uri": "https://localhost:8080/"
        },
        "id": "0aRpJdA8hmnA",
        "outputId": "6a545323-7c93-48e3-97e7-d4dbbeb649f9"
      },
      "source": [
        "# Let's create a model which builds automatically by defining the input_shape n the first layer\n",
        "\n",
        "tf.random.set_seed(42)\n",
        "\n",
        "# Create a model\n",
        "\n",
        "model = tf.keras.Sequential(name= 'Model1')\n",
        "(model.add(tf.keras.layers.Dense(10, input_shape=[1], name='input_layer'\n",
        " )), )\n",
        "model.add(tf.keras.layers.Dense(1, name='output_layer'))\n",
        "\n",
        "# Compile a model\n",
        "\n",
        "model.compile(loss=tf.keras.losses.mae,\n",
        "              optimizer=tf.keras.optimizers.Adam(learning_rate=0.01),\n",
        "              metrics=['mae'])\n",
        "\n",
        "# Fit a model\n",
        "\n",
        "model.fit(X_train, y_train, epochs=100)"
      ],
      "execution_count": 33,
      "outputs": [
        {
          "output_type": "stream",
          "text": [
            "Epoch 1/100\n",
            "2/2 [==============================] - 0s 7ms/step - loss: 24.7643 - mae: 24.7643\n",
            "Epoch 2/100\n",
            "2/2 [==============================] - 0s 5ms/step - loss: 19.0262 - mae: 19.0262\n",
            "Epoch 3/100\n",
            "2/2 [==============================] - 0s 3ms/step - loss: 13.5870 - mae: 13.5870\n",
            "Epoch 4/100\n",
            "2/2 [==============================] - 0s 3ms/step - loss: 8.8757 - mae: 8.8757\n",
            "Epoch 5/100\n",
            "2/2 [==============================] - 0s 5ms/step - loss: 8.6327 - mae: 8.6327\n",
            "Epoch 6/100\n",
            "2/2 [==============================] - 0s 3ms/step - loss: 10.8266 - mae: 10.8266\n",
            "Epoch 7/100\n",
            "2/2 [==============================] - 0s 5ms/step - loss: 11.7706 - mae: 11.7706\n",
            "Epoch 8/100\n",
            "2/2 [==============================] - 0s 4ms/step - loss: 11.8001 - mae: 11.8001\n",
            "Epoch 9/100\n",
            "2/2 [==============================] - 0s 4ms/step - loss: 11.1962 - mae: 11.1962\n",
            "Epoch 10/100\n",
            "2/2 [==============================] - 0s 4ms/step - loss: 10.0506 - mae: 10.0506\n",
            "Epoch 11/100\n",
            "2/2 [==============================] - 0s 4ms/step - loss: 8.4785 - mae: 8.4785\n",
            "Epoch 12/100\n",
            "2/2 [==============================] - 0s 2ms/step - loss: 7.3061 - mae: 7.3061\n",
            "Epoch 13/100\n",
            "2/2 [==============================] - 0s 10ms/step - loss: 7.9295 - mae: 7.9295\n",
            "Epoch 14/100\n",
            "2/2 [==============================] - 0s 6ms/step - loss: 8.2075 - mae: 8.2075\n",
            "Epoch 15/100\n",
            "2/2 [==============================] - 0s 3ms/step - loss: 7.7219 - mae: 7.7219\n",
            "Epoch 16/100\n",
            "2/2 [==============================] - 0s 3ms/step - loss: 7.1421 - mae: 7.1421\n",
            "Epoch 17/100\n",
            "2/2 [==============================] - 0s 3ms/step - loss: 6.9032 - mae: 6.9032\n",
            "Epoch 18/100\n",
            "2/2 [==============================] - 0s 3ms/step - loss: 7.1171 - mae: 7.1171\n",
            "Epoch 19/100\n",
            "2/2 [==============================] - 0s 3ms/step - loss: 6.8713 - mae: 6.8713\n",
            "Epoch 20/100\n",
            "2/2 [==============================] - 0s 5ms/step - loss: 6.6966 - mae: 6.6966\n",
            "Epoch 21/100\n",
            "2/2 [==============================] - 0s 5ms/step - loss: 6.6737 - mae: 6.6737\n",
            "Epoch 22/100\n",
            "2/2 [==============================] - 0s 14ms/step - loss: 6.5517 - mae: 6.5517\n",
            "Epoch 23/100\n",
            "2/2 [==============================] - 0s 4ms/step - loss: 6.5632 - mae: 6.5632\n",
            "Epoch 24/100\n",
            "2/2 [==============================] - 0s 4ms/step - loss: 6.5071 - mae: 6.5071\n",
            "Epoch 25/100\n",
            "2/2 [==============================] - 0s 16ms/step - loss: 6.3482 - mae: 6.3482\n",
            "Epoch 26/100\n",
            "2/2 [==============================] - 0s 5ms/step - loss: 6.2796 - mae: 6.2796\n",
            "Epoch 27/100\n",
            "2/2 [==============================] - 0s 6ms/step - loss: 6.2361 - mae: 6.2361\n",
            "Epoch 28/100\n",
            "2/2 [==============================] - 0s 5ms/step - loss: 6.1653 - mae: 6.1653\n",
            "Epoch 29/100\n",
            "2/2 [==============================] - 0s 4ms/step - loss: 6.0706 - mae: 6.0706\n",
            "Epoch 30/100\n",
            "2/2 [==============================] - 0s 5ms/step - loss: 6.0291 - mae: 6.0291\n",
            "Epoch 31/100\n",
            "2/2 [==============================] - 0s 5ms/step - loss: 5.9077 - mae: 5.9077\n",
            "Epoch 32/100\n",
            "2/2 [==============================] - 0s 3ms/step - loss: 5.9504 - mae: 5.9504\n",
            "Epoch 33/100\n",
            "2/2 [==============================] - 0s 3ms/step - loss: 6.0770 - mae: 6.0770\n",
            "Epoch 34/100\n",
            "2/2 [==============================] - 0s 5ms/step - loss: 5.9371 - mae: 5.9371\n",
            "Epoch 35/100\n",
            "2/2 [==============================] - 0s 6ms/step - loss: 5.7583 - mae: 5.7583\n",
            "Epoch 36/100\n",
            "2/2 [==============================] - 0s 4ms/step - loss: 5.6100 - mae: 5.6100\n",
            "Epoch 37/100\n",
            "2/2 [==============================] - 0s 4ms/step - loss: 5.5049 - mae: 5.5049\n",
            "Epoch 38/100\n",
            "2/2 [==============================] - 0s 3ms/step - loss: 5.5993 - mae: 5.5993\n",
            "Epoch 39/100\n",
            "2/2 [==============================] - 0s 4ms/step - loss: 5.5565 - mae: 5.5565\n",
            "Epoch 40/100\n",
            "2/2 [==============================] - 0s 3ms/step - loss: 5.3353 - mae: 5.3353\n",
            "Epoch 41/100\n",
            "2/2 [==============================] - 0s 7ms/step - loss: 5.1988 - mae: 5.1988\n",
            "Epoch 42/100\n",
            "2/2 [==============================] - 0s 9ms/step - loss: 5.3877 - mae: 5.3877\n",
            "Epoch 43/100\n",
            "2/2 [==============================] - 0s 5ms/step - loss: 5.1514 - mae: 5.1514\n",
            "Epoch 44/100\n",
            "2/2 [==============================] - 0s 4ms/step - loss: 4.9465 - mae: 4.9465\n",
            "Epoch 45/100\n",
            "2/2 [==============================] - 0s 4ms/step - loss: 5.0810 - mae: 5.0810\n",
            "Epoch 46/100\n",
            "2/2 [==============================] - 0s 3ms/step - loss: 5.0890 - mae: 5.0890\n",
            "Epoch 47/100\n",
            "2/2 [==============================] - 0s 4ms/step - loss: 4.8108 - mae: 4.8108\n",
            "Epoch 48/100\n",
            "2/2 [==============================] - 0s 3ms/step - loss: 4.6230 - mae: 4.6230\n",
            "Epoch 49/100\n",
            "2/2 [==============================] - 0s 4ms/step - loss: 4.6238 - mae: 4.6238\n",
            "Epoch 50/100\n",
            "2/2 [==============================] - 0s 3ms/step - loss: 4.4386 - mae: 4.4386\n",
            "Epoch 51/100\n",
            "2/2 [==============================] - 0s 4ms/step - loss: 4.5251 - mae: 4.5251\n",
            "Epoch 52/100\n",
            "2/2 [==============================] - 0s 10ms/step - loss: 4.3965 - mae: 4.3965\n",
            "Epoch 53/100\n",
            "2/2 [==============================] - 0s 4ms/step - loss: 4.2997 - mae: 4.2997\n",
            "Epoch 54/100\n",
            "2/2 [==============================] - 0s 4ms/step - loss: 4.1182 - mae: 4.1182\n",
            "Epoch 55/100\n",
            "2/2 [==============================] - 0s 4ms/step - loss: 4.1023 - mae: 4.1023\n",
            "Epoch 56/100\n",
            "2/2 [==============================] - 0s 4ms/step - loss: 3.8748 - mae: 3.8748\n",
            "Epoch 57/100\n",
            "2/2 [==============================] - 0s 4ms/step - loss: 3.8659 - mae: 3.8659\n",
            "Epoch 58/100\n",
            "2/2 [==============================] - 0s 3ms/step - loss: 3.7244 - mae: 3.7244\n",
            "Epoch 59/100\n",
            "2/2 [==============================] - 0s 3ms/step - loss: 3.6444 - mae: 3.6444\n",
            "Epoch 60/100\n",
            "2/2 [==============================] - 0s 3ms/step - loss: 3.5109 - mae: 3.5109\n",
            "Epoch 61/100\n",
            "2/2 [==============================] - 0s 7ms/step - loss: 3.4097 - mae: 3.4097\n",
            "Epoch 62/100\n",
            "2/2 [==============================] - 0s 4ms/step - loss: 3.3124 - mae: 3.3124\n",
            "Epoch 63/100\n",
            "2/2 [==============================] - 0s 13ms/step - loss: 3.2729 - mae: 3.2729\n",
            "Epoch 64/100\n",
            "2/2 [==============================] - 0s 3ms/step - loss: 3.1014 - mae: 3.1014\n",
            "Epoch 65/100\n",
            "2/2 [==============================] - 0s 4ms/step - loss: 2.9931 - mae: 2.9931\n",
            "Epoch 66/100\n",
            "2/2 [==============================] - 0s 6ms/step - loss: 2.8670 - mae: 2.8670\n",
            "Epoch 67/100\n",
            "2/2 [==============================] - 0s 5ms/step - loss: 2.8825 - mae: 2.8825\n",
            "Epoch 68/100\n",
            "2/2 [==============================] - 0s 3ms/step - loss: 2.6894 - mae: 2.6894\n",
            "Epoch 69/100\n",
            "2/2 [==============================] - 0s 25ms/step - loss: 2.5258 - mae: 2.5258\n",
            "Epoch 70/100\n",
            "2/2 [==============================] - 0s 4ms/step - loss: 2.5212 - mae: 2.5212\n",
            "Epoch 71/100\n",
            "2/2 [==============================] - 0s 3ms/step - loss: 2.2685 - mae: 2.2685\n",
            "Epoch 72/100\n",
            "2/2 [==============================] - 0s 3ms/step - loss: 2.3147 - mae: 2.3147\n",
            "Epoch 73/100\n",
            "2/2 [==============================] - 0s 6ms/step - loss: 2.1676 - mae: 2.1676\n",
            "Epoch 74/100\n",
            "2/2 [==============================] - 0s 5ms/step - loss: 1.9131 - mae: 1.9131\n",
            "Epoch 75/100\n",
            "2/2 [==============================] - 0s 3ms/step - loss: 2.2775 - mae: 2.2775\n",
            "Epoch 76/100\n",
            "2/2 [==============================] - 0s 3ms/step - loss: 1.9966 - mae: 1.9966\n",
            "Epoch 77/100\n",
            "2/2 [==============================] - 0s 3ms/step - loss: 1.6327 - mae: 1.6327\n",
            "Epoch 78/100\n",
            "2/2 [==============================] - 0s 3ms/step - loss: 1.5498 - mae: 1.5498\n",
            "Epoch 79/100\n",
            "2/2 [==============================] - 0s 7ms/step - loss: 1.5338 - mae: 1.5338\n",
            "Epoch 80/100\n",
            "2/2 [==============================] - 0s 3ms/step - loss: 1.2707 - mae: 1.2707\n",
            "Epoch 81/100\n",
            "2/2 [==============================] - 0s 3ms/step - loss: 1.2268 - mae: 1.2268\n",
            "Epoch 82/100\n",
            "2/2 [==============================] - 0s 3ms/step - loss: 0.8647 - mae: 0.8647\n",
            "Epoch 83/100\n",
            "2/2 [==============================] - 0s 4ms/step - loss: 0.6219 - mae: 0.6219\n",
            "Epoch 84/100\n",
            "2/2 [==============================] - 0s 3ms/step - loss: 0.5439 - mae: 0.5439\n",
            "Epoch 85/100\n",
            "2/2 [==============================] - 0s 3ms/step - loss: 0.8905 - mae: 0.8905\n",
            "Epoch 86/100\n",
            "2/2 [==============================] - 0s 3ms/step - loss: 0.4026 - mae: 0.4026\n",
            "Epoch 87/100\n",
            "2/2 [==============================] - 0s 3ms/step - loss: 0.7196 - mae: 0.7196\n",
            "Epoch 88/100\n",
            "2/2 [==============================] - 0s 3ms/step - loss: 1.3945 - mae: 1.3945\n",
            "Epoch 89/100\n",
            "2/2 [==============================] - 0s 3ms/step - loss: 1.4896 - mae: 1.4896\n",
            "Epoch 90/100\n",
            "2/2 [==============================] - 0s 3ms/step - loss: 0.9490 - mae: 0.9490\n",
            "Epoch 91/100\n",
            "2/2 [==============================] - 0s 3ms/step - loss: 1.2693 - mae: 1.2693\n",
            "Epoch 92/100\n",
            "2/2 [==============================] - 0s 3ms/step - loss: 0.9246 - mae: 0.9246\n",
            "Epoch 93/100\n",
            "2/2 [==============================] - 0s 5ms/step - loss: 1.1842 - mae: 1.1842\n",
            "Epoch 94/100\n",
            "2/2 [==============================] - 0s 3ms/step - loss: 0.8709 - mae: 0.8709\n",
            "Epoch 95/100\n",
            "2/2 [==============================] - 0s 3ms/step - loss: 0.8290 - mae: 0.8290\n",
            "Epoch 96/100\n",
            "2/2 [==============================] - 0s 3ms/step - loss: 1.2720 - mae: 1.2720\n",
            "Epoch 97/100\n",
            "2/2 [==============================] - 0s 3ms/step - loss: 0.9911 - mae: 0.9911\n",
            "Epoch 98/100\n",
            "2/2 [==============================] - 0s 22ms/step - loss: 1.0985 - mae: 1.0985\n",
            "Epoch 99/100\n",
            "2/2 [==============================] - 0s 3ms/step - loss: 0.8477 - mae: 0.8477\n",
            "Epoch 100/100\n",
            "2/2 [==============================] - 0s 3ms/step - loss: 1.3402 - mae: 1.3402\n"
          ],
          "name": "stdout"
        },
        {
          "output_type": "execute_result",
          "data": {
            "text/plain": [
              "<tensorflow.python.keras.callbacks.History at 0x7f539ecdd490>"
            ]
          },
          "metadata": {
            "tags": []
          },
          "execution_count": 33
        }
      ]
    },
    {
      "cell_type": "markdown",
      "metadata": {
        "id": "XLn2AtD-iTeF"
      },
      "source": [
        ""
      ]
    },
    {
      "cell_type": "code",
      "metadata": {
        "colab": {
          "base_uri": "https://localhost:8080/"
        },
        "id": "8RHmUWhjh4z8",
        "outputId": "ff95799e-2a9e-4e40-de5f-4fb1412adbf7"
      },
      "source": [
        "#Get a summary of our model\n",
        "model.summary()"
      ],
      "execution_count": 34,
      "outputs": [
        {
          "output_type": "stream",
          "text": [
            "Model: \"Model1\"\n",
            "_________________________________________________________________\n",
            "Layer (type)                 Output Shape              Param #   \n",
            "=================================================================\n",
            "input_layer (Dense)          (None, 10)                20        \n",
            "_________________________________________________________________\n",
            "output_layer (Dense)         (None, 1)                 11        \n",
            "=================================================================\n",
            "Total params: 31\n",
            "Trainable params: 31\n",
            "Non-trainable params: 0\n",
            "_________________________________________________________________\n"
          ],
          "name": "stdout"
        }
      ]
    },
    {
      "cell_type": "markdown",
      "metadata": {
        "id": "lLUSDFY-jFai"
      },
      "source": [
        "* Total params - Total number of parameters in the model\n",
        "* Trainable parameters - These are the parameters (patterns) that model can update as it trains\n",
        "* Non Trainable params - These parameters are not updated during training. (This is typical when you bring in already learn patterns from other models during transfer learning)"
      ]
    },
    {
      "cell_type": "code",
      "metadata": {
        "colab": {
          "base_uri": "https://localhost:8080/",
          "height": 312
        },
        "id": "sJSdUSDslY4V",
        "outputId": "7951b7ab-d8b3-4c9f-f4dc-be4707344dc5"
      },
      "source": [
        "from tensorflow.keras.utils import plot_model\n",
        "\n",
        "plot_model(model = model, show_shapes = True)"
      ],
      "execution_count": 35,
      "outputs": [
        {
          "output_type": "execute_result",
          "data": {
            "image/png": "[encoded data removed]",
            "text/plain": [
              "<IPython.core.display.Image object>"
            ]
          },
          "metadata": {
            "tags": []
          },
          "execution_count": 35
        }
      ]
    },
    {
      "cell_type": "markdown",
      "metadata": {
        "id": "k0-zVce_uHO3"
      },
      "source": [
        "### Visualizing our models predictions\n",
        "\n",
        "To visualize predictions, it is good to plot them against the ground truth labels.\n",
        "\n",
        "Often you'll see this in the form of y_test vs. y_pred (ground truth vs. predictions).\n",
        "\n",
        "First, we'll make some predictions on the test data (X_test), remember the model has never seen the test data."
      ]
    },
    {
      "cell_type": "code",
      "metadata": {
        "colab": {
          "base_uri": "https://localhost:8080/"
        },
        "id": "zK6cJUZhyHta",
        "outputId": "6fdfcf53-514b-40bd-b005-ee7991649335"
      },
      "source": [
        "# Make some predictions\n",
        "y_pred = model.predict(X_test)\n",
        "y_pred"
      ],
      "execution_count": 36,
      "outputs": [
        {
          "output_type": "execute_result",
          "data": {
            "text/plain": [
              "array([[ 72.42797 ],\n",
              "       [ 76.58641 ],\n",
              "       [ 80.74485 ],\n",
              "       [ 84.90329 ],\n",
              "       [ 89.06173 ],\n",
              "       [ 93.22018 ],\n",
              "       [ 97.378624],\n",
              "       [101.537056],\n",
              "       [105.695496],\n",
              "       [109.853935]], dtype=float32)"
            ]
          },
          "metadata": {
            "tags": []
          },
          "execution_count": 36
        }
      ]
    },
    {
      "cell_type": "code",
      "metadata": {
        "id": "ODArF1Ujy9YK"
      },
      "source": [
        "# Let's create a plotting function\n",
        "\n",
        "\n",
        "def plot_predictions(\n",
        "    train_data=X_train,\n",
        "    train_labels=y_train,\n",
        "    test_data=X_test,\n",
        "    test_labels=y_test,\n",
        "    predictions=y_pred,\n",
        "    ):\n",
        "    \"\"\"\n",
        "  Plots training data, test data and compares them\n",
        "\n",
        "  \"\"\"\n",
        "\n",
        "    plt.figure(figsize=(10, 7))\n",
        "    plt.style.use('ggplot')\n",
        "\n",
        "  # Plot training data in blue\n",
        "\n",
        "    plt.scatter(train_data, train_labels, c='b', label='Training data')\n",
        "\n",
        "  # Plot training data in green\n",
        "\n",
        "    plt.scatter(test_data, test_labels, c='g', label='Test data')\n",
        "\n",
        "  # Plot models predictions in red\n",
        "\n",
        "    plt.scatter(test_data, predictions, c='r', label='Predictions')\n",
        "\n",
        "    plt.legend()"
      ],
      "execution_count": 37,
      "outputs": []
    },
    {
      "cell_type": "code",
      "metadata": {
        "colab": {
          "base_uri": "https://localhost:8080/",
          "height": 428
        },
        "id": "OvtqsYqb0d0k",
        "outputId": "3a513768-b8b3-42da-c5c0-f8e6bc154f8c"
      },
      "source": [
        "plot_predictions(train_data=X_train, train_labels=y_train,\n",
        "                 test_data=X_test, test_labels=y_test,\n",
        "                 predictions=y_pred);"
      ],
      "execution_count": 38,
      "outputs": [
        {
          "output_type": "display_data",
          "data": {
            "image/png": "[encoded data removed]",
            "text/plain": [
              "<Figure size 720x504 with 1 Axes>"
            ]
          },
          "metadata": {
            "tags": []
          }
        }
      ]
    },
    {
      "cell_type": "markdown",
      "metadata": {
        "id": "F-zJ5GqQ0jST"
      },
      "source": [
        "### Evaluating our models prediction with regression evaluation metrics\n",
        "\n",
        "Depending on problem you are working on, there will be different evaluation metrics to evaluate your model's performance.\n",
        "\n",
        "Since we're working on a regression, two of the main metrics would be:\n",
        "\n",
        "* MAE - Mean absolute error \"On average, how wrong is each of my model's prediction errors\"\n",
        "\n",
        "* MSE - Mean square error, \"Square the average errors\"\n"
      ]
    },
    {
      "cell_type": "code",
      "metadata": {
        "colab": {
          "base_uri": "https://localhost:8080/"
        },
        "id": "-55ywHLF4dfm",
        "outputId": "0bb60d41-9086-4013-d226-7991d1bd61c1"
      },
      "source": [
        "#Evaluate the model on the test set\n",
        "model.evaluate(X_test, y_test)"
      ],
      "execution_count": 39,
      "outputs": [
        {
          "output_type": "stream",
          "text": [
            "1/1 [==============================] - 0s 115ms/step - loss: 3.1410 - mae: 3.1410\n"
          ],
          "name": "stdout"
        },
        {
          "output_type": "execute_result",
          "data": {
            "text/plain": [
              "[3.1409544944763184, 3.1409544944763184]"
            ]
          },
          "metadata": {
            "tags": []
          },
          "execution_count": 39
        }
      ]
    },
    {
      "cell_type": "code",
      "metadata": {
        "colab": {
          "base_uri": "https://localhost:8080/"
        },
        "id": "7q3VjNoy8LJ-",
        "outputId": "0a573de7-f22e-4d6b-8bca-cfdd375e4def"
      },
      "source": [
        "#Calculate the mean absolute error using numpy\n",
        "np.mean(np.subtract(y_pred,y_test))"
      ],
      "execution_count": 40,
      "outputs": [
        {
          "output_type": "execute_result",
          "data": {
            "text/plain": [
              "3.1409538269042967"
            ]
          },
          "metadata": {
            "tags": []
          },
          "execution_count": 40
        }
      ]
    },
    {
      "cell_type": "code",
      "metadata": {
        "colab": {
          "base_uri": "https://localhost:8080/"
        },
        "id": "MsoZZYLD8jCn",
        "outputId": "8344a7f7-6d82-4cd3-8cb3-025bbb5c8e63"
      },
      "source": [
        "#Calculate the mean squared error\n",
        "mse = tf.metrics.mse(y_true= y_test,\n",
        "                     y_pred = tf.squeeze(y_pred))\n",
        "mse"
      ],
      "execution_count": 41,
      "outputs": [
        {
          "output_type": "execute_result",
          "data": {
            "text/plain": [
              "<tf.Tensor: shape=(), dtype=float32, numpy=10.072696>"
            ]
          },
          "metadata": {
            "tags": []
          },
          "execution_count": 41
        }
      ]
    },
    {
      "cell_type": "code",
      "metadata": {
        "id": "cYAJebNT9K1e"
      },
      "source": [
        "# Make some functions to reuse MAE and MSE\n",
        "def mae(y_true, y_pred):\n",
        "  return tf.metrics.mean_absolute_error(y_true= y_true,\n",
        "                                        y_pred = y_pred)\n",
        "  \n",
        "def mse(y_true,y_pred):\n",
        "  return tf.metrics.mean_squared_error(y_true= y_true,\n",
        "                                       y_pred = y_pred)"
      ],
      "execution_count": 42,
      "outputs": []
    },
    {
      "cell_type": "markdown",
      "metadata": {
        "id": "ydrnuK279MS-"
      },
      "source": [
        "### Running expiriments to improve our model\n",
        "\n",
        "After seeing the evaluation metrics and the predictions your model makes, it's likely you'll want to improve it.\n",
        "\n",
        "Again, there are many different ways you can do this, but 3 of the main ones are:\n",
        "\n",
        "Get more data - get more examples for your model to train on (more opportunities to learn patterns).\n",
        "\n",
        "Make your model larger (use a more complex model) - this might come in the form of more layers or more hidden units in each layer.\n",
        "\n",
        "Train for longer - give your model more of a chance to find the patterns in the data.\n",
        "\n",
        "Since we created our dataset, we could easily make more data but this isn't always the case when you're working with real-world datasets.\n",
        "\n",
        "So let's take a look at how we can improve our model using 2 and 3.\n",
        "\n",
        "To do so, we'll build 3 models and compare their results:\n",
        "\n",
        "model_1 - same as original model, 1 layer, trained for 100 epochs.\n",
        "\n",
        "model_2 - 2 layers, trained for 100 epochs.\n",
        "\n",
        "model_3 - 2 layers, trained for 500 epochs."
      ]
    },
    {
      "cell_type": "code",
      "metadata": {
        "colab": {
          "base_uri": "https://localhost:8080/"
        },
        "id": "Pkegg4VO-qwL",
        "outputId": "7d5ca07c-778e-4c85-a623-7f6b60739c52"
      },
      "source": [
        "X_train, y_train"
      ],
      "execution_count": 43,
      "outputs": [
        {
          "output_type": "execute_result",
          "data": {
            "text/plain": [
              "(<tf.Tensor: shape=(40,), dtype=int32, numpy=\n",
              " array([-100,  -96,  -92,  -88,  -84,  -80,  -76,  -72,  -68,  -64,  -60,\n",
              "         -56,  -52,  -48,  -44,  -40,  -36,  -32,  -28,  -24,  -20,  -16,\n",
              "         -12,   -8,   -4,    0,    4,    8,   12,   16,   20,   24,   28,\n",
              "          32,   36,   40,   44,   48,   52,   56], dtype=int32)>,\n",
              " <tf.Tensor: shape=(40,), dtype=int32, numpy=\n",
              " array([-90, -86, -82, -78, -74, -70, -66, -62, -58, -54, -50, -46, -42,\n",
              "        -38, -34, -30, -26, -22, -18, -14, -10,  -6,  -2,   2,   6,  10,\n",
              "         14,  18,  22,  26,  30,  34,  38,  42,  46,  50,  54,  58,  62,\n",
              "         66], dtype=int32)>)"
            ]
          },
          "metadata": {
            "tags": []
          },
          "execution_count": 43
        }
      ]
    },
    {
      "cell_type": "code",
      "metadata": {
        "colab": {
          "base_uri": "https://localhost:8080/"
        },
        "id": "JDAHszjp_0aK",
        "outputId": "cb7f554a-d22e-4787-b8a7-a02324a8315e"
      },
      "source": [
        "#Set random seed\n",
        "tf.random.set_seed(42)\n",
        "\n",
        "#Build a model\n",
        "model_1 = tf.keras.Sequential()\n",
        "model_1.add(tf.keras.layers.Dense(1))\n",
        "\n",
        "#Compile a model\n",
        "model_1.compile(loss = tf.keras.losses.mae,\n",
        "                optimizer = tf.keras.optimizers.Adam(learning_rate= 0.01),\n",
        "                metrics = ['mae'])\n",
        "\n",
        "#Fit the model\n",
        "model_1.fit(X_train, y_train, epochs = 100)"
      ],
      "execution_count": 44,
      "outputs": [
        {
          "output_type": "stream",
          "text": [
            "Epoch 1/100\n",
            "2/2 [==============================] - 0s 5ms/step - loss: 17.1341 - mae: 17.1341\n",
            "Epoch 2/100\n",
            "2/2 [==============================] - 0s 4ms/step - loss: 16.3267 - mae: 16.3267\n",
            "Epoch 3/100\n",
            "2/2 [==============================] - 0s 4ms/step - loss: 15.5698 - mae: 15.5698\n",
            "Epoch 4/100\n",
            "2/2 [==============================] - 0s 4ms/step - loss: 14.8027 - mae: 14.8027\n",
            "Epoch 5/100\n",
            "2/2 [==============================] - 0s 3ms/step - loss: 14.0456 - mae: 14.0456\n",
            "Epoch 6/100\n",
            "2/2 [==============================] - 0s 11ms/step - loss: 13.3200 - mae: 13.3200\n",
            "Epoch 7/100\n",
            "2/2 [==============================] - 0s 4ms/step - loss: 12.5875 - mae: 12.5875\n",
            "Epoch 8/100\n",
            "2/2 [==============================] - 0s 4ms/step - loss: 11.8444 - mae: 11.8444\n",
            "Epoch 9/100\n",
            "2/2 [==============================] - 0s 3ms/step - loss: 11.1684 - mae: 11.1684\n",
            "Epoch 10/100\n",
            "2/2 [==============================] - 0s 5ms/step - loss: 10.5400 - mae: 10.5400\n",
            "Epoch 11/100\n",
            "2/2 [==============================] - 0s 5ms/step - loss: 9.9011 - mae: 9.9011\n",
            "Epoch 12/100\n",
            "2/2 [==============================] - 0s 2ms/step - loss: 9.2781 - mae: 9.2781\n",
            "Epoch 13/100\n",
            "2/2 [==============================] - 0s 6ms/step - loss: 8.7234 - mae: 8.7234\n",
            "Epoch 14/100\n",
            "2/2 [==============================] - 0s 5ms/step - loss: 8.2773 - mae: 8.2773\n",
            "Epoch 15/100\n",
            "2/2 [==============================] - 0s 8ms/step - loss: 7.9286 - mae: 7.9286\n",
            "Epoch 16/100\n",
            "2/2 [==============================] - 0s 5ms/step - loss: 7.6752 - mae: 7.6752\n",
            "Epoch 17/100\n",
            "2/2 [==============================] - 0s 7ms/step - loss: 7.4788 - mae: 7.4788\n",
            "Epoch 18/100\n",
            "2/2 [==============================] - 0s 15ms/step - loss: 7.5228 - mae: 7.5228\n",
            "Epoch 19/100\n",
            "2/2 [==============================] - 0s 2ms/step - loss: 7.6023 - mae: 7.6023\n",
            "Epoch 20/100\n",
            "2/2 [==============================] - 0s 9ms/step - loss: 7.6911 - mae: 7.6911\n",
            "Epoch 21/100\n",
            "2/2 [==============================] - 0s 5ms/step - loss: 7.7004 - mae: 7.7004\n",
            "Epoch 22/100\n",
            "2/2 [==============================] - 0s 6ms/step - loss: 7.6482 - mae: 7.6482\n",
            "Epoch 23/100\n",
            "2/2 [==============================] - 0s 11ms/step - loss: 7.5369 - mae: 7.5369\n",
            "Epoch 24/100\n",
            "2/2 [==============================] - 0s 4ms/step - loss: 7.4508 - mae: 7.4508\n",
            "Epoch 25/100\n",
            "2/2 [==============================] - 0s 4ms/step - loss: 7.3606 - mae: 7.3606\n",
            "Epoch 26/100\n",
            "2/2 [==============================] - 0s 3ms/step - loss: 7.3211 - mae: 7.3211\n",
            "Epoch 27/100\n",
            "2/2 [==============================] - 0s 3ms/step - loss: 7.3105 - mae: 7.3105\n",
            "Epoch 28/100\n",
            "2/2 [==============================] - 0s 4ms/step - loss: 7.3070 - mae: 7.3070\n",
            "Epoch 29/100\n",
            "2/2 [==============================] - 0s 8ms/step - loss: 7.3143 - mae: 7.3143\n",
            "Epoch 30/100\n",
            "2/2 [==============================] - 0s 4ms/step - loss: 7.3132 - mae: 7.3132\n",
            "Epoch 31/100\n",
            "2/2 [==============================] - 0s 8ms/step - loss: 7.2980 - mae: 7.2980\n",
            "Epoch 32/100\n",
            "2/2 [==============================] - 0s 3ms/step - loss: 7.2696 - mae: 7.2696\n",
            "Epoch 33/100\n",
            "2/2 [==============================] - 0s 7ms/step - loss: 7.2451 - mae: 7.2451\n",
            "Epoch 34/100\n",
            "2/2 [==============================] - 0s 3ms/step - loss: 7.2226 - mae: 7.2226\n",
            "Epoch 35/100\n",
            "2/2 [==============================] - 0s 6ms/step - loss: 7.1991 - mae: 7.1991\n",
            "Epoch 36/100\n",
            "2/2 [==============================] - 0s 5ms/step - loss: 7.1716 - mae: 7.1716\n",
            "Epoch 37/100\n",
            "2/2 [==============================] - 0s 5ms/step - loss: 7.1544 - mae: 7.1544\n",
            "Epoch 38/100\n",
            "2/2 [==============================] - 0s 4ms/step - loss: 7.1378 - mae: 7.1378\n",
            "Epoch 39/100\n",
            "2/2 [==============================] - 0s 5ms/step - loss: 7.1216 - mae: 7.1216\n",
            "Epoch 40/100\n",
            "2/2 [==============================] - 0s 5ms/step - loss: 7.0999 - mae: 7.0999\n",
            "Epoch 41/100\n",
            "2/2 [==============================] - 0s 6ms/step - loss: 7.0783 - mae: 7.0783\n",
            "Epoch 42/100\n",
            "2/2 [==============================] - 0s 5ms/step - loss: 7.0537 - mae: 7.0537\n",
            "Epoch 43/100\n",
            "2/2 [==============================] - 0s 3ms/step - loss: 7.0360 - mae: 7.0360\n",
            "Epoch 44/100\n",
            "2/2 [==============================] - 0s 4ms/step - loss: 7.0241 - mae: 7.0241\n",
            "Epoch 45/100\n",
            "2/2 [==============================] - 0s 4ms/step - loss: 7.0004 - mae: 7.0004\n",
            "Epoch 46/100\n",
            "2/2 [==============================] - 0s 6ms/step - loss: 6.9826 - mae: 6.9826\n",
            "Epoch 47/100\n",
            "2/2 [==============================] - 0s 5ms/step - loss: 6.9661 - mae: 6.9661\n",
            "Epoch 48/100\n",
            "2/2 [==============================] - 0s 5ms/step - loss: 6.9526 - mae: 6.9526\n",
            "Epoch 49/100\n",
            "2/2 [==============================] - 0s 4ms/step - loss: 6.9458 - mae: 6.9458\n",
            "Epoch 50/100\n",
            "2/2 [==============================] - 0s 6ms/step - loss: 6.9364 - mae: 6.9364\n",
            "Epoch 51/100\n",
            "2/2 [==============================] - 0s 4ms/step - loss: 6.9305 - mae: 6.9305\n",
            "Epoch 52/100\n",
            "2/2 [==============================] - 0s 5ms/step - loss: 6.9132 - mae: 6.9132\n",
            "Epoch 53/100\n",
            "2/2 [==============================] - 0s 3ms/step - loss: 6.8861 - mae: 6.8861\n",
            "Epoch 54/100\n",
            "2/2 [==============================] - 0s 5ms/step - loss: 6.8642 - mae: 6.8642\n",
            "Epoch 55/100\n",
            "2/2 [==============================] - 0s 3ms/step - loss: 6.8454 - mae: 6.8454\n",
            "Epoch 56/100\n",
            "2/2 [==============================] - 0s 3ms/step - loss: 6.8235 - mae: 6.8235\n",
            "Epoch 57/100\n",
            "2/2 [==============================] - 0s 3ms/step - loss: 6.7990 - mae: 6.7990\n",
            "Epoch 58/100\n",
            "2/2 [==============================] - 0s 3ms/step - loss: 6.7895 - mae: 6.7895\n",
            "Epoch 59/100\n",
            "2/2 [==============================] - 0s 3ms/step - loss: 6.7831 - mae: 6.7831\n",
            "Epoch 60/100\n",
            "2/2 [==============================] - 0s 4ms/step - loss: 6.7723 - mae: 6.7723\n",
            "Epoch 61/100\n",
            "2/2 [==============================] - 0s 3ms/step - loss: 6.7555 - mae: 6.7555\n",
            "Epoch 62/100\n",
            "2/2 [==============================] - 0s 5ms/step - loss: 6.7334 - mae: 6.7334\n",
            "Epoch 63/100\n",
            "2/2 [==============================] - 0s 3ms/step - loss: 6.7035 - mae: 6.7035\n",
            "Epoch 64/100\n",
            "2/2 [==============================] - 0s 3ms/step - loss: 6.7004 - mae: 6.7004\n",
            "Epoch 65/100\n",
            "2/2 [==============================] - 0s 3ms/step - loss: 6.6776 - mae: 6.6776\n",
            "Epoch 66/100\n",
            "2/2 [==============================] - 0s 4ms/step - loss: 6.6654 - mae: 6.6654\n",
            "Epoch 67/100\n",
            "2/2 [==============================] - 0s 5ms/step - loss: 6.6490 - mae: 6.6490\n",
            "Epoch 68/100\n",
            "2/2 [==============================] - 0s 6ms/step - loss: 6.6310 - mae: 6.6310\n",
            "Epoch 69/100\n",
            "2/2 [==============================] - 0s 9ms/step - loss: 6.6102 - mae: 6.6102\n",
            "Epoch 70/100\n",
            "2/2 [==============================] - 0s 6ms/step - loss: 6.5944 - mae: 6.5944\n",
            "Epoch 71/100\n",
            "2/2 [==============================] - 0s 11ms/step - loss: 6.5728 - mae: 6.5728\n",
            "Epoch 72/100\n",
            "2/2 [==============================] - 0s 9ms/step - loss: 6.5620 - mae: 6.5620\n",
            "Epoch 73/100\n",
            "2/2 [==============================] - 0s 8ms/step - loss: 6.5525 - mae: 6.5525\n",
            "Epoch 74/100\n",
            "2/2 [==============================] - 0s 4ms/step - loss: 6.5658 - mae: 6.5658\n",
            "Epoch 75/100\n",
            "2/2 [==============================] - 0s 6ms/step - loss: 6.5706 - mae: 6.5706\n",
            "Epoch 76/100\n",
            "2/2 [==============================] - 0s 17ms/step - loss: 6.5473 - mae: 6.5473\n",
            "Epoch 77/100\n",
            "2/2 [==============================] - 0s 3ms/step - loss: 6.5032 - mae: 6.5032\n",
            "Epoch 78/100\n",
            "2/2 [==============================] - 0s 4ms/step - loss: 6.4579 - mae: 6.4579\n",
            "Epoch 79/100\n",
            "2/2 [==============================] - 0s 3ms/step - loss: 6.4639 - mae: 6.4639\n",
            "Epoch 80/100\n",
            "2/2 [==============================] - 0s 3ms/step - loss: 6.4459 - mae: 6.4459\n",
            "Epoch 81/100\n",
            "2/2 [==============================] - 0s 3ms/step - loss: 6.4378 - mae: 6.4378\n",
            "Epoch 82/100\n",
            "2/2 [==============================] - 0s 3ms/step - loss: 6.4258 - mae: 6.4258\n",
            "Epoch 83/100\n",
            "2/2 [==============================] - 0s 3ms/step - loss: 6.4107 - mae: 6.4107\n",
            "Epoch 84/100\n",
            "2/2 [==============================] - 0s 4ms/step - loss: 6.3866 - mae: 6.3866\n",
            "Epoch 85/100\n",
            "2/2 [==============================] - 0s 4ms/step - loss: 6.3667 - mae: 6.3667\n",
            "Epoch 86/100\n",
            "2/2 [==============================] - 0s 19ms/step - loss: 6.3350 - mae: 6.3350\n",
            "Epoch 87/100\n",
            "2/2 [==============================] - 0s 6ms/step - loss: 6.3142 - mae: 6.3142\n",
            "Epoch 88/100\n",
            "2/2 [==============================] - 0s 6ms/step - loss: 6.2989 - mae: 6.2989\n",
            "Epoch 89/100\n",
            "2/2 [==============================] - 0s 7ms/step - loss: 6.3022 - mae: 6.3022\n",
            "Epoch 90/100\n",
            "2/2 [==============================] - 0s 3ms/step - loss: 6.3079 - mae: 6.3079\n",
            "Epoch 91/100\n",
            "2/2 [==============================] - 0s 6ms/step - loss: 6.2935 - mae: 6.2935\n",
            "Epoch 92/100\n",
            "2/2 [==============================] - 0s 15ms/step - loss: 6.2629 - mae: 6.2629\n",
            "Epoch 93/100\n",
            "2/2 [==============================] - 0s 5ms/step - loss: 6.2320 - mae: 6.2320\n",
            "Epoch 94/100\n",
            "2/2 [==============================] - 0s 4ms/step - loss: 6.2036 - mae: 6.2036\n",
            "Epoch 95/100\n",
            "2/2 [==============================] - 0s 7ms/step - loss: 6.1869 - mae: 6.1869\n",
            "Epoch 96/100\n",
            "2/2 [==============================] - 0s 4ms/step - loss: 6.1941 - mae: 6.1941\n",
            "Epoch 97/100\n",
            "2/2 [==============================] - 0s 7ms/step - loss: 6.1754 - mae: 6.1754\n",
            "Epoch 98/100\n",
            "2/2 [==============================] - 0s 11ms/step - loss: 6.1547 - mae: 6.1547\n",
            "Epoch 99/100\n",
            "2/2 [==============================] - 0s 6ms/step - loss: 6.1333 - mae: 6.1333\n",
            "Epoch 100/100\n",
            "2/2 [==============================] - 0s 7ms/step - loss: 6.1093 - mae: 6.1093\n"
          ],
          "name": "stdout"
        },
        {
          "output_type": "execute_result",
          "data": {
            "text/plain": [
              "<tensorflow.python.keras.callbacks.History at 0x7f539eb07dd0>"
            ]
          },
          "metadata": {
            "tags": []
          },
          "execution_count": 44
        }
      ]
    },
    {
      "cell_type": "code",
      "metadata": {
        "colab": {
          "base_uri": "https://localhost:8080/",
          "height": 466
        },
        "id": "3hJcT3Y2ApEq",
        "outputId": "9cda767a-8e44-45b8-b615-d12c8f1e040c"
      },
      "source": [
        "#Make and plot predictions\n",
        "y_preds_1 = model_1.predict(X_test)\n",
        "\n",
        "plot_predictions(train_data = X_train,\n",
        "                 train_labels = y_train,\n",
        "                 test_data = X_test,\n",
        "                 test_labels = y_test,\n",
        "                 predictions = y_preds_1)"
      ],
      "execution_count": 45,
      "outputs": [
        {
          "output_type": "stream",
          "text": [
            "WARNING:tensorflow:5 out of the last 5 calls to <function Model.make_predict_function.<locals>.predict_function at 0x7f539eb94290> triggered tf.function retracing. Tracing is expensive and the excessive number of tracings could be due to (1) creating @tf.function repeatedly in a loop, (2) passing tensors with different shapes, (3) passing Python objects instead of tensors. For (1), please define your @tf.function outside of the loop. For (2), @tf.function has experimental_relax_shapes=True option that relaxes argument shapes that can avoid unnecessary retracing. For (3), please refer to https://www.tensorflow.org/guide/function#controlling_retracing and https://www.tensorflow.org/api_docs/python/tf/function for  more details.\n"
          ],
          "name": "stdout"
        },
        {
          "output_type": "display_data",
          "data": {
            "image/png": "[encoded data removed]",
            "text/plain": [
              "<Figure size 720x504 with 1 Axes>"
            ]
          },
          "metadata": {
            "tags": []
          }
        }
      ]
    },
    {
      "cell_type": "code",
      "metadata": {
        "colab": {
          "base_uri": "https://localhost:8080/"
        },
        "id": "xnd_CXWyCaWY",
        "outputId": "98289780-6ae7-4a5d-b06f-427c24ca728e"
      },
      "source": [
        "#Calculate model_1 evaluation\n",
        "mae_1 = mae(y_test, tf.squeeze(y_preds_1))\n",
        "mse_1 = mse(y_test, tf.squeeze(y_preds_1))\n",
        "mae_1, mse_1"
      ],
      "execution_count": 46,
      "outputs": [
        {
          "output_type": "execute_result",
          "data": {
            "text/plain": [
              "(<tf.Tensor: shape=(), dtype=float32, numpy=15.4527645>,\n",
              " <tf.Tensor: shape=(), dtype=float32, numpy=239.99292>)"
            ]
          },
          "metadata": {
            "tags": []
          },
          "execution_count": 46
        }
      ]
    },
    {
      "cell_type": "code",
      "metadata": {
        "id": "PJ-LWZmxC8et"
      },
      "source": [
        ""
      ],
      "execution_count": 46,
      "outputs": []
    },
    {
      "cell_type": "code",
      "metadata": {
        "colab": {
          "base_uri": "https://localhost:8080/"
        },
        "id": "FMhQvO_A-14t",
        "outputId": "f0f2f966-f979-4d97-8594-cf4f6092dffe"
      },
      "source": [
        "#Set random seed\n",
        "tf.random.set_seed(42)\n",
        "\n",
        "#Build a model\n",
        "model_2 = tf.keras.Sequential()\n",
        "model_2.add(tf.keras.layers.Dense(10, activation ='relu')),\n",
        "model_2.add(tf.keras.layers.Dense(1, activation= 'relu')),\n",
        "\n",
        "#Compile a model\n",
        "model_2.compile(loss = tf.keras.losses.mae,\n",
        "                optimizer = tf.keras.optimizers.Adam(learning_rate= 0.01),\n",
        "                metrics = ['mae'])\n",
        "\n",
        "# Fit the model\n",
        "model_2.fit(X_train, y_train, epochs = 100)"
      ],
      "execution_count": 47,
      "outputs": [
        {
          "output_type": "stream",
          "text": [
            "Epoch 1/100\n",
            "2/2 [==============================] - 0s 6ms/step - loss: 42.9790 - mae: 42.9790\n",
            "Epoch 2/100\n",
            "2/2 [==============================] - 0s 6ms/step - loss: 39.9109 - mae: 39.9109\n",
            "Epoch 3/100\n",
            "2/2 [==============================] - 0s 6ms/step - loss: 36.9743 - mae: 36.9743\n",
            "Epoch 4/100\n",
            "2/2 [==============================] - 0s 5ms/step - loss: 33.9349 - mae: 33.9349\n",
            "Epoch 5/100\n",
            "2/2 [==============================] - 0s 4ms/step - loss: 31.0283 - mae: 31.0283\n",
            "Epoch 6/100\n",
            "2/2 [==============================] - 0s 4ms/step - loss: 30.0460 - mae: 30.0460\n",
            "Epoch 7/100\n",
            "2/2 [==============================] - 0s 5ms/step - loss: 29.1513 - mae: 29.1513\n",
            "Epoch 8/100\n",
            "2/2 [==============================] - 0s 9ms/step - loss: 28.3830 - mae: 28.3830\n",
            "Epoch 9/100\n",
            "2/2 [==============================] - 0s 4ms/step - loss: 28.3122 - mae: 28.3122\n",
            "Epoch 10/100\n",
            "2/2 [==============================] - 0s 4ms/step - loss: 28.4625 - mae: 28.4625\n",
            "Epoch 11/100\n",
            "2/2 [==============================] - 0s 7ms/step - loss: 28.5315 - mae: 28.5315\n",
            "Epoch 12/100\n",
            "2/2 [==============================] - 0s 4ms/step - loss: 28.5579 - mae: 28.5579\n",
            "Epoch 13/100\n",
            "2/2 [==============================] - 0s 3ms/step - loss: 28.5453 - mae: 28.5453\n",
            "Epoch 14/100\n",
            "2/2 [==============================] - 0s 5ms/step - loss: 28.4740 - mae: 28.4740\n",
            "Epoch 15/100\n",
            "2/2 [==============================] - 0s 3ms/step - loss: 28.3715 - mae: 28.3715\n",
            "Epoch 16/100\n",
            "2/2 [==============================] - 0s 4ms/step - loss: 28.2531 - mae: 28.2531\n",
            "Epoch 17/100\n",
            "2/2 [==============================] - 0s 9ms/step - loss: 28.1713 - mae: 28.1713\n",
            "Epoch 18/100\n",
            "2/2 [==============================] - 0s 5ms/step - loss: 28.2032 - mae: 28.2032\n",
            "Epoch 19/100\n",
            "2/2 [==============================] - 0s 11ms/step - loss: 28.3004 - mae: 28.3004\n",
            "Epoch 20/100\n",
            "2/2 [==============================] - 0s 3ms/step - loss: 28.4080 - mae: 28.4080\n",
            "Epoch 21/100\n",
            "2/2 [==============================] - 0s 6ms/step - loss: 28.3707 - mae: 28.3707\n",
            "Epoch 22/100\n",
            "2/2 [==============================] - 0s 4ms/step - loss: 28.2108 - mae: 28.2108\n",
            "Epoch 23/100\n",
            "2/2 [==============================] - 0s 5ms/step - loss: 28.1597 - mae: 28.1597\n",
            "Epoch 24/100\n",
            "2/2 [==============================] - 0s 7ms/step - loss: 28.1902 - mae: 28.1902\n",
            "Epoch 25/100\n",
            "2/2 [==============================] - 0s 9ms/step - loss: 28.2495 - mae: 28.2495\n",
            "Epoch 26/100\n",
            "2/2 [==============================] - 0s 8ms/step - loss: 28.3321 - mae: 28.3321\n",
            "Epoch 27/100\n",
            "2/2 [==============================] - 0s 4ms/step - loss: 28.3441 - mae: 28.3441\n",
            "Epoch 28/100\n",
            "2/2 [==============================] - 0s 3ms/step - loss: 28.2931 - mae: 28.2931\n",
            "Epoch 29/100\n",
            "2/2 [==============================] - 0s 4ms/step - loss: 28.2301 - mae: 28.2301\n",
            "Epoch 30/100\n",
            "2/2 [==============================] - 0s 4ms/step - loss: 28.1375 - mae: 28.1375\n",
            "Epoch 31/100\n",
            "2/2 [==============================] - 0s 5ms/step - loss: 28.1034 - mae: 28.1034\n",
            "Epoch 32/100\n",
            "2/2 [==============================] - 0s 5ms/step - loss: 28.1174 - mae: 28.1174\n",
            "Epoch 33/100\n",
            "2/2 [==============================] - 0s 3ms/step - loss: 28.1689 - mae: 28.1689\n",
            "Epoch 34/100\n",
            "2/2 [==============================] - 0s 4ms/step - loss: 28.1766 - mae: 28.1766\n",
            "Epoch 35/100\n",
            "2/2 [==============================] - 0s 4ms/step - loss: 28.1293 - mae: 28.1293\n",
            "Epoch 36/100\n",
            "2/2 [==============================] - 0s 4ms/step - loss: 28.0949 - mae: 28.0949\n",
            "Epoch 37/100\n",
            "2/2 [==============================] - 0s 6ms/step - loss: 28.0693 - mae: 28.0693\n",
            "Epoch 38/100\n",
            "2/2 [==============================] - 0s 4ms/step - loss: 28.0565 - mae: 28.0565\n",
            "Epoch 39/100\n",
            "2/2 [==============================] - 0s 4ms/step - loss: 28.0706 - mae: 28.0706\n",
            "Epoch 40/100\n",
            "2/2 [==============================] - 0s 5ms/step - loss: 28.0673 - mae: 28.0673\n",
            "Epoch 41/100\n",
            "2/2 [==============================] - 0s 6ms/step - loss: 28.0625 - mae: 28.0625\n",
            "Epoch 42/100\n",
            "2/2 [==============================] - 0s 5ms/step - loss: 28.0597 - mae: 28.0597\n",
            "Epoch 43/100\n",
            "2/2 [==============================] - 0s 16ms/step - loss: 28.0590 - mae: 28.0590\n",
            "Epoch 44/100\n",
            "2/2 [==============================] - 0s 4ms/step - loss: 28.0435 - mae: 28.0435\n",
            "Epoch 45/100\n",
            "2/2 [==============================] - 0s 15ms/step - loss: 28.0262 - mae: 28.0262\n",
            "Epoch 46/100\n",
            "2/2 [==============================] - 0s 11ms/step - loss: 28.0039 - mae: 28.0039\n",
            "Epoch 47/100\n",
            "2/2 [==============================] - 0s 4ms/step - loss: 27.9949 - mae: 27.9949\n",
            "Epoch 48/100\n",
            "2/2 [==============================] - 0s 7ms/step - loss: 27.9895 - mae: 27.9895\n",
            "Epoch 49/100\n",
            "2/2 [==============================] - 0s 3ms/step - loss: 27.9818 - mae: 27.9818\n",
            "Epoch 50/100\n",
            "2/2 [==============================] - 0s 5ms/step - loss: 27.9824 - mae: 27.9824\n",
            "Epoch 51/100\n",
            "2/2 [==============================] - 0s 6ms/step - loss: 27.9625 - mae: 27.9625\n",
            "Epoch 52/100\n",
            "2/2 [==============================] - 0s 7ms/step - loss: 27.9550 - mae: 27.9550\n",
            "Epoch 53/100\n",
            "2/2 [==============================] - 0s 4ms/step - loss: 27.9442 - mae: 27.9442\n",
            "Epoch 54/100\n",
            "2/2 [==============================] - 0s 11ms/step - loss: 27.9355 - mae: 27.9355\n",
            "Epoch 55/100\n",
            "2/2 [==============================] - 0s 5ms/step - loss: 27.9407 - mae: 27.9407\n",
            "Epoch 56/100\n",
            "2/2 [==============================] - 0s 6ms/step - loss: 27.9465 - mae: 27.9465\n",
            "Epoch 57/100\n",
            "2/2 [==============================] - 0s 7ms/step - loss: 27.9391 - mae: 27.9391\n",
            "Epoch 58/100\n",
            "2/2 [==============================] - 0s 6ms/step - loss: 27.9237 - mae: 27.9237\n",
            "Epoch 59/100\n",
            "2/2 [==============================] - 0s 3ms/step - loss: 27.9113 - mae: 27.9113\n",
            "Epoch 60/100\n",
            "2/2 [==============================] - 0s 4ms/step - loss: 27.8998 - mae: 27.8998\n",
            "Epoch 61/100\n",
            "2/2 [==============================] - 0s 7ms/step - loss: 27.8854 - mae: 27.8854\n",
            "Epoch 62/100\n",
            "2/2 [==============================] - 0s 8ms/step - loss: 27.8760 - mae: 27.8760\n",
            "Epoch 63/100\n",
            "2/2 [==============================] - 0s 5ms/step - loss: 27.8775 - mae: 27.8775\n",
            "Epoch 64/100\n",
            "2/2 [==============================] - 0s 4ms/step - loss: 27.8882 - mae: 27.8882\n",
            "Epoch 65/100\n",
            "2/2 [==============================] - 0s 5ms/step - loss: 27.8554 - mae: 27.8554\n",
            "Epoch 66/100\n",
            "2/2 [==============================] - 0s 5ms/step - loss: 27.8399 - mae: 27.8399\n",
            "Epoch 67/100\n",
            "2/2 [==============================] - 0s 5ms/step - loss: 27.8510 - mae: 27.8510\n",
            "Epoch 68/100\n",
            "2/2 [==============================] - 0s 3ms/step - loss: 27.8679 - mae: 27.8679\n",
            "Epoch 69/100\n",
            "2/2 [==============================] - 0s 8ms/step - loss: 27.8675 - mae: 27.8675\n",
            "Epoch 70/100\n",
            "2/2 [==============================] - 0s 5ms/step - loss: 27.8520 - mae: 27.8520\n",
            "Epoch 71/100\n",
            "2/2 [==============================] - 0s 5ms/step - loss: 27.8211 - mae: 27.8211\n",
            "Epoch 72/100\n",
            "2/2 [==============================] - 0s 7ms/step - loss: 27.8095 - mae: 27.8095\n",
            "Epoch 73/100\n",
            "2/2 [==============================] - 0s 8ms/step - loss: 27.7869 - mae: 27.7869\n",
            "Epoch 74/100\n",
            "2/2 [==============================] - 0s 7ms/step - loss: 27.7788 - mae: 27.7788\n",
            "Epoch 75/100\n",
            "2/2 [==============================] - 0s 9ms/step - loss: 27.7628 - mae: 27.7628\n",
            "Epoch 76/100\n",
            "2/2 [==============================] - 0s 4ms/step - loss: 27.8294 - mae: 27.8294\n",
            "Epoch 77/100\n",
            "2/2 [==============================] - 0s 7ms/step - loss: 27.8927 - mae: 27.8927\n",
            "Epoch 78/100\n",
            "2/2 [==============================] - 0s 6ms/step - loss: 27.8370 - mae: 27.8370\n",
            "Epoch 79/100\n",
            "2/2 [==============================] - 0s 6ms/step - loss: 27.7750 - mae: 27.7750\n",
            "Epoch 80/100\n",
            "2/2 [==============================] - 0s 4ms/step - loss: 27.7274 - mae: 27.7274\n",
            "Epoch 81/100\n",
            "2/2 [==============================] - 0s 7ms/step - loss: 27.7280 - mae: 27.7280\n",
            "Epoch 82/100\n",
            "2/2 [==============================] - 0s 4ms/step - loss: 27.7307 - mae: 27.7307\n",
            "Epoch 83/100\n",
            "2/2 [==============================] - 0s 9ms/step - loss: 27.7366 - mae: 27.7366\n",
            "Epoch 84/100\n",
            "2/2 [==============================] - 0s 6ms/step - loss: 27.7221 - mae: 27.7221\n",
            "Epoch 85/100\n",
            "2/2 [==============================] - 0s 7ms/step - loss: 27.7030 - mae: 27.7030\n",
            "Epoch 86/100\n",
            "2/2 [==============================] - 0s 5ms/step - loss: 27.6808 - mae: 27.6808\n",
            "Epoch 87/100\n",
            "2/2 [==============================] - 0s 6ms/step - loss: 27.6709 - mae: 27.6709\n",
            "Epoch 88/100\n",
            "2/2 [==============================] - 0s 4ms/step - loss: 27.6672 - mae: 27.6672\n",
            "Epoch 89/100\n",
            "2/2 [==============================] - 0s 5ms/step - loss: 27.6688 - mae: 27.6688\n",
            "Epoch 90/100\n",
            "2/2 [==============================] - 0s 5ms/step - loss: 27.6627 - mae: 27.6627\n",
            "Epoch 91/100\n",
            "2/2 [==============================] - 0s 5ms/step - loss: 27.6514 - mae: 27.6514\n",
            "Epoch 92/100\n",
            "2/2 [==============================] - 0s 5ms/step - loss: 27.6573 - mae: 27.6573\n",
            "Epoch 93/100\n",
            "2/2 [==============================] - 0s 3ms/step - loss: 27.6391 - mae: 27.6391\n",
            "Epoch 94/100\n",
            "2/2 [==============================] - 0s 4ms/step - loss: 27.6160 - mae: 27.6160\n",
            "Epoch 95/100\n",
            "2/2 [==============================] - 0s 8ms/step - loss: 27.6042 - mae: 27.6042\n",
            "Epoch 96/100\n",
            "2/2 [==============================] - 0s 11ms/step - loss: 27.6227 - mae: 27.6227\n",
            "Epoch 97/100\n",
            "2/2 [==============================] - 0s 10ms/step - loss: 27.6234 - mae: 27.6234\n",
            "Epoch 98/100\n",
            "2/2 [==============================] - 0s 7ms/step - loss: 27.5950 - mae: 27.5950\n",
            "Epoch 99/100\n",
            "2/2 [==============================] - 0s 6ms/step - loss: 27.5643 - mae: 27.5643\n",
            "Epoch 100/100\n",
            "2/2 [==============================] - 0s 7ms/step - loss: 27.5605 - mae: 27.5605\n"
          ],
          "name": "stdout"
        },
        {
          "output_type": "execute_result",
          "data": {
            "text/plain": [
              "<tensorflow.python.keras.callbacks.History at 0x7f539c401590>"
            ]
          },
          "metadata": {
            "tags": []
          },
          "execution_count": 47
        }
      ]
    },
    {
      "cell_type": "code",
      "metadata": {
        "colab": {
          "base_uri": "https://localhost:8080/",
          "height": 466
        },
        "id": "ycuQ72NFMebZ",
        "outputId": "718c2536-ffd5-4bf0-f492-cc3b2f58241f"
      },
      "source": [
        "#Make and plot predictions\n",
        "y_preds_2 = model_2.predict(X_test)\n",
        "\n",
        "plot_predictions(train_data= X_train,\n",
        "                 train_labels = y_train,\n",
        "                 test_data = X_test,\n",
        "                 test_labels = y_test,\n",
        "                 predictions = y_preds_2)"
      ],
      "execution_count": 48,
      "outputs": [
        {
          "output_type": "stream",
          "text": [
            "WARNING:tensorflow:6 out of the last 6 calls to <function Model.make_predict_function.<locals>.predict_function at 0x7f539f462200> triggered tf.function retracing. Tracing is expensive and the excessive number of tracings could be due to (1) creating @tf.function repeatedly in a loop, (2) passing tensors with different shapes, (3) passing Python objects instead of tensors. For (1), please define your @tf.function outside of the loop. For (2), @tf.function has experimental_relax_shapes=True option that relaxes argument shapes that can avoid unnecessary retracing. For (3), please refer to https://www.tensorflow.org/guide/function#controlling_retracing and https://www.tensorflow.org/api_docs/python/tf/function for  more details.\n"
          ],
          "name": "stdout"
        },
        {
          "output_type": "display_data",
          "data": {
            "image/png": "[encoded data removed]",
            "text/plain": [
              "<Figure size 720x504 with 1 Axes>"
            ]
          },
          "metadata": {
            "tags": []
          }
        }
      ]
    },
    {
      "cell_type": "code",
      "metadata": {
        "colab": {
          "base_uri": "https://localhost:8080/"
        },
        "id": "L3MTZj_9NQqw",
        "outputId": "a08d4dd4-2a57-40a1-bb88-38253b3de197"
      },
      "source": [
        "# Calculate model_2 evaluation metrics \n",
        "mae_2 = mae(y_test, tf.squeeze(y_preds_2))\n",
        "mse_2 = mse(y_test, tf.squeeze(y_preds_2))\n",
        "\n",
        "mae_2, mse_2"
      ],
      "execution_count": 49,
      "outputs": [
        {
          "output_type": "execute_result",
          "data": {
            "text/plain": [
              "(<tf.Tensor: shape=(), dtype=float32, numpy=3.4039192>,\n",
              " <tf.Tensor: shape=(), dtype=float32, numpy=13.329376>)"
            ]
          },
          "metadata": {
            "tags": []
          },
          "execution_count": 49
        }
      ]
    },
    {
      "cell_type": "markdown",
      "metadata": {
        "id": "2fY6DXykN5TM"
      },
      "source": [
        "### ** Build Model 3 **"
      ]
    },
    {
      "cell_type": "code",
      "metadata": {
        "id": "-zl5PB6RShhw",
        "outputId": "c95d3541-5767-4f7b-d936-3c0f7fad8b0c",
        "colab": {
          "base_uri": "https://localhost:8080/"
        }
      },
      "source": [
        "# Set random seed\n",
        "tf.random.set_seed(42)\n",
        "\n",
        "# 1. Create the model\n",
        "model_3 = tf.keras.Sequential()\n",
        "model_3.add(tf.keras.layers.Dense(10, activation = 'relu')),\n",
        "model_3.add(tf.keras.layers.Dense(1, activation= 'relu'))\n",
        "\n",
        "# 2. Compile the model\n",
        "\n",
        "model_3.compile(loss = tf.keras.losses.mae,\n",
        "                optimizer = tf.keras.optimizers.Adam(learning_rate = 0.01),\n",
        "                metrics = ['mae'])\n",
        "\n",
        "#3. Run the model\n",
        "\n",
        "model_3.fit(X_train, y_train, epochs = 500)"
      ],
      "execution_count": 50,
      "outputs": [
        {
          "output_type": "stream",
          "text": [
            "Epoch 1/500\n",
            "2/2 [==============================] - 0s 8ms/step - loss: 42.9790 - mae: 42.9790\n",
            "Epoch 2/500\n",
            "2/2 [==============================] - 0s 7ms/step - loss: 39.9109 - mae: 39.9109\n",
            "Epoch 3/500\n",
            "2/2 [==============================] - 0s 6ms/step - loss: 36.9743 - mae: 36.9743\n",
            "Epoch 4/500\n",
            "2/2 [==============================] - 0s 7ms/step - loss: 33.9349 - mae: 33.9349\n",
            "Epoch 5/500\n",
            "2/2 [==============================] - 0s 6ms/step - loss: 31.0283 - mae: 31.0283\n",
            "Epoch 6/500\n",
            "2/2 [==============================] - 0s 6ms/step - loss: 30.0460 - mae: 30.0460\n",
            "Epoch 7/500\n",
            "2/2 [==============================] - 0s 5ms/step - loss: 29.1513 - mae: 29.1513\n",
            "Epoch 8/500\n",
            "2/2 [==============================] - 0s 3ms/step - loss: 28.3830 - mae: 28.3830\n",
            "Epoch 9/500\n",
            "2/2 [==============================] - 0s 7ms/step - loss: 28.3122 - mae: 28.3122\n",
            "Epoch 10/500\n",
            "2/2 [==============================] - 0s 5ms/step - loss: 28.4625 - mae: 28.4625\n",
            "Epoch 11/500\n",
            "2/2 [==============================] - 0s 5ms/step - loss: 28.5315 - mae: 28.5315\n",
            "Epoch 12/500\n",
            "2/2 [==============================] - 0s 5ms/step - loss: 28.5579 - mae: 28.5579\n",
            "Epoch 13/500\n",
            "2/2 [==============================] - 0s 4ms/step - loss: 28.5453 - mae: 28.5453\n",
            "Epoch 14/500\n",
            "2/2 [==============================] - 0s 3ms/step - loss: 28.4740 - mae: 28.4740\n",
            "Epoch 15/500\n",
            "2/2 [==============================] - 0s 4ms/step - loss: 28.3715 - mae: 28.3715\n",
            "Epoch 16/500\n",
            "2/2 [==============================] - 0s 5ms/step - loss: 28.2531 - mae: 28.2531\n",
            "Epoch 17/500\n",
            "2/2 [==============================] - 0s 3ms/step - loss: 28.1713 - mae: 28.1713\n",
            "Epoch 18/500\n",
            "2/2 [==============================] - 0s 3ms/step - loss: 28.2032 - mae: 28.2032\n",
            "Epoch 19/500\n",
            "2/2 [==============================] - 0s 3ms/step - loss: 28.3004 - mae: 28.3004\n",
            "Epoch 20/500\n",
            "2/2 [==============================] - 0s 3ms/step - loss: 28.4080 - mae: 28.4080\n",
            "Epoch 21/500\n",
            "2/2 [==============================] - 0s 2ms/step - loss: 28.3707 - mae: 28.3707\n",
            "Epoch 22/500\n",
            "2/2 [==============================] - 0s 3ms/step - loss: 28.2108 - mae: 28.2108\n",
            "Epoch 23/500\n",
            "2/2 [==============================] - 0s 3ms/step - loss: 28.1597 - mae: 28.1597\n",
            "Epoch 24/500\n",
            "2/2 [==============================] - 0s 2ms/step - loss: 28.1902 - mae: 28.1902\n",
            "Epoch 25/500\n",
            "2/2 [==============================] - 0s 3ms/step - loss: 28.2495 - mae: 28.2495\n",
            "Epoch 26/500\n",
            "2/2 [==============================] - 0s 3ms/step - loss: 28.3321 - mae: 28.3321\n",
            "Epoch 27/500\n",
            "2/2 [==============================] - 0s 4ms/step - loss: 28.3441 - mae: 28.3441\n",
            "Epoch 28/500\n",
            "2/2 [==============================] - 0s 6ms/step - loss: 28.2931 - mae: 28.2931\n",
            "Epoch 29/500\n",
            "2/2 [==============================] - 0s 4ms/step - loss: 28.2301 - mae: 28.2301\n",
            "Epoch 30/500\n",
            "2/2 [==============================] - 0s 3ms/step - loss: 28.1375 - mae: 28.1375\n",
            "Epoch 31/500\n",
            "2/2 [==============================] - 0s 4ms/step - loss: 28.1034 - mae: 28.1034\n",
            "Epoch 32/500\n",
            "2/2 [==============================] - 0s 4ms/step - loss: 28.1174 - mae: 28.1174\n",
            "Epoch 33/500\n",
            "2/2 [==============================] - 0s 3ms/step - loss: 28.1689 - mae: 28.1689\n",
            "Epoch 34/500\n",
            "2/2 [==============================] - 0s 4ms/step - loss: 28.1766 - mae: 28.1766\n",
            "Epoch 35/500\n",
            "2/2 [==============================] - 0s 5ms/step - loss: 28.1293 - mae: 28.1293\n",
            "Epoch 36/500\n",
            "2/2 [==============================] - 0s 3ms/step - loss: 28.0949 - mae: 28.0949\n",
            "Epoch 37/500\n",
            "2/2 [==============================] - 0s 4ms/step - loss: 28.0693 - mae: 28.0693\n",
            "Epoch 38/500\n",
            "2/2 [==============================] - 0s 8ms/step - loss: 28.0565 - mae: 28.0565\n",
            "Epoch 39/500\n",
            "2/2 [==============================] - 0s 5ms/step - loss: 28.0706 - mae: 28.0706\n",
            "Epoch 40/500\n",
            "2/2 [==============================] - 0s 9ms/step - loss: 28.0673 - mae: 28.0673\n",
            "Epoch 41/500\n",
            "2/2 [==============================] - 0s 8ms/step - loss: 28.0625 - mae: 28.0625\n",
            "Epoch 42/500\n",
            "2/2 [==============================] - 0s 4ms/step - loss: 28.0597 - mae: 28.0597\n",
            "Epoch 43/500\n",
            "2/2 [==============================] - 0s 4ms/step - loss: 28.0590 - mae: 28.0590\n",
            "Epoch 44/500\n",
            "2/2 [==============================] - 0s 3ms/step - loss: 28.0435 - mae: 28.0435\n",
            "Epoch 45/500\n",
            "2/2 [==============================] - 0s 3ms/step - loss: 28.0262 - mae: 28.0262\n",
            "Epoch 46/500\n",
            "2/2 [==============================] - 0s 4ms/step - loss: 28.0039 - mae: 28.0039\n",
            "Epoch 47/500\n",
            "2/2 [==============================] - 0s 3ms/step - loss: 27.9949 - mae: 27.9949\n",
            "Epoch 48/500\n",
            "2/2 [==============================] - 0s 3ms/step - loss: 27.9895 - mae: 27.9895\n",
            "Epoch 49/500\n",
            "2/2 [==============================] - 0s 3ms/step - loss: 27.9818 - mae: 27.9818\n",
            "Epoch 50/500\n",
            "2/2 [==============================] - 0s 9ms/step - loss: 27.9824 - mae: 27.9824\n",
            "Epoch 51/500\n",
            "2/2 [==============================] - 0s 6ms/step - loss: 27.9625 - mae: 27.9625\n",
            "Epoch 52/500\n",
            "2/2 [==============================] - 0s 4ms/step - loss: 27.9550 - mae: 27.9550\n",
            "Epoch 53/500\n",
            "2/2 [==============================] - 0s 4ms/step - loss: 27.9442 - mae: 27.9442\n",
            "Epoch 54/500\n",
            "2/2 [==============================] - 0s 14ms/step - loss: 27.9355 - mae: 27.9355\n",
            "Epoch 55/500\n",
            "2/2 [==============================] - 0s 5ms/step - loss: 27.9407 - mae: 27.9407\n",
            "Epoch 56/500\n",
            "2/2 [==============================] - 0s 3ms/step - loss: 27.9465 - mae: 27.9465\n",
            "Epoch 57/500\n",
            "2/2 [==============================] - 0s 4ms/step - loss: 27.9391 - mae: 27.9391\n",
            "Epoch 58/500\n",
            "2/2 [==============================] - 0s 5ms/step - loss: 27.9237 - mae: 27.9237\n",
            "Epoch 59/500\n",
            "2/2 [==============================] - 0s 3ms/step - loss: 27.9113 - mae: 27.9113\n",
            "Epoch 60/500\n",
            "2/2 [==============================] - 0s 6ms/step - loss: 27.8998 - mae: 27.8998\n",
            "Epoch 61/500\n",
            "2/2 [==============================] - 0s 5ms/step - loss: 27.8854 - mae: 27.8854\n",
            "Epoch 62/500\n",
            "2/2 [==============================] - 0s 5ms/step - loss: 27.8760 - mae: 27.8760\n",
            "Epoch 63/500\n",
            "2/2 [==============================] - 0s 5ms/step - loss: 27.8775 - mae: 27.8775\n",
            "Epoch 64/500\n",
            "2/2 [==============================] - 0s 4ms/step - loss: 27.8882 - mae: 27.8882\n",
            "Epoch 65/500\n",
            "2/2 [==============================] - 0s 2ms/step - loss: 27.8554 - mae: 27.8554\n",
            "Epoch 66/500\n",
            "2/2 [==============================] - 0s 3ms/step - loss: 27.8399 - mae: 27.8399\n",
            "Epoch 67/500\n",
            "2/2 [==============================] - 0s 5ms/step - loss: 27.8510 - mae: 27.8510\n",
            "Epoch 68/500\n",
            "2/2 [==============================] - 0s 4ms/step - loss: 27.8679 - mae: 27.8679\n",
            "Epoch 69/500\n",
            "2/2 [==============================] - 0s 5ms/step - loss: 27.8675 - mae: 27.8675\n",
            "Epoch 70/500\n",
            "2/2 [==============================] - 0s 5ms/step - loss: 27.8520 - mae: 27.8520\n",
            "Epoch 71/500\n",
            "2/2 [==============================] - 0s 8ms/step - loss: 27.8211 - mae: 27.8211\n",
            "Epoch 72/500\n",
            "2/2 [==============================] - 0s 5ms/step - loss: 27.8095 - mae: 27.8095\n",
            "Epoch 73/500\n",
            "2/2 [==============================] - 0s 8ms/step - loss: 27.7869 - mae: 27.7869\n",
            "Epoch 74/500\n",
            "2/2 [==============================] - 0s 7ms/step - loss: 27.7788 - mae: 27.7788\n",
            "Epoch 75/500\n",
            "2/2 [==============================] - 0s 5ms/step - loss: 27.7628 - mae: 27.7628\n",
            "Epoch 76/500\n",
            "2/2 [==============================] - 0s 8ms/step - loss: 27.8294 - mae: 27.8294\n",
            "Epoch 77/500\n",
            "2/2 [==============================] - 0s 5ms/step - loss: 27.8927 - mae: 27.8927\n",
            "Epoch 78/500\n",
            "2/2 [==============================] - 0s 4ms/step - loss: 27.8370 - mae: 27.8370\n",
            "Epoch 79/500\n",
            "2/2 [==============================] - 0s 7ms/step - loss: 27.7750 - mae: 27.7750\n",
            "Epoch 80/500\n",
            "2/2 [==============================] - 0s 3ms/step - loss: 27.7274 - mae: 27.7274\n",
            "Epoch 81/500\n",
            "2/2 [==============================] - 0s 5ms/step - loss: 27.7280 - mae: 27.7280\n",
            "Epoch 82/500\n",
            "2/2 [==============================] - 0s 5ms/step - loss: 27.7307 - mae: 27.7307\n",
            "Epoch 83/500\n",
            "2/2 [==============================] - 0s 14ms/step - loss: 27.7366 - mae: 27.7366\n",
            "Epoch 84/500\n",
            "2/2 [==============================] - 0s 4ms/step - loss: 27.7221 - mae: 27.7221\n",
            "Epoch 85/500\n",
            "2/2 [==============================] - 0s 3ms/step - loss: 27.7030 - mae: 27.7030\n",
            "Epoch 86/500\n",
            "2/2 [==============================] - 0s 3ms/step - loss: 27.6808 - mae: 27.6808\n",
            "Epoch 87/500\n",
            "2/2 [==============================] - 0s 5ms/step - loss: 27.6709 - mae: 27.6709\n",
            "Epoch 88/500\n",
            "2/2 [==============================] - 0s 5ms/step - loss: 27.6672 - mae: 27.6672\n",
            "Epoch 89/500\n",
            "2/2 [==============================] - 0s 3ms/step - loss: 27.6688 - mae: 27.6688\n",
            "Epoch 90/500\n",
            "2/2 [==============================] - 0s 5ms/step - loss: 27.6627 - mae: 27.6627\n",
            "Epoch 91/500\n",
            "2/2 [==============================] - 0s 5ms/step - loss: 27.6514 - mae: 27.6514\n",
            "Epoch 92/500\n",
            "2/2 [==============================] - 0s 3ms/step - loss: 27.6573 - mae: 27.6573\n",
            "Epoch 93/500\n",
            "2/2 [==============================] - 0s 3ms/step - loss: 27.6391 - mae: 27.6391\n",
            "Epoch 94/500\n",
            "2/2 [==============================] - 0s 3ms/step - loss: 27.6160 - mae: 27.6160\n",
            "Epoch 95/500\n",
            "2/2 [==============================] - 0s 5ms/step - loss: 27.6042 - mae: 27.6042\n",
            "Epoch 96/500\n",
            "2/2 [==============================] - 0s 5ms/step - loss: 27.6227 - mae: 27.6227\n",
            "Epoch 97/500\n",
            "2/2 [==============================] - 0s 6ms/step - loss: 27.6234 - mae: 27.6234\n",
            "Epoch 98/500\n",
            "2/2 [==============================] - 0s 6ms/step - loss: 27.5950 - mae: 27.5950\n",
            "Epoch 99/500\n",
            "2/2 [==============================] - 0s 4ms/step - loss: 27.5643 - mae: 27.5643\n",
            "Epoch 100/500\n",
            "2/2 [==============================] - 0s 7ms/step - loss: 27.5605 - mae: 27.5605\n",
            "Epoch 101/500\n",
            "2/2 [==============================] - 0s 7ms/step - loss: 27.6054 - mae: 27.6054\n",
            "Epoch 102/500\n",
            "2/2 [==============================] - 0s 5ms/step - loss: 27.6006 - mae: 27.6006\n",
            "Epoch 103/500\n",
            "2/2 [==============================] - 0s 3ms/step - loss: 27.5279 - mae: 27.5279\n",
            "Epoch 104/500\n",
            "2/2 [==============================] - 0s 6ms/step - loss: 27.5564 - mae: 27.5564\n",
            "Epoch 105/500\n",
            "2/2 [==============================] - 0s 4ms/step - loss: 27.5625 - mae: 27.5625\n",
            "Epoch 106/500\n",
            "2/2 [==============================] - 0s 5ms/step - loss: 27.5359 - mae: 27.5359\n",
            "Epoch 107/500\n",
            "2/2 [==============================] - 0s 3ms/step - loss: 27.5172 - mae: 27.5172\n",
            "Epoch 108/500\n",
            "2/2 [==============================] - 0s 3ms/step - loss: 27.4986 - mae: 27.4986\n",
            "Epoch 109/500\n",
            "2/2 [==============================] - 0s 3ms/step - loss: 27.4984 - mae: 27.4984\n",
            "Epoch 110/500\n",
            "2/2 [==============================] - 0s 3ms/step - loss: 27.4712 - mae: 27.4712\n",
            "Epoch 111/500\n",
            "2/2 [==============================] - 0s 3ms/step - loss: 27.5035 - mae: 27.5035\n",
            "Epoch 112/500\n",
            "2/2 [==============================] - 0s 5ms/step - loss: 27.4878 - mae: 27.4878\n",
            "Epoch 113/500\n",
            "2/2 [==============================] - 0s 3ms/step - loss: 27.4673 - mae: 27.4673\n",
            "Epoch 114/500\n",
            "2/2 [==============================] - 0s 7ms/step - loss: 27.4405 - mae: 27.4405\n",
            "Epoch 115/500\n",
            "2/2 [==============================] - 0s 3ms/step - loss: 27.4380 - mae: 27.4380\n",
            "Epoch 116/500\n",
            "2/2 [==============================] - 0s 3ms/step - loss: 27.4335 - mae: 27.4335\n",
            "Epoch 117/500\n",
            "2/2 [==============================] - 0s 4ms/step - loss: 27.4179 - mae: 27.4179\n",
            "Epoch 118/500\n",
            "2/2 [==============================] - 0s 3ms/step - loss: 27.4095 - mae: 27.4095\n",
            "Epoch 119/500\n",
            "2/2 [==============================] - 0s 4ms/step - loss: 27.3941 - mae: 27.3941\n",
            "Epoch 120/500\n",
            "2/2 [==============================] - 0s 3ms/step - loss: 27.3835 - mae: 27.3835\n",
            "Epoch 121/500\n",
            "2/2 [==============================] - 0s 3ms/step - loss: 27.3745 - mae: 27.3745\n",
            "Epoch 122/500\n",
            "2/2 [==============================] - 0s 3ms/step - loss: 27.3640 - mae: 27.3640\n",
            "Epoch 123/500\n",
            "2/2 [==============================] - 0s 3ms/step - loss: 27.3433 - mae: 27.3433\n",
            "Epoch 124/500\n",
            "2/2 [==============================] - 0s 3ms/step - loss: 27.3360 - mae: 27.3360\n",
            "Epoch 125/500\n",
            "2/2 [==============================] - 0s 4ms/step - loss: 27.3232 - mae: 27.3232\n",
            "Epoch 126/500\n",
            "2/2 [==============================] - 0s 3ms/step - loss: 27.3127 - mae: 27.3127\n",
            "Epoch 127/500\n",
            "2/2 [==============================] - 0s 6ms/step - loss: 27.3040 - mae: 27.3040\n",
            "Epoch 128/500\n",
            "2/2 [==============================] - 0s 3ms/step - loss: 27.3263 - mae: 27.3263\n",
            "Epoch 129/500\n",
            "2/2 [==============================] - 0s 6ms/step - loss: 27.3119 - mae: 27.3119\n",
            "Epoch 130/500\n",
            "2/2 [==============================] - 0s 3ms/step - loss: 27.2826 - mae: 27.2826\n",
            "Epoch 131/500\n",
            "2/2 [==============================] - 0s 9ms/step - loss: 27.2491 - mae: 27.2491\n",
            "Epoch 132/500\n",
            "2/2 [==============================] - 0s 3ms/step - loss: 27.2389 - mae: 27.2389\n",
            "Epoch 133/500\n",
            "2/2 [==============================] - 0s 3ms/step - loss: 27.2228 - mae: 27.2228\n",
            "Epoch 134/500\n",
            "2/2 [==============================] - 0s 5ms/step - loss: 27.2211 - mae: 27.2211\n",
            "Epoch 135/500\n",
            "2/2 [==============================] - 0s 3ms/step - loss: 27.1989 - mae: 27.1989\n",
            "Epoch 136/500\n",
            "2/2 [==============================] - 0s 3ms/step - loss: 27.1863 - mae: 27.1863\n",
            "Epoch 137/500\n",
            "2/2 [==============================] - 0s 3ms/step - loss: 27.1947 - mae: 27.1947\n",
            "Epoch 138/500\n",
            "2/2 [==============================] - 0s 3ms/step - loss: 27.1790 - mae: 27.1790\n",
            "Epoch 139/500\n",
            "2/2 [==============================] - 0s 3ms/step - loss: 27.1544 - mae: 27.1544\n",
            "Epoch 140/500\n",
            "2/2 [==============================] - 0s 3ms/step - loss: 27.1305 - mae: 27.1305\n",
            "Epoch 141/500\n",
            "2/2 [==============================] - 0s 7ms/step - loss: 27.1285 - mae: 27.1285\n",
            "Epoch 142/500\n",
            "2/2 [==============================] - 0s 3ms/step - loss: 27.1244 - mae: 27.1244\n",
            "Epoch 143/500\n",
            "2/2 [==============================] - 0s 3ms/step - loss: 27.0920 - mae: 27.0920\n",
            "Epoch 144/500\n",
            "2/2 [==============================] - 0s 3ms/step - loss: 27.0838 - mae: 27.0838\n",
            "Epoch 145/500\n",
            "2/2 [==============================] - 0s 5ms/step - loss: 27.0595 - mae: 27.0595\n",
            "Epoch 146/500\n",
            "2/2 [==============================] - 0s 3ms/step - loss: 27.0504 - mae: 27.0504\n",
            "Epoch 147/500\n",
            "2/2 [==============================] - 0s 4ms/step - loss: 27.0619 - mae: 27.0619\n",
            "Epoch 148/500\n",
            "2/2 [==============================] - 0s 6ms/step - loss: 27.0441 - mae: 27.0441\n",
            "Epoch 149/500\n",
            "2/2 [==============================] - 0s 17ms/step - loss: 27.0050 - mae: 27.0050\n",
            "Epoch 150/500\n",
            "2/2 [==============================] - 0s 7ms/step - loss: 26.9947 - mae: 26.9947\n",
            "Epoch 151/500\n",
            "2/2 [==============================] - 0s 5ms/step - loss: 26.9800 - mae: 26.9800\n",
            "Epoch 152/500\n",
            "2/2 [==============================] - 0s 4ms/step - loss: 26.9757 - mae: 26.9757\n",
            "Epoch 153/500\n",
            "2/2 [==============================] - 0s 3ms/step - loss: 26.9725 - mae: 26.9725\n",
            "Epoch 154/500\n",
            "2/2 [==============================] - 0s 9ms/step - loss: 26.9389 - mae: 26.9389\n",
            "Epoch 155/500\n",
            "2/2 [==============================] - 0s 4ms/step - loss: 26.9478 - mae: 26.9478\n",
            "Epoch 156/500\n",
            "2/2 [==============================] - 0s 6ms/step - loss: 26.9491 - mae: 26.9491\n",
            "Epoch 157/500\n",
            "2/2 [==============================] - 0s 3ms/step - loss: 26.9146 - mae: 26.9146\n",
            "Epoch 158/500\n",
            "2/2 [==============================] - 0s 5ms/step - loss: 26.8805 - mae: 26.8805\n",
            "Epoch 159/500\n",
            "2/2 [==============================] - 0s 5ms/step - loss: 26.8738 - mae: 26.8738\n",
            "Epoch 160/500\n",
            "2/2 [==============================] - 0s 6ms/step - loss: 26.8494 - mae: 26.8494\n",
            "Epoch 161/500\n",
            "2/2 [==============================] - 0s 3ms/step - loss: 26.8872 - mae: 26.8872\n",
            "Epoch 162/500\n",
            "2/2 [==============================] - 0s 3ms/step - loss: 26.8404 - mae: 26.8404\n",
            "Epoch 163/500\n",
            "2/2 [==============================] - 0s 5ms/step - loss: 26.8605 - mae: 26.8605\n",
            "Epoch 164/500\n",
            "2/2 [==============================] - 0s 4ms/step - loss: 26.7841 - mae: 26.7841\n",
            "Epoch 165/500\n",
            "2/2 [==============================] - 0s 5ms/step - loss: 26.7822 - mae: 26.7822\n",
            "Epoch 166/500\n",
            "2/2 [==============================] - 0s 3ms/step - loss: 26.7536 - mae: 26.7536\n",
            "Epoch 167/500\n",
            "2/2 [==============================] - 0s 4ms/step - loss: 26.7958 - mae: 26.7958\n",
            "Epoch 168/500\n",
            "2/2 [==============================] - 0s 8ms/step - loss: 26.7326 - mae: 26.7326\n",
            "Epoch 169/500\n",
            "2/2 [==============================] - 0s 4ms/step - loss: 26.7844 - mae: 26.7844\n",
            "Epoch 170/500\n",
            "2/2 [==============================] - 0s 4ms/step - loss: 26.7070 - mae: 26.7070\n",
            "Epoch 171/500\n",
            "2/2 [==============================] - 0s 5ms/step - loss: 26.6907 - mae: 26.6907\n",
            "Epoch 172/500\n",
            "2/2 [==============================] - 0s 6ms/step - loss: 26.6380 - mae: 26.6380\n",
            "Epoch 173/500\n",
            "2/2 [==============================] - 0s 4ms/step - loss: 26.6710 - mae: 26.6710\n",
            "Epoch 174/500\n",
            "2/2 [==============================] - 0s 6ms/step - loss: 26.5999 - mae: 26.5999\n",
            "Epoch 175/500\n",
            "2/2 [==============================] - 0s 3ms/step - loss: 26.7292 - mae: 26.7292\n",
            "Epoch 176/500\n",
            "2/2 [==============================] - 0s 5ms/step - loss: 26.7194 - mae: 26.7194\n",
            "Epoch 177/500\n",
            "2/2 [==============================] - 0s 3ms/step - loss: 26.5993 - mae: 26.5993\n",
            "Epoch 178/500\n",
            "2/2 [==============================] - 0s 4ms/step - loss: 26.6368 - mae: 26.6368\n",
            "Epoch 179/500\n",
            "2/2 [==============================] - 0s 5ms/step - loss: 26.5645 - mae: 26.5645\n",
            "Epoch 180/500\n",
            "2/2 [==============================] - 0s 4ms/step - loss: 26.5244 - mae: 26.5244\n",
            "Epoch 181/500\n",
            "2/2 [==============================] - 0s 17ms/step - loss: 26.5261 - mae: 26.5261\n",
            "Epoch 182/500\n",
            "2/2 [==============================] - 0s 4ms/step - loss: 26.5620 - mae: 26.5620\n",
            "Epoch 183/500\n",
            "2/2 [==============================] - 0s 4ms/step - loss: 26.6269 - mae: 26.6269\n",
            "Epoch 184/500\n",
            "2/2 [==============================] - 0s 5ms/step - loss: 26.7320 - mae: 26.7320\n",
            "Epoch 185/500\n",
            "2/2 [==============================] - 0s 4ms/step - loss: 26.5573 - mae: 26.5573\n",
            "Epoch 186/500\n",
            "2/2 [==============================] - 0s 3ms/step - loss: 26.7384 - mae: 26.7384\n",
            "Epoch 187/500\n",
            "2/2 [==============================] - 0s 7ms/step - loss: 26.6435 - mae: 26.6435\n",
            "Epoch 188/500\n",
            "2/2 [==============================] - 0s 5ms/step - loss: 26.6514 - mae: 26.6514\n",
            "Epoch 189/500\n",
            "2/2 [==============================] - 0s 3ms/step - loss: 26.6241 - mae: 26.6241\n",
            "Epoch 190/500\n",
            "2/2 [==============================] - 0s 3ms/step - loss: 26.6530 - mae: 26.6530\n",
            "Epoch 191/500\n",
            "2/2 [==============================] - 0s 3ms/step - loss: 26.7147 - mae: 26.7147\n",
            "Epoch 192/500\n",
            "2/2 [==============================] - 0s 15ms/step - loss: 26.5031 - mae: 26.5031\n",
            "Epoch 193/500\n",
            "2/2 [==============================] - 0s 6ms/step - loss: 26.8585 - mae: 26.8585\n",
            "Epoch 194/500\n",
            "2/2 [==============================] - 0s 3ms/step - loss: 26.8210 - mae: 26.8210\n",
            "Epoch 195/500\n",
            "2/2 [==============================] - 0s 6ms/step - loss: 26.5397 - mae: 26.5397\n",
            "Epoch 196/500\n",
            "2/2 [==============================] - 0s 3ms/step - loss: 26.8835 - mae: 26.8835\n",
            "Epoch 197/500\n",
            "2/2 [==============================] - 0s 3ms/step - loss: 26.7560 - mae: 26.7560\n",
            "Epoch 198/500\n",
            "2/2 [==============================] - 0s 3ms/step - loss: 26.5881 - mae: 26.5881\n",
            "Epoch 199/500\n",
            "2/2 [==============================] - 0s 3ms/step - loss: 26.8504 - mae: 26.8504\n",
            "Epoch 200/500\n",
            "2/2 [==============================] - 0s 3ms/step - loss: 26.7346 - mae: 26.7346\n",
            "Epoch 201/500\n",
            "2/2 [==============================] - 0s 3ms/step - loss: 26.5572 - mae: 26.5572\n",
            "Epoch 202/500\n",
            "2/2 [==============================] - 0s 3ms/step - loss: 26.7378 - mae: 26.7378\n",
            "Epoch 203/500\n",
            "2/2 [==============================] - 0s 3ms/step - loss: 26.6032 - mae: 26.6032\n",
            "Epoch 204/500\n",
            "2/2 [==============================] - 0s 4ms/step - loss: 26.7022 - mae: 26.7022\n",
            "Epoch 205/500\n",
            "2/2 [==============================] - 0s 3ms/step - loss: 26.8535 - mae: 26.8535\n",
            "Epoch 206/500\n",
            "2/2 [==============================] - 0s 3ms/step - loss: 26.6163 - mae: 26.6163\n",
            "Epoch 207/500\n",
            "2/2 [==============================] - 0s 4ms/step - loss: 26.5611 - mae: 26.5611\n",
            "Epoch 208/500\n",
            "2/2 [==============================] - 0s 7ms/step - loss: 26.5068 - mae: 26.5068\n",
            "Epoch 209/500\n",
            "2/2 [==============================] - 0s 12ms/step - loss: 26.4708 - mae: 26.4708\n",
            "Epoch 210/500\n",
            "2/2 [==============================] - 0s 9ms/step - loss: 26.5226 - mae: 26.5226\n",
            "Epoch 211/500\n",
            "2/2 [==============================] - 0s 3ms/step - loss: 26.5642 - mae: 26.5642\n",
            "Epoch 212/500\n",
            "2/2 [==============================] - 0s 6ms/step - loss: 26.4907 - mae: 26.4907\n",
            "Epoch 213/500\n",
            "2/2 [==============================] - 0s 19ms/step - loss: 26.7494 - mae: 26.7494\n",
            "Epoch 214/500\n",
            "2/2 [==============================] - 0s 4ms/step - loss: 26.7499 - mae: 26.7499\n",
            "Epoch 215/500\n",
            "2/2 [==============================] - 0s 9ms/step - loss: 26.5406 - mae: 26.5406\n",
            "Epoch 216/500\n",
            "2/2 [==============================] - 0s 8ms/step - loss: 26.7250 - mae: 26.7250\n",
            "Epoch 217/500\n",
            "2/2 [==============================] - 0s 13ms/step - loss: 26.6929 - mae: 26.6929\n",
            "Epoch 218/500\n",
            "2/2 [==============================] - 0s 7ms/step - loss: 26.5068 - mae: 26.5068\n",
            "Epoch 219/500\n",
            "2/2 [==============================] - 0s 6ms/step - loss: 26.6006 - mae: 26.6006\n",
            "Epoch 220/500\n",
            "2/2 [==============================] - 0s 10ms/step - loss: 26.4735 - mae: 26.4735\n",
            "Epoch 221/500\n",
            "2/2 [==============================] - 0s 11ms/step - loss: 26.6146 - mae: 26.6146\n",
            "Epoch 222/500\n",
            "2/2 [==============================] - 0s 10ms/step - loss: 26.5204 - mae: 26.5204\n",
            "Epoch 223/500\n",
            "2/2 [==============================] - 0s 5ms/step - loss: 26.6773 - mae: 26.6773\n",
            "Epoch 224/500\n",
            "2/2 [==============================] - 0s 3ms/step - loss: 26.5431 - mae: 26.5431\n",
            "Epoch 225/500\n",
            "2/2 [==============================] - 0s 6ms/step - loss: 26.5904 - mae: 26.5904\n",
            "Epoch 226/500\n",
            "2/2 [==============================] - 0s 4ms/step - loss: 26.4902 - mae: 26.4902\n",
            "Epoch 227/500\n",
            "2/2 [==============================] - 0s 6ms/step - loss: 26.6227 - mae: 26.6227\n",
            "Epoch 228/500\n",
            "2/2 [==============================] - 0s 4ms/step - loss: 26.5191 - mae: 26.5191\n",
            "Epoch 229/500\n",
            "2/2 [==============================] - 0s 5ms/step - loss: 26.5193 - mae: 26.5193\n",
            "Epoch 230/500\n",
            "2/2 [==============================] - 0s 4ms/step - loss: 26.5026 - mae: 26.5026\n",
            "Epoch 231/500\n",
            "2/2 [==============================] - 0s 5ms/step - loss: 26.5224 - mae: 26.5224\n",
            "Epoch 232/500\n",
            "2/2 [==============================] - 0s 8ms/step - loss: 26.5177 - mae: 26.5177\n",
            "Epoch 233/500\n",
            "2/2 [==============================] - 0s 4ms/step - loss: 26.5031 - mae: 26.5031\n",
            "Epoch 234/500\n",
            "2/2 [==============================] - 0s 4ms/step - loss: 26.5409 - mae: 26.5409\n",
            "Epoch 235/500\n",
            "2/2 [==============================] - 0s 4ms/step - loss: 26.5115 - mae: 26.5115\n",
            "Epoch 236/500\n",
            "2/2 [==============================] - 0s 3ms/step - loss: 26.4997 - mae: 26.4997\n",
            "Epoch 237/500\n",
            "2/2 [==============================] - 0s 5ms/step - loss: 26.4932 - mae: 26.4932\n",
            "Epoch 238/500\n",
            "2/2 [==============================] - 0s 5ms/step - loss: 26.4747 - mae: 26.4747\n",
            "Epoch 239/500\n",
            "2/2 [==============================] - 0s 5ms/step - loss: 26.5838 - mae: 26.5838\n",
            "Epoch 240/500\n",
            "2/2 [==============================] - 0s 4ms/step - loss: 26.4785 - mae: 26.4785\n",
            "Epoch 241/500\n",
            "2/2 [==============================] - 0s 5ms/step - loss: 26.4897 - mae: 26.4897\n",
            "Epoch 242/500\n",
            "2/2 [==============================] - 0s 14ms/step - loss: 26.5206 - mae: 26.5206\n",
            "Epoch 243/500\n",
            "2/2 [==============================] - 0s 16ms/step - loss: 26.4977 - mae: 26.4977\n",
            "Epoch 244/500\n",
            "2/2 [==============================] - 0s 4ms/step - loss: 26.5514 - mae: 26.5514\n",
            "Epoch 245/500\n",
            "2/2 [==============================] - 0s 5ms/step - loss: 26.5311 - mae: 26.5311\n",
            "Epoch 246/500\n",
            "2/2 [==============================] - 0s 3ms/step - loss: 26.5037 - mae: 26.5037\n",
            "Epoch 247/500\n",
            "2/2 [==============================] - 0s 4ms/step - loss: 26.5911 - mae: 26.5911\n",
            "Epoch 248/500\n",
            "2/2 [==============================] - 0s 3ms/step - loss: 26.4910 - mae: 26.4910\n",
            "Epoch 249/500\n",
            "2/2 [==============================] - 0s 3ms/step - loss: 26.6371 - mae: 26.6371\n",
            "Epoch 250/500\n",
            "2/2 [==============================] - 0s 6ms/step - loss: 26.5551 - mae: 26.5551\n",
            "Epoch 251/500\n",
            "2/2 [==============================] - 0s 3ms/step - loss: 26.6033 - mae: 26.6033\n",
            "Epoch 252/500\n",
            "2/2 [==============================] - 0s 3ms/step - loss: 26.5885 - mae: 26.5885\n",
            "Epoch 253/500\n",
            "2/2 [==============================] - 0s 4ms/step - loss: 26.5525 - mae: 26.5525\n",
            "Epoch 254/500\n",
            "2/2 [==============================] - 0s 14ms/step - loss: 26.5772 - mae: 26.5772\n",
            "Epoch 255/500\n",
            "2/2 [==============================] - 0s 10ms/step - loss: 26.5509 - mae: 26.5509\n",
            "Epoch 256/500\n",
            "2/2 [==============================] - 0s 5ms/step - loss: 26.5122 - mae: 26.5122\n",
            "Epoch 257/500\n",
            "2/2 [==============================] - 0s 4ms/step - loss: 26.4650 - mae: 26.4650\n",
            "Epoch 258/500\n",
            "2/2 [==============================] - 0s 5ms/step - loss: 26.4930 - mae: 26.4930\n",
            "Epoch 259/500\n",
            "2/2 [==============================] - 0s 7ms/step - loss: 26.4934 - mae: 26.4934\n",
            "Epoch 260/500\n",
            "2/2 [==============================] - 0s 6ms/step - loss: 26.4906 - mae: 26.4906\n",
            "Epoch 261/500\n",
            "2/2 [==============================] - 0s 7ms/step - loss: 26.4832 - mae: 26.4832\n",
            "Epoch 262/500\n",
            "2/2 [==============================] - 0s 5ms/step - loss: 26.4920 - mae: 26.4920\n",
            "Epoch 263/500\n",
            "2/2 [==============================] - 0s 10ms/step - loss: 26.4932 - mae: 26.4932\n",
            "Epoch 264/500\n",
            "2/2 [==============================] - 0s 4ms/step - loss: 26.4661 - mae: 26.4661\n",
            "Epoch 265/500\n",
            "2/2 [==============================] - 0s 3ms/step - loss: 26.5542 - mae: 26.5542\n",
            "Epoch 266/500\n",
            "2/2 [==============================] - 0s 5ms/step - loss: 26.5196 - mae: 26.5196\n",
            "Epoch 267/500\n",
            "2/2 [==============================] - 0s 9ms/step - loss: 26.5843 - mae: 26.5843\n",
            "Epoch 268/500\n",
            "2/2 [==============================] - 0s 4ms/step - loss: 26.5171 - mae: 26.5171\n",
            "Epoch 269/500\n",
            "2/2 [==============================] - 0s 4ms/step - loss: 26.5650 - mae: 26.5650\n",
            "Epoch 270/500\n",
            "2/2 [==============================] - 0s 5ms/step - loss: 26.4970 - mae: 26.4970\n",
            "Epoch 271/500\n",
            "2/2 [==============================] - 0s 6ms/step - loss: 26.5282 - mae: 26.5282\n",
            "Epoch 272/500\n",
            "2/2 [==============================] - 0s 5ms/step - loss: 26.5294 - mae: 26.5294\n",
            "Epoch 273/500\n",
            "2/2 [==============================] - 0s 4ms/step - loss: 26.4997 - mae: 26.4997\n",
            "Epoch 274/500\n",
            "2/2 [==============================] - 0s 3ms/step - loss: 26.5666 - mae: 26.5666\n",
            "Epoch 275/500\n",
            "2/2 [==============================] - 0s 5ms/step - loss: 26.4875 - mae: 26.4875\n",
            "Epoch 276/500\n",
            "2/2 [==============================] - 0s 4ms/step - loss: 26.5739 - mae: 26.5739\n",
            "Epoch 277/500\n",
            "2/2 [==============================] - 0s 3ms/step - loss: 26.5015 - mae: 26.5015\n",
            "Epoch 278/500\n",
            "2/2 [==============================] - 0s 9ms/step - loss: 26.5882 - mae: 26.5882\n",
            "Epoch 279/500\n",
            "2/2 [==============================] - 0s 3ms/step - loss: 26.4792 - mae: 26.4792\n",
            "Epoch 280/500\n",
            "2/2 [==============================] - 0s 3ms/step - loss: 26.6591 - mae: 26.6591\n",
            "Epoch 281/500\n",
            "2/2 [==============================] - 0s 8ms/step - loss: 26.5914 - mae: 26.5914\n",
            "Epoch 282/500\n",
            "2/2 [==============================] - 0s 3ms/step - loss: 26.5838 - mae: 26.5838\n",
            "Epoch 283/500\n",
            "2/2 [==============================] - 0s 3ms/step - loss: 26.6338 - mae: 26.6338\n",
            "Epoch 284/500\n",
            "2/2 [==============================] - 0s 8ms/step - loss: 26.4850 - mae: 26.4850\n",
            "Epoch 285/500\n",
            "2/2 [==============================] - 0s 3ms/step - loss: 26.6832 - mae: 26.6832\n",
            "Epoch 286/500\n",
            "2/2 [==============================] - 0s 3ms/step - loss: 26.6469 - mae: 26.6469\n",
            "Epoch 287/500\n",
            "2/2 [==============================] - 0s 4ms/step - loss: 26.4836 - mae: 26.4836\n",
            "Epoch 288/500\n",
            "2/2 [==============================] - 0s 9ms/step - loss: 26.4911 - mae: 26.4911\n",
            "Epoch 289/500\n",
            "2/2 [==============================] - 0s 3ms/step - loss: 26.5709 - mae: 26.5709\n",
            "Epoch 290/500\n",
            "2/2 [==============================] - 0s 3ms/step - loss: 26.4947 - mae: 26.4947\n",
            "Epoch 291/500\n",
            "2/2 [==============================] - 0s 3ms/step - loss: 26.6543 - mae: 26.6543\n",
            "Epoch 292/500\n",
            "2/2 [==============================] - 0s 3ms/step - loss: 26.6080 - mae: 26.6080\n",
            "Epoch 293/500\n",
            "2/2 [==============================] - 0s 7ms/step - loss: 26.5569 - mae: 26.5569\n",
            "Epoch 294/500\n",
            "2/2 [==============================] - 0s 4ms/step - loss: 26.5923 - mae: 26.5923\n",
            "Epoch 295/500\n",
            "2/2 [==============================] - 0s 6ms/step - loss: 26.4792 - mae: 26.4792\n",
            "Epoch 296/500\n",
            "2/2 [==============================] - 0s 5ms/step - loss: 26.4831 - mae: 26.4831\n",
            "Epoch 297/500\n",
            "2/2 [==============================] - 0s 9ms/step - loss: 26.5497 - mae: 26.5497\n",
            "Epoch 298/500\n",
            "2/2 [==============================] - 0s 8ms/step - loss: 26.4723 - mae: 26.4723\n",
            "Epoch 299/500\n",
            "2/2 [==============================] - 0s 4ms/step - loss: 26.4606 - mae: 26.4606\n",
            "Epoch 300/500\n",
            "2/2 [==============================] - 0s 6ms/step - loss: 26.4889 - mae: 26.4889\n",
            "Epoch 301/500\n",
            "2/2 [==============================] - 0s 2ms/step - loss: 26.5528 - mae: 26.5528\n",
            "Epoch 302/500\n",
            "2/2 [==============================] - 0s 4ms/step - loss: 26.4875 - mae: 26.4875\n",
            "Epoch 303/500\n",
            "2/2 [==============================] - 0s 3ms/step - loss: 26.4957 - mae: 26.4957\n",
            "Epoch 304/500\n",
            "2/2 [==============================] - 0s 4ms/step - loss: 26.4647 - mae: 26.4647\n",
            "Epoch 305/500\n",
            "2/2 [==============================] - 0s 6ms/step - loss: 26.6115 - mae: 26.6115\n",
            "Epoch 306/500\n",
            "2/2 [==============================] - 0s 3ms/step - loss: 26.6742 - mae: 26.6742\n",
            "Epoch 307/500\n",
            "2/2 [==============================] - 0s 7ms/step - loss: 26.5271 - mae: 26.5271\n",
            "Epoch 308/500\n",
            "2/2 [==============================] - 0s 3ms/step - loss: 26.5708 - mae: 26.5708\n",
            "Epoch 309/500\n",
            "2/2 [==============================] - 0s 9ms/step - loss: 26.4791 - mae: 26.4791\n",
            "Epoch 310/500\n",
            "2/2 [==============================] - 0s 2ms/step - loss: 26.6710 - mae: 26.6710\n",
            "Epoch 311/500\n",
            "2/2 [==============================] - 0s 8ms/step - loss: 26.6164 - mae: 26.6164\n",
            "Epoch 312/500\n",
            "2/2 [==============================] - 0s 12ms/step - loss: 26.5314 - mae: 26.5314\n",
            "Epoch 313/500\n",
            "2/2 [==============================] - 0s 15ms/step - loss: 26.5408 - mae: 26.5408\n",
            "Epoch 314/500\n",
            "2/2 [==============================] - 0s 5ms/step - loss: 26.5799 - mae: 26.5799\n",
            "Epoch 315/500\n",
            "2/2 [==============================] - 0s 7ms/step - loss: 26.6599 - mae: 26.6599\n",
            "Epoch 316/500\n",
            "2/2 [==============================] - 0s 7ms/step - loss: 26.5223 - mae: 26.5223\n",
            "Epoch 317/500\n",
            "2/2 [==============================] - 0s 3ms/step - loss: 26.6739 - mae: 26.6739\n",
            "Epoch 318/500\n",
            "2/2 [==============================] - 0s 3ms/step - loss: 26.6435 - mae: 26.6435\n",
            "Epoch 319/500\n",
            "2/2 [==============================] - 0s 4ms/step - loss: 26.5130 - mae: 26.5130\n",
            "Epoch 320/500\n",
            "2/2 [==============================] - 0s 3ms/step - loss: 26.5341 - mae: 26.5341\n",
            "Epoch 321/500\n",
            "2/2 [==============================] - 0s 9ms/step - loss: 26.5664 - mae: 26.5664\n",
            "Epoch 322/500\n",
            "2/2 [==============================] - 0s 4ms/step - loss: 26.5282 - mae: 26.5282\n",
            "Epoch 323/500\n",
            "2/2 [==============================] - 0s 3ms/step - loss: 26.4928 - mae: 26.4928\n",
            "Epoch 324/500\n",
            "2/2 [==============================] - 0s 3ms/step - loss: 26.5217 - mae: 26.5217\n",
            "Epoch 325/500\n",
            "2/2 [==============================] - 0s 7ms/step - loss: 26.4949 - mae: 26.4949\n",
            "Epoch 326/500\n",
            "2/2 [==============================] - 0s 9ms/step - loss: 26.6178 - mae: 26.6178\n",
            "Epoch 327/500\n",
            "2/2 [==============================] - 0s 3ms/step - loss: 26.6859 - mae: 26.6859\n",
            "Epoch 328/500\n",
            "2/2 [==============================] - 0s 4ms/step - loss: 26.5329 - mae: 26.5329\n",
            "Epoch 329/500\n",
            "2/2 [==============================] - 0s 8ms/step - loss: 26.5795 - mae: 26.5795\n",
            "Epoch 330/500\n",
            "2/2 [==============================] - 0s 10ms/step - loss: 26.5026 - mae: 26.5026\n",
            "Epoch 331/500\n",
            "2/2 [==============================] - 0s 3ms/step - loss: 26.6377 - mae: 26.6377\n",
            "Epoch 332/500\n",
            "2/2 [==============================] - 0s 5ms/step - loss: 26.5965 - mae: 26.5965\n",
            "Epoch 333/500\n",
            "2/2 [==============================] - 0s 13ms/step - loss: 26.5323 - mae: 26.5323\n",
            "Epoch 334/500\n",
            "2/2 [==============================] - 0s 7ms/step - loss: 26.5893 - mae: 26.5893\n",
            "Epoch 335/500\n",
            "2/2 [==============================] - 0s 6ms/step - loss: 26.4736 - mae: 26.4736\n",
            "Epoch 336/500\n",
            "2/2 [==============================] - 0s 11ms/step - loss: 26.5256 - mae: 26.5256\n",
            "Epoch 337/500\n",
            "2/2 [==============================] - 0s 3ms/step - loss: 26.5336 - mae: 26.5336\n",
            "Epoch 338/500\n",
            "2/2 [==============================] - 0s 15ms/step - loss: 26.5058 - mae: 26.5058\n",
            "Epoch 339/500\n",
            "2/2 [==============================] - 0s 3ms/step - loss: 26.5315 - mae: 26.5315\n",
            "Epoch 340/500\n",
            "2/2 [==============================] - 0s 3ms/step - loss: 26.5670 - mae: 26.5670\n",
            "Epoch 341/500\n",
            "2/2 [==============================] - 0s 5ms/step - loss: 26.5919 - mae: 26.5919\n",
            "Epoch 342/500\n",
            "2/2 [==============================] - 0s 11ms/step - loss: 26.5056 - mae: 26.5056\n",
            "Epoch 343/500\n",
            "2/2 [==============================] - 0s 3ms/step - loss: 26.4963 - mae: 26.4963\n",
            "Epoch 344/500\n",
            "2/2 [==============================] - 0s 13ms/step - loss: 26.5095 - mae: 26.5095\n",
            "Epoch 345/500\n",
            "2/2 [==============================] - 0s 7ms/step - loss: 26.5235 - mae: 26.5235\n",
            "Epoch 346/500\n",
            "2/2 [==============================] - 0s 6ms/step - loss: 26.4752 - mae: 26.4752\n",
            "Epoch 347/500\n",
            "2/2 [==============================] - 0s 6ms/step - loss: 26.5612 - mae: 26.5612\n",
            "Epoch 348/500\n",
            "2/2 [==============================] - 0s 12ms/step - loss: 26.4689 - mae: 26.4689\n",
            "Epoch 349/500\n",
            "2/2 [==============================] - 0s 3ms/step - loss: 26.4555 - mae: 26.4555\n",
            "Epoch 350/500\n",
            "2/2 [==============================] - 0s 7ms/step - loss: 26.4853 - mae: 26.4853\n",
            "Epoch 351/500\n",
            "2/2 [==============================] - 0s 3ms/step - loss: 26.4962 - mae: 26.4962\n",
            "Epoch 352/500\n",
            "2/2 [==============================] - 0s 3ms/step - loss: 26.4795 - mae: 26.4795\n",
            "Epoch 353/500\n",
            "2/2 [==============================] - 0s 5ms/step - loss: 26.5059 - mae: 26.5059\n",
            "Epoch 354/500\n",
            "2/2 [==============================] - 0s 13ms/step - loss: 26.4686 - mae: 26.4686\n",
            "Epoch 355/500\n",
            "2/2 [==============================] - 0s 8ms/step - loss: 26.5230 - mae: 26.5230\n",
            "Epoch 356/500\n",
            "2/2 [==============================] - 0s 5ms/step - loss: 26.4930 - mae: 26.4930\n",
            "Epoch 357/500\n",
            "2/2 [==============================] - 0s 6ms/step - loss: 26.5954 - mae: 26.5954\n",
            "Epoch 358/500\n",
            "2/2 [==============================] - 0s 6ms/step - loss: 26.5427 - mae: 26.5427\n",
            "Epoch 359/500\n",
            "2/2 [==============================] - 0s 5ms/step - loss: 26.5647 - mae: 26.5647\n",
            "Epoch 360/500\n",
            "2/2 [==============================] - 0s 5ms/step - loss: 26.6265 - mae: 26.6265\n",
            "Epoch 361/500\n",
            "2/2 [==============================] - 0s 6ms/step - loss: 26.5156 - mae: 26.5156\n",
            "Epoch 362/500\n",
            "2/2 [==============================] - 0s 4ms/step - loss: 26.6404 - mae: 26.6404\n",
            "Epoch 363/500\n",
            "2/2 [==============================] - 0s 3ms/step - loss: 26.6335 - mae: 26.6335\n",
            "Epoch 364/500\n",
            "2/2 [==============================] - 0s 9ms/step - loss: 26.4749 - mae: 26.4749\n",
            "Epoch 365/500\n",
            "2/2 [==============================] - 0s 5ms/step - loss: 26.5265 - mae: 26.5265\n",
            "Epoch 366/500\n",
            "2/2 [==============================] - 0s 6ms/step - loss: 26.5382 - mae: 26.5382\n",
            "Epoch 367/500\n",
            "2/2 [==============================] - 0s 9ms/step - loss: 26.6165 - mae: 26.6165\n",
            "Epoch 368/500\n",
            "2/2 [==============================] - 0s 4ms/step - loss: 26.5107 - mae: 26.5107\n",
            "Epoch 369/500\n",
            "2/2 [==============================] - 0s 4ms/step - loss: 26.4797 - mae: 26.4797\n",
            "Epoch 370/500\n",
            "2/2 [==============================] - 0s 5ms/step - loss: 26.4721 - mae: 26.4721\n",
            "Epoch 371/500\n",
            "2/2 [==============================] - 0s 9ms/step - loss: 26.4810 - mae: 26.4810\n",
            "Epoch 372/500\n",
            "2/2 [==============================] - 0s 13ms/step - loss: 26.4892 - mae: 26.4892\n",
            "Epoch 373/500\n",
            "2/2 [==============================] - 0s 4ms/step - loss: 26.4876 - mae: 26.4876\n",
            "Epoch 374/500\n",
            "2/2 [==============================] - 0s 7ms/step - loss: 26.4668 - mae: 26.4668\n",
            "Epoch 375/500\n",
            "2/2 [==============================] - 0s 5ms/step - loss: 26.4636 - mae: 26.4636\n",
            "Epoch 376/500\n",
            "2/2 [==============================] - 0s 6ms/step - loss: 26.4918 - mae: 26.4918\n",
            "Epoch 377/500\n",
            "2/2 [==============================] - 0s 5ms/step - loss: 26.5104 - mae: 26.5104\n",
            "Epoch 378/500\n",
            "2/2 [==============================] - 0s 4ms/step - loss: 26.5299 - mae: 26.5299\n",
            "Epoch 379/500\n",
            "2/2 [==============================] - 0s 5ms/step - loss: 26.5091 - mae: 26.5091\n",
            "Epoch 380/500\n",
            "2/2 [==============================] - 0s 4ms/step - loss: 26.4971 - mae: 26.4971\n",
            "Epoch 381/500\n",
            "2/2 [==============================] - 0s 21ms/step - loss: 26.4910 - mae: 26.4910\n",
            "Epoch 382/500\n",
            "2/2 [==============================] - 0s 5ms/step - loss: 26.5511 - mae: 26.5511\n",
            "Epoch 383/500\n",
            "2/2 [==============================] - 0s 5ms/step - loss: 26.5687 - mae: 26.5687\n",
            "Epoch 384/500\n",
            "2/2 [==============================] - 0s 5ms/step - loss: 26.5064 - mae: 26.5064\n",
            "Epoch 385/500\n",
            "2/2 [==============================] - 0s 5ms/step - loss: 26.4989 - mae: 26.4989\n",
            "Epoch 386/500\n",
            "2/2 [==============================] - 0s 8ms/step - loss: 26.4928 - mae: 26.4928\n",
            "Epoch 387/500\n",
            "2/2 [==============================] - 0s 4ms/step - loss: 26.5469 - mae: 26.5469\n",
            "Epoch 388/500\n",
            "2/2 [==============================] - 0s 12ms/step - loss: 26.5376 - mae: 26.5376\n",
            "Epoch 389/500\n",
            "2/2 [==============================] - 0s 5ms/step - loss: 26.5440 - mae: 26.5440\n",
            "Epoch 390/500\n",
            "2/2 [==============================] - 0s 5ms/step - loss: 26.6092 - mae: 26.6092\n",
            "Epoch 391/500\n",
            "2/2 [==============================] - 0s 5ms/step - loss: 26.5079 - mae: 26.5079\n",
            "Epoch 392/500\n",
            "2/2 [==============================] - 0s 8ms/step - loss: 26.6291 - mae: 26.6291\n",
            "Epoch 393/500\n",
            "2/2 [==============================] - 0s 10ms/step - loss: 26.5589 - mae: 26.5589\n",
            "Epoch 394/500\n",
            "2/2 [==============================] - 0s 11ms/step - loss: 26.5704 - mae: 26.5704\n",
            "Epoch 395/500\n",
            "2/2 [==============================] - 0s 4ms/step - loss: 26.5804 - mae: 26.5804\n",
            "Epoch 396/500\n",
            "2/2 [==============================] - 0s 14ms/step - loss: 26.5163 - mae: 26.5163\n",
            "Epoch 397/500\n",
            "2/2 [==============================] - 0s 6ms/step - loss: 26.5221 - mae: 26.5221\n",
            "Epoch 398/500\n",
            "2/2 [==============================] - 0s 11ms/step - loss: 26.5022 - mae: 26.5022\n",
            "Epoch 399/500\n",
            "2/2 [==============================] - 0s 3ms/step - loss: 26.4839 - mae: 26.4839\n",
            "Epoch 400/500\n",
            "2/2 [==============================] - 0s 4ms/step - loss: 26.4668 - mae: 26.4668\n",
            "Epoch 401/500\n",
            "2/2 [==============================] - 0s 6ms/step - loss: 26.5708 - mae: 26.5708\n",
            "Epoch 402/500\n",
            "2/2 [==============================] - 0s 5ms/step - loss: 26.4918 - mae: 26.4918\n",
            "Epoch 403/500\n",
            "2/2 [==============================] - 0s 3ms/step - loss: 26.4594 - mae: 26.4594\n",
            "Epoch 404/500\n",
            "2/2 [==============================] - 0s 6ms/step - loss: 26.6025 - mae: 26.6025\n",
            "Epoch 405/500\n",
            "2/2 [==============================] - 0s 4ms/step - loss: 26.5480 - mae: 26.5480\n",
            "Epoch 406/500\n",
            "2/2 [==============================] - 0s 8ms/step - loss: 26.5804 - mae: 26.5804\n",
            "Epoch 407/500\n",
            "2/2 [==============================] - 0s 3ms/step - loss: 26.6031 - mae: 26.6031\n",
            "Epoch 408/500\n",
            "2/2 [==============================] - 0s 6ms/step - loss: 26.4693 - mae: 26.4693\n",
            "Epoch 409/500\n",
            "2/2 [==============================] - 0s 3ms/step - loss: 26.5348 - mae: 26.5348\n",
            "Epoch 410/500\n",
            "2/2 [==============================] - 0s 3ms/step - loss: 26.4549 - mae: 26.4549\n",
            "Epoch 411/500\n",
            "2/2 [==============================] - 0s 3ms/step - loss: 26.4645 - mae: 26.4645\n",
            "Epoch 412/500\n",
            "2/2 [==============================] - 0s 3ms/step - loss: 26.5198 - mae: 26.5198\n",
            "Epoch 413/500\n",
            "2/2 [==============================] - 0s 15ms/step - loss: 26.4893 - mae: 26.4893\n",
            "Epoch 414/500\n",
            "2/2 [==============================] - 0s 5ms/step - loss: 26.4668 - mae: 26.4668\n",
            "Epoch 415/500\n",
            "2/2 [==============================] - 0s 5ms/step - loss: 26.4936 - mae: 26.4936\n",
            "Epoch 416/500\n",
            "2/2 [==============================] - 0s 8ms/step - loss: 26.5223 - mae: 26.5223\n",
            "Epoch 417/500\n",
            "2/2 [==============================] - 0s 7ms/step - loss: 26.5104 - mae: 26.5104\n",
            "Epoch 418/500\n",
            "2/2 [==============================] - 0s 4ms/step - loss: 26.5676 - mae: 26.5676\n",
            "Epoch 419/500\n",
            "2/2 [==============================] - 0s 6ms/step - loss: 26.5217 - mae: 26.5217\n",
            "Epoch 420/500\n",
            "2/2 [==============================] - 0s 5ms/step - loss: 26.5644 - mae: 26.5644\n",
            "Epoch 421/500\n",
            "2/2 [==============================] - 0s 4ms/step - loss: 26.5083 - mae: 26.5083\n",
            "Epoch 422/500\n",
            "2/2 [==============================] - 0s 3ms/step - loss: 26.4857 - mae: 26.4857\n",
            "Epoch 423/500\n",
            "2/2 [==============================] - 0s 4ms/step - loss: 26.4911 - mae: 26.4911\n",
            "Epoch 424/500\n",
            "2/2 [==============================] - 0s 10ms/step - loss: 26.5250 - mae: 26.5250\n",
            "Epoch 425/500\n",
            "2/2 [==============================] - 0s 9ms/step - loss: 26.5015 - mae: 26.5015\n",
            "Epoch 426/500\n",
            "2/2 [==============================] - 0s 6ms/step - loss: 26.4713 - mae: 26.4713\n",
            "Epoch 427/500\n",
            "2/2 [==============================] - 0s 3ms/step - loss: 26.4863 - mae: 26.4863\n",
            "Epoch 428/500\n",
            "2/2 [==============================] - 0s 5ms/step - loss: 26.4768 - mae: 26.4768\n",
            "Epoch 429/500\n",
            "2/2 [==============================] - 0s 3ms/step - loss: 26.4655 - mae: 26.4655\n",
            "Epoch 430/500\n",
            "2/2 [==============================] - 0s 5ms/step - loss: 26.4647 - mae: 26.4647\n",
            "Epoch 431/500\n",
            "2/2 [==============================] - 0s 3ms/step - loss: 26.5226 - mae: 26.5226\n",
            "Epoch 432/500\n",
            "2/2 [==============================] - 0s 7ms/step - loss: 26.4833 - mae: 26.4833\n",
            "Epoch 433/500\n",
            "2/2 [==============================] - 0s 4ms/step - loss: 26.4653 - mae: 26.4653\n",
            "Epoch 434/500\n",
            "2/2 [==============================] - 0s 10ms/step - loss: 26.4841 - mae: 26.4841\n",
            "Epoch 435/500\n",
            "2/2 [==============================] - 0s 4ms/step - loss: 26.5064 - mae: 26.5064\n",
            "Epoch 436/500\n",
            "2/2 [==============================] - 0s 8ms/step - loss: 26.4972 - mae: 26.4972\n",
            "Epoch 437/500\n",
            "2/2 [==============================] - 0s 5ms/step - loss: 26.5004 - mae: 26.5004\n",
            "Epoch 438/500\n",
            "2/2 [==============================] - 0s 9ms/step - loss: 26.4935 - mae: 26.4935\n",
            "Epoch 439/500\n",
            "2/2 [==============================] - 0s 6ms/step - loss: 26.4690 - mae: 26.4690\n",
            "Epoch 440/500\n",
            "2/2 [==============================] - 0s 5ms/step - loss: 26.5852 - mae: 26.5852\n",
            "Epoch 441/500\n",
            "2/2 [==============================] - 0s 10ms/step - loss: 26.5436 - mae: 26.5436\n",
            "Epoch 442/500\n",
            "2/2 [==============================] - 0s 3ms/step - loss: 26.5446 - mae: 26.5446\n",
            "Epoch 443/500\n",
            "2/2 [==============================] - 0s 8ms/step - loss: 26.5144 - mae: 26.5144\n",
            "Epoch 444/500\n",
            "2/2 [==============================] - 0s 3ms/step - loss: 26.4975 - mae: 26.4975\n",
            "Epoch 445/500\n",
            "2/2 [==============================] - 0s 9ms/step - loss: 26.5149 - mae: 26.5149\n",
            "Epoch 446/500\n",
            "2/2 [==============================] - 0s 3ms/step - loss: 26.4898 - mae: 26.4898\n",
            "Epoch 447/500\n",
            "2/2 [==============================] - 0s 10ms/step - loss: 26.4928 - mae: 26.4928\n",
            "Epoch 448/500\n",
            "2/2 [==============================] - 0s 3ms/step - loss: 26.4948 - mae: 26.4948\n",
            "Epoch 449/500\n",
            "2/2 [==============================] - 0s 4ms/step - loss: 26.4703 - mae: 26.4703\n",
            "Epoch 450/500\n",
            "2/2 [==============================] - 0s 5ms/step - loss: 26.5897 - mae: 26.5897\n",
            "Epoch 451/500\n",
            "2/2 [==============================] - 0s 5ms/step - loss: 26.5275 - mae: 26.5275\n",
            "Epoch 452/500\n",
            "2/2 [==============================] - 0s 5ms/step - loss: 26.5729 - mae: 26.5729\n",
            "Epoch 453/500\n",
            "2/2 [==============================] - 0s 3ms/step - loss: 26.5457 - mae: 26.5457\n",
            "Epoch 454/500\n",
            "2/2 [==============================] - 0s 7ms/step - loss: 26.5556 - mae: 26.5556\n",
            "Epoch 455/500\n",
            "2/2 [==============================] - 0s 3ms/step - loss: 26.6044 - mae: 26.6044\n",
            "Epoch 456/500\n",
            "2/2 [==============================] - 0s 4ms/step - loss: 26.4873 - mae: 26.4873\n",
            "Epoch 457/500\n",
            "2/2 [==============================] - 0s 10ms/step - loss: 26.6537 - mae: 26.6537\n",
            "Epoch 458/500\n",
            "2/2 [==============================] - 0s 4ms/step - loss: 26.6351 - mae: 26.6351\n",
            "Epoch 459/500\n",
            "2/2 [==============================] - 0s 3ms/step - loss: 26.4810 - mae: 26.4810\n",
            "Epoch 460/500\n",
            "2/2 [==============================] - 0s 3ms/step - loss: 26.4903 - mae: 26.4903\n",
            "Epoch 461/500\n",
            "2/2 [==============================] - 0s 8ms/step - loss: 26.5225 - mae: 26.5225\n",
            "Epoch 462/500\n",
            "2/2 [==============================] - 0s 7ms/step - loss: 26.4768 - mae: 26.4768\n",
            "Epoch 463/500\n",
            "2/2 [==============================] - 0s 3ms/step - loss: 26.4937 - mae: 26.4937\n",
            "Epoch 464/500\n",
            "2/2 [==============================] - 0s 14ms/step - loss: 26.4600 - mae: 26.4600\n",
            "Epoch 465/500\n",
            "2/2 [==============================] - 0s 9ms/step - loss: 26.5568 - mae: 26.5568\n",
            "Epoch 466/500\n",
            "2/2 [==============================] - 0s 3ms/step - loss: 26.5215 - mae: 26.5215\n",
            "Epoch 467/500\n",
            "2/2 [==============================] - 0s 3ms/step - loss: 26.5112 - mae: 26.5112\n",
            "Epoch 468/500\n",
            "2/2 [==============================] - 0s 3ms/step - loss: 26.4855 - mae: 26.4855\n",
            "Epoch 469/500\n",
            "2/2 [==============================] - 0s 3ms/step - loss: 26.4704 - mae: 26.4704\n",
            "Epoch 470/500\n",
            "2/2 [==============================] - 0s 4ms/step - loss: 26.5690 - mae: 26.5690\n",
            "Epoch 471/500\n",
            "2/2 [==============================] - 0s 3ms/step - loss: 26.4623 - mae: 26.4623\n",
            "Epoch 472/500\n",
            "2/2 [==============================] - 0s 7ms/step - loss: 26.7265 - mae: 26.7265\n",
            "Epoch 473/500\n",
            "2/2 [==============================] - 0s 4ms/step - loss: 26.7315 - mae: 26.7315\n",
            "Epoch 474/500\n",
            "2/2 [==============================] - 0s 8ms/step - loss: 26.5492 - mae: 26.5492\n",
            "Epoch 475/500\n",
            "2/2 [==============================] - 0s 3ms/step - loss: 26.6870 - mae: 26.6870\n",
            "Epoch 476/500\n",
            "2/2 [==============================] - 0s 3ms/step - loss: 26.7127 - mae: 26.7127\n",
            "Epoch 477/500\n",
            "2/2 [==============================] - 0s 4ms/step - loss: 26.5401 - mae: 26.5401\n",
            "Epoch 478/500\n",
            "2/2 [==============================] - 0s 8ms/step - loss: 26.6632 - mae: 26.6632\n",
            "Epoch 479/500\n",
            "2/2 [==============================] - 0s 3ms/step - loss: 26.6659 - mae: 26.6659\n",
            "Epoch 480/500\n",
            "2/2 [==============================] - 0s 3ms/step - loss: 26.4925 - mae: 26.4925\n",
            "Epoch 481/500\n",
            "2/2 [==============================] - 0s 3ms/step - loss: 26.7142 - mae: 26.7142\n",
            "Epoch 482/500\n",
            "2/2 [==============================] - 0s 3ms/step - loss: 26.7288 - mae: 26.7288\n",
            "Epoch 483/500\n",
            "2/2 [==============================] - 0s 3ms/step - loss: 26.5498 - mae: 26.5498\n",
            "Epoch 484/500\n",
            "2/2 [==============================] - 0s 3ms/step - loss: 26.7083 - mae: 26.7083\n",
            "Epoch 485/500\n",
            "2/2 [==============================] - 0s 3ms/step - loss: 26.6959 - mae: 26.6959\n",
            "Epoch 486/500\n",
            "2/2 [==============================] - 0s 6ms/step - loss: 26.5087 - mae: 26.5087\n",
            "Epoch 487/500\n",
            "2/2 [==============================] - 0s 3ms/step - loss: 26.6478 - mae: 26.6478\n",
            "Epoch 488/500\n",
            "2/2 [==============================] - 0s 3ms/step - loss: 26.5714 - mae: 26.5714\n",
            "Epoch 489/500\n",
            "2/2 [==============================] - 0s 3ms/step - loss: 26.5863 - mae: 26.5863\n",
            "Epoch 490/500\n",
            "2/2 [==============================] - 0s 4ms/step - loss: 26.6728 - mae: 26.6728\n",
            "Epoch 491/500\n",
            "2/2 [==============================] - 0s 12ms/step - loss: 26.5408 - mae: 26.5408\n",
            "Epoch 492/500\n",
            "2/2 [==============================] - 0s 4ms/step - loss: 26.5733 - mae: 26.5733\n",
            "Epoch 493/500\n",
            "2/2 [==============================] - 0s 3ms/step - loss: 26.5328 - mae: 26.5328\n",
            "Epoch 494/500\n",
            "2/2 [==============================] - 0s 5ms/step - loss: 26.5792 - mae: 26.5792\n",
            "Epoch 495/500\n",
            "2/2 [==============================] - 0s 3ms/step - loss: 26.5265 - mae: 26.5265\n",
            "Epoch 496/500\n",
            "2/2 [==============================] - 0s 5ms/step - loss: 26.4946 - mae: 26.4946\n",
            "Epoch 497/500\n",
            "2/2 [==============================] - 0s 5ms/step - loss: 26.5038 - mae: 26.5038\n",
            "Epoch 498/500\n",
            "2/2 [==============================] - 0s 4ms/step - loss: 26.4942 - mae: 26.4942\n",
            "Epoch 499/500\n",
            "2/2 [==============================] - 0s 4ms/step - loss: 26.4993 - mae: 26.4993\n",
            "Epoch 500/500\n",
            "2/2 [==============================] - 0s 6ms/step - loss: 26.4608 - mae: 26.4608\n"
          ],
          "name": "stdout"
        },
        {
          "output_type": "execute_result",
          "data": {
            "text/plain": [
              "<tensorflow.python.keras.callbacks.History at 0x7f539ebc0790>"
            ]
          },
          "metadata": {
            "tags": []
          },
          "execution_count": 50
        }
      ]
    },
    {
      "cell_type": "code",
      "metadata": {
        "id": "xqGJaZUHVvOH",
        "outputId": "e2e31553-1eba-4166-946b-9b0c9fee9bce",
        "colab": {
          "base_uri": "https://localhost:8080/",
          "height": 428
        }
      },
      "source": [
        "#Make and plot predictions\n",
        "y_preds_3 = model_3.predict(X_test)\n",
        "\n",
        "plot_predictions(train_data= X_train,\n",
        "                 train_labels = y_train,\n",
        "                 test_data = X_test,\n",
        "                 test_labels = y_test,\n",
        "                 predictions = y_preds_3)"
      ],
      "execution_count": 51,
      "outputs": [
        {
          "output_type": "display_data",
          "data": {
            "image/png": "[encoded data removed]",
            "text/plain": [
              "<Figure size 720x504 with 1 Axes>"
            ]
          },
          "metadata": {
            "tags": []
          }
        }
      ]
    },
    {
      "cell_type": "code",
      "metadata": {
        "id": "-fD0nqzLWeAz",
        "outputId": "b9ea52a3-3851-4b8a-e00a-33d8d1214a50",
        "colab": {
          "base_uri": "https://localhost:8080/"
        }
      },
      "source": [
        "# Calculate model_2 evaluation metrics \n",
        "mae_3 = mae(y_test, tf.squeeze(y_preds_3))\n",
        "mse_3 = mse(y_test, tf.squeeze(y_preds_3))\n",
        "\n",
        "mae_3, mse_3"
      ],
      "execution_count": 52,
      "outputs": [
        {
          "output_type": "execute_result",
          "data": {
            "text/plain": [
              "(<tf.Tensor: shape=(), dtype=float32, numpy=0.40908584>,\n",
              " <tf.Tensor: shape=(), dtype=float32, numpy=0.1709481>)"
            ]
          },
          "metadata": {
            "tags": []
          },
          "execution_count": 52
        }
      ]
    },
    {
      "cell_type": "code",
      "metadata": {
        "id": "xD7BIyf3XSNg",
        "outputId": "0b2a7e4f-c7c0-48a0-f8f4-d4de82fe8071",
        "colab": {
          "base_uri": "https://localhost:8080/"
        }
      },
      "source": [
        "y_preds_3.shape"
      ],
      "execution_count": 53,
      "outputs": [
        {
          "output_type": "execute_result",
          "data": {
            "text/plain": [
              "(10, 1)"
            ]
          },
          "metadata": {
            "tags": []
          },
          "execution_count": 53
        }
      ]
    },
    {
      "cell_type": "markdown",
      "metadata": {
        "id": "7MAA7AoJdCdl"
      },
      "source": [
        "** Note ** You want to start with small experiments (small models) and make sure they work and then increase their scale."
      ]
    },
    {
      "cell_type": "markdown",
      "metadata": {
        "id": "E7wDYDYUXg_P"
      },
      "source": [
        "## Compare the results of our experiments\n",
        "\n",
        "We have run a few experiments, we will wait for our results."
      ]
    },
    {
      "cell_type": "code",
      "metadata": {
        "id": "ZzoZpRVtc4uZ"
      },
      "source": [
        "# Let us compare our models using a pandas DataFrame\n",
        "import pandas as pd\n",
        "\n",
        "model_results = [[\"model_1\", mae_1.numpy(), mse_1.numpy()],\n",
        "                [\"model_2\", mae_2.numpy(), mse_2.numpy()],\n",
        "                [\"model_3\", mae_3.numpy(), mse_3.numpy()]]\n",
        "\n",
        "all_results = pd.DataFrame(model_results, columns = [\"model\", \"mae\",\"mse\"])"
      ],
      "execution_count": 54,
      "outputs": []
    },
    {
      "cell_type": "code",
      "metadata": {
        "id": "nqjQLQkDdsdw",
        "outputId": "815a2a66-a9c5-4772-bac8-0e4148a6f317",
        "colab": {
          "base_uri": "https://localhost:8080/",
          "height": 142
        }
      },
      "source": [
        "all_results"
      ],
      "execution_count": 55,
      "outputs": [
        {
          "output_type": "execute_result",
          "data": {
            "text/html": [
              "<div>\n",
              "<style scoped>\n",
              "    .dataframe tbody tr th:only-of-type {\n",
              "        vertical-align: middle;\n",
              "    }\n",
              "\n",
              "    .dataframe tbody tr th {\n",
              "        vertical-align: top;\n",
              "    }\n",
              "\n",
              "    .dataframe thead th {\n",
              "        text-align: right;\n",
              "    }\n",
              "</style>\n",
              "<table border=\"1\" class=\"dataframe\">\n",
              "  <thead>\n",
              "    <tr style=\"text-align: right;\">\n",
              "      <th></th>\n",
              "      <th>model</th>\n",
              "      <th>mae</th>\n",
              "      <th>mse</th>\n",
              "    </tr>\n",
              "  </thead>\n",
              "  <tbody>\n",
              "    <tr>\n",
              "      <th>0</th>\n",
              "      <td>model_1</td>\n",
              "      <td>15.452765</td>\n",
              "      <td>239.992920</td>\n",
              "    </tr>\n",
              "    <tr>\n",
              "      <th>1</th>\n",
              "      <td>model_2</td>\n",
              "      <td>3.403919</td>\n",
              "      <td>13.329376</td>\n",
              "    </tr>\n",
              "    <tr>\n",
              "      <th>2</th>\n",
              "      <td>model_3</td>\n",
              "      <td>0.409086</td>\n",
              "      <td>0.170948</td>\n",
              "    </tr>\n",
              "  </tbody>\n",
              "</table>\n",
              "</div>"
            ],
            "text/plain": [
              "     model        mae         mse\n",
              "0  model_1  15.452765  239.992920\n",
              "1  model_2   3.403919   13.329376\n",
              "2  model_3   0.409086    0.170948"
            ]
          },
          "metadata": {
            "tags": []
          },
          "execution_count": 55
        }
      ]
    },
    {
      "cell_type": "code",
      "metadata": {
        "id": "3ySdHnbzdwER",
        "outputId": "67066007-7841-44a2-f16d-b75731f33a69",
        "colab": {
          "base_uri": "https://localhost:8080/"
        }
      },
      "source": [
        "#Model 3 is our best performing model\n",
        "model_3.summary()"
      ],
      "execution_count": 56,
      "outputs": [
        {
          "output_type": "stream",
          "text": [
            "Model: \"sequential_6\"\n",
            "_________________________________________________________________\n",
            "Layer (type)                 Output Shape              Param #   \n",
            "=================================================================\n",
            "dense_8 (Dense)              (None, 10)                20        \n",
            "_________________________________________________________________\n",
            "dense_9 (Dense)              (None, 1)                 11        \n",
            "=================================================================\n",
            "Total params: 31\n",
            "Trainable params: 31\n",
            "Non-trainable params: 0\n",
            "_________________________________________________________________\n"
          ],
          "name": "stdout"
        }
      ]
    },
    {
      "cell_type": "markdown",
      "metadata": {
        "id": "BDyrmK4Ld_t4"
      },
      "source": [
        "## One of our main goals is to minimize our time between model experiments.\n",
        "The more experiments you would do, the more things you'll figure out which do not work and we get closer to figuting ut what works.\n",
        "\n",
        "EXPERIMENT! EXPERIMENT! EXPERIMENT!**"
      ]
    },
    {
      "cell_type": "markdown",
      "metadata": {
        "id": "GRftvMYmeVTU"
      },
      "source": [
        "## Tracking your experiments \n",
        "\n",
        "One really good habit in ML modelling is to track the results of your expiriments.\n",
        "\n",
        "And when doin so, it can be tyedious if you are running a l;ot of experiments.\n",
        "\n",
        "Luckily, there are tools to help us!\n",
        "\n",
        "We've done a simple version of this above (keeping the results in different variables).\n",
        "\n",
        "📖 Resource: But as you build more models, you'll want to look into using tools such as:\n",
        "\n",
        "TensorBoard - a component of the TensorFlow library to help track modelling experiments (we'll see this later).\n",
        "\n",
        "Weights & Biases - a tool for tracking all kinds of machine learning experiments (the good news for Weights & Biases is it plugs into TensorBoard)."
      ]
    },
    {
      "cell_type": "markdown",
      "metadata": {
        "id": "Fbr_y3qufOtS"
      },
      "source": [
        "## Saving our models\n",
        "\n",
        "Once you've trained a model and found one which performs to your liking, you'll probably want to save it for use elsewhere (like a web application or mobile device).\n",
        "\n",
        "You can save a TensorFlow/Keras model using model.save().\n",
        "\n",
        "There are two ways to save a model in TensorFlow:\n",
        "\n",
        "The SavedModel format (default).\n",
        "The HDF5 format.\n",
        "The main difference between the two is the SavedModel is automatically able to save custom objects (such as special layers) without additional modifications when loading the model back in.\n",
        "\n",
        "Which one should you use?\n",
        "\n",
        "It depends on your situation but the SavedModel format will suffice most of the time.\n",
        "\n",
        "Both methods use the same method call."
      ]
    },
    {
      "cell_type": "code",
      "metadata": {
        "id": "ucHN-l0If_2E",
        "outputId": "ead8d9a4-1e0e-494a-9ef5-6a8b563f897f",
        "colab": {
          "base_uri": "https://localhost:8080/"
        }
      },
      "source": [
        "# Save model\n",
        "model_3.save(\"best_model_SavedModel_format\")"
      ],
      "execution_count": 57,
      "outputs": [
        {
          "output_type": "stream",
          "text": [
            "INFO:tensorflow:Assets written to: best_model_SavedModel_format/assets\n"
          ],
          "name": "stdout"
        }
      ]
    },
    {
      "cell_type": "code",
      "metadata": {
        "id": "ujPD2EVohL5Y"
      },
      "source": [
        "# Save model in HDF5 format\n",
        "model_3.save(\"best_model_HDF5_format.h5\")"
      ],
      "execution_count": 58,
      "outputs": []
    },
    {
      "cell_type": "markdown",
      "metadata": {
        "id": "GYdZZXjQw9yY"
      },
      "source": [
        "#Loading in a saved model"
      ]
    },
    {
      "cell_type": "code",
      "metadata": {
        "id": "__ZvQUL6h5D7",
        "outputId": "a902f0ca-1bca-4a83-b3fb-b30a4ba2f472",
        "colab": {
          "base_uri": "https://localhost:8080/"
        }
      },
      "source": [
        "# Load in the SavedModel format model\n",
        "loaded_SavedModel_format = tf.keras.models.load_model(\"best_model_SavedModel_format\")\n",
        "loaded_SavedModel_format.summary()"
      ],
      "execution_count": 59,
      "outputs": [
        {
          "output_type": "stream",
          "text": [
            "Model: \"sequential_6\"\n",
            "_________________________________________________________________\n",
            "Layer (type)                 Output Shape              Param #   \n",
            "=================================================================\n",
            "dense_8 (Dense)              (None, 10)                20        \n",
            "_________________________________________________________________\n",
            "dense_9 (Dense)              (None, 1)                 11        \n",
            "=================================================================\n",
            "Total params: 31\n",
            "Trainable params: 31\n",
            "Non-trainable params: 0\n",
            "_________________________________________________________________\n"
          ],
          "name": "stdout"
        }
      ]
    },
    {
      "cell_type": "code",
      "metadata": {
        "id": "BjuI9kERxYSM",
        "outputId": "522b86fa-735e-4623-8b9d-5923979aa873",
        "colab": {
          "base_uri": "https://localhost:8080/"
        }
      },
      "source": [
        "model_3.summary() # It is the same model"
      ],
      "execution_count": 60,
      "outputs": [
        {
          "output_type": "stream",
          "text": [
            "Model: \"sequential_6\"\n",
            "_________________________________________________________________\n",
            "Layer (type)                 Output Shape              Param #   \n",
            "=================================================================\n",
            "dense_8 (Dense)              (None, 10)                20        \n",
            "_________________________________________________________________\n",
            "dense_9 (Dense)              (None, 1)                 11        \n",
            "=================================================================\n",
            "Total params: 31\n",
            "Trainable params: 31\n",
            "Non-trainable params: 0\n",
            "_________________________________________________________________\n"
          ],
          "name": "stdout"
        }
      ]
    },
    {
      "cell_type": "code",
      "metadata": {
        "id": "Xwj-Rxpwxdu-",
        "outputId": "b1bc3188-e62a-4558-fc29-e5c84ce8f486",
        "colab": {
          "base_uri": "https://localhost:8080/"
        }
      },
      "source": [
        "# Compare model_3 predictions with SavedModel format model predictions\n",
        "model_3_preds = model_3.predict(X_test)\n",
        "\n",
        "loaded_SavedModel_format_preds = loaded_SavedModel_format.predict(X_test)\n",
        "\n",
        "model_3_preds == loaded_SavedModel_format_preds"
      ],
      "execution_count": 61,
      "outputs": [
        {
          "output_type": "execute_result",
          "data": {
            "text/plain": [
              "array([[ True],\n",
              "       [ True],\n",
              "       [ True],\n",
              "       [ True],\n",
              "       [ True],\n",
              "       [ True],\n",
              "       [ True],\n",
              "       [ True],\n",
              "       [ True],\n",
              "       [ True]])"
            ]
          },
          "metadata": {
            "tags": []
          },
          "execution_count": 61
        }
      ]
    },
    {
      "cell_type": "code",
      "metadata": {
        "id": "hS6wj5r_zI8C",
        "outputId": "5fb8ea8d-e31b-4223-953d-7d8cc2ead2c2",
        "colab": {
          "base_uri": "https://localhost:8080/"
        }
      },
      "source": [
        "model_3_preds"
      ],
      "execution_count": 62,
      "outputs": [
        {
          "output_type": "execute_result",
          "data": {
            "text/plain": [
              "array([[ 70.315125],\n",
              "       [ 74.336006],\n",
              "       [ 78.35688 ],\n",
              "       [ 82.37776 ],\n",
              "       [ 86.39865 ],\n",
              "       [ 90.41953 ],\n",
              "       [ 94.44041 ],\n",
              "       [ 98.46128 ],\n",
              "       [102.48217 ],\n",
              "       [106.503044]], dtype=float32)"
            ]
          },
          "metadata": {
            "tags": []
          },
          "execution_count": 62
        }
      ]
    },
    {
      "cell_type": "code",
      "metadata": {
        "id": "rbAB7qXczMuu",
        "outputId": "0df1531b-08cc-4303-fff8-60d334bc0424",
        "colab": {
          "base_uri": "https://localhost:8080/"
        }
      },
      "source": [
        "loaded_SavedModel_format_preds"
      ],
      "execution_count": 63,
      "outputs": [
        {
          "output_type": "execute_result",
          "data": {
            "text/plain": [
              "array([[ 70.315125],\n",
              "       [ 74.336006],\n",
              "       [ 78.35688 ],\n",
              "       [ 82.37776 ],\n",
              "       [ 86.39865 ],\n",
              "       [ 90.41953 ],\n",
              "       [ 94.44041 ],\n",
              "       [ 98.46128 ],\n",
              "       [102.48217 ],\n",
              "       [106.503044]], dtype=float32)"
            ]
          },
          "metadata": {
            "tags": []
          },
          "execution_count": 63
        }
      ]
    },
    {
      "cell_type": "code",
      "metadata": {
        "id": "A7vtVJxkzPb8",
        "outputId": "998c608d-aabb-4e49-b9ea-adf3bd8920c7",
        "colab": {
          "base_uri": "https://localhost:8080/"
        }
      },
      "source": [
        "# Load in a model using the HDF5 format\n",
        "loaded_h5_model = tf.keras.models.load_model(\"/content/best_model_HDF5_format.h5\")\n",
        "loaded_h5_model.summary()"
      ],
      "execution_count": 64,
      "outputs": [
        {
          "output_type": "stream",
          "text": [
            "Model: \"sequential_6\"\n",
            "_________________________________________________________________\n",
            "Layer (type)                 Output Shape              Param #   \n",
            "=================================================================\n",
            "dense_8 (Dense)              (None, 10)                20        \n",
            "_________________________________________________________________\n",
            "dense_9 (Dense)              (None, 1)                 11        \n",
            "=================================================================\n",
            "Total params: 31\n",
            "Trainable params: 31\n",
            "Non-trainable params: 0\n",
            "_________________________________________________________________\n"
          ],
          "name": "stdout"
        }
      ]
    },
    {
      "cell_type": "code",
      "metadata": {
        "id": "9ceU54qx3CoD",
        "outputId": "b3d02228-917b-452e-bddd-97b60fd289b1",
        "colab": {
          "base_uri": "https://localhost:8080/"
        }
      },
      "source": [
        "# Compare model_3 predictions with HDF5 format model predictions\n",
        "loaded_h5_model_preds = loaded_h5_model.predict(X_test)\n",
        "loaded_h5_model_preds == model_3_preds"
      ],
      "execution_count": 65,
      "outputs": [
        {
          "output_type": "execute_result",
          "data": {
            "text/plain": [
              "array([[ True],\n",
              "       [ True],\n",
              "       [ True],\n",
              "       [ True],\n",
              "       [ True],\n",
              "       [ True],\n",
              "       [ True],\n",
              "       [ True],\n",
              "       [ True],\n",
              "       [ True]])"
            ]
          },
          "metadata": {
            "tags": []
          },
          "execution_count": 65
        }
      ]
    },
    {
      "cell_type": "markdown",
      "metadata": {
        "id": "5NhpkqOR3TXt"
      },
      "source": [
        "## Download a model ( or any other file) from Google Colab\n",
        "\n",
        "If you want to download your files from Google Colab:\n",
        "\n",
        "1. You can go to the \"files\" tab and right click download\n",
        "\n",
        "2. Use code (see the cell below)\n",
        "\n",
        "3. Save it to Google Drive and copying it there."
      ]
    },
    {
      "cell_type": "code",
      "metadata": {
        "id": "SN1NQRsQ9LbU",
        "outputId": "4c967d70-ecd6-418c-df36-7627309eb498",
        "colab": {
          "base_uri": "https://localhost:8080/",
          "height": 17
        }
      },
      "source": [
        "#Download a file from Google colab\n",
        "from google.colab import files\n",
        "files.download(\"/content/best_model_HDF5_format.h5\")"
      ],
      "execution_count": 66,
      "outputs": [
        {
          "output_type": "display_data",
          "data": {
            "application/javascript": [
              "\n",
              "    async function download(id, filename, size) {\n",
              "      if (!google.colab.kernel.accessAllowed) {\n",
              "        return;\n",
              "      }\n",
              "      const div = document.createElement('div');\n",
              "      const label = document.createElement('label');\n",
              "      label.textContent = `Downloading \"${filename}\": `;\n",
              "      div.appendChild(label);\n",
              "      const progress = document.createElement('progress');\n",
              "      progress.max = size;\n",
              "      div.appendChild(progress);\n",
              "      document.body.appendChild(div);\n",
              "\n",
              "      const buffers = [];\n",
              "      let downloaded = 0;\n",
              "\n",
              "      const channel = await google.colab.kernel.comms.open(id);\n",
              "      // Send a message to notify the kernel that we're ready.\n",
              "      channel.send({})\n",
              "\n",
              "      for await (const message of channel.messages) {\n",
              "        // Send a message to notify the kernel that we're ready.\n",
              "        channel.send({})\n",
              "        if (message.buffers) {\n",
              "          for (const buffer of message.buffers) {\n",
              "            buffers.push(buffer);\n",
              "            downloaded += buffer.byteLength;\n",
              "            progress.value = downloaded;\n",
              "          }\n",
              "        }\n",
              "      }\n",
              "      const blob = new Blob(buffers, {type: 'application/binary'});\n",
              "      const a = document.createElement('a');\n",
              "      a.href = window.URL.createObjectURL(blob);\n",
              "      a.download = filename;\n",
              "      div.appendChild(a);\n",
              "      a.click();\n",
              "      div.remove();\n",
              "    }\n",
              "  "
            ],
            "text/plain": [
              "<IPython.core.display.Javascript object>"
            ]
          },
          "metadata": {
            "tags": []
          }
        },
        {
          "output_type": "display_data",
          "data": {
            "application/javascript": [
              "download(\"download_59306406-5813-4dca-a1fd-5d9615fa046f\", \"best_model_HDF5_format.h5\", 25536)"
            ],
            "text/plain": [
              "<IPython.core.display.Javascript object>"
            ]
          },
          "metadata": {
            "tags": []
          }
        }
      ]
    },
    {
      "cell_type": "code",
      "metadata": {
        "id": "d-IPWMlc-XDg"
      },
      "source": [
        "#Save a file from Google Colab to Google Drive (mount Google Drive)\n",
        "!cp /content/best_model_HDF5_format.h5 /content/drive/MyDrive/Tensorflow"
      ],
      "execution_count": 67,
      "outputs": []
    },
    {
      "cell_type": "code",
      "metadata": {
        "id": "RWLYKebX_GFG",
        "outputId": "c23d4e51-b223-4743-8815-9028aa6cdfcf",
        "colab": {
          "base_uri": "https://localhost:8080/"
        }
      },
      "source": [
        "!ls /content/drive/MyDrive/Tensorflow"
      ],
      "execution_count": 68,
      "outputs": [
        {
          "output_type": "stream",
          "text": [
            "best_model_HDF5_format.h5\n"
          ],
          "name": "stdout"
        }
      ]
    },
    {
      "cell_type": "markdown",
      "metadata": {
        "id": "R47lAlCk_HFV"
      },
      "source": [
        "##Let us tackle a larger dataset"
      ]
    },
    {
      "cell_type": "code",
      "metadata": {
        "id": "vrJycK2rAQqs"
      },
      "source": [
        "# Import required libraries\n",
        "import tensorflow as tf\n",
        "import numpy as np\n",
        "import pandas as pd\n",
        "import matplotlib.pyplot as plt"
      ],
      "execution_count": 69,
      "outputs": []
    },
    {
      "cell_type": "code",
      "metadata": {
        "id": "L4WwcObaBlB4",
        "outputId": "2fd13994-9e1c-4297-8d20-6d1c4746aaeb",
        "colab": {
          "base_uri": "https://localhost:8080/",
          "height": 417
        }
      },
      "source": [
        "#Read the insurance dataset\n",
        "insurance = pd.read_csv(\"https://raw.githubusercontent.com/stedy/Machine-Learning-with-R-datasets/master/insurance.csv\")\n",
        "insurance"
      ],
      "execution_count": 70,
      "outputs": [
        {
          "output_type": "execute_result",
          "data": {
            "text/html": [
              "<div>\n",
              "<style scoped>\n",
              "    .dataframe tbody tr th:only-of-type {\n",
              "        vertical-align: middle;\n",
              "    }\n",
              "\n",
              "    .dataframe tbody tr th {\n",
              "        vertical-align: top;\n",
              "    }\n",
              "\n",
              "    .dataframe thead th {\n",
              "        text-align: right;\n",
              "    }\n",
              "</style>\n",
              "<table border=\"1\" class=\"dataframe\">\n",
              "  <thead>\n",
              "    <tr style=\"text-align: right;\">\n",
              "      <th></th>\n",
              "      <th>age</th>\n",
              "      <th>sex</th>\n",
              "      <th>bmi</th>\n",
              "      <th>children</th>\n",
              "      <th>smoker</th>\n",
              "      <th>region</th>\n",
              "      <th>charges</th>\n",
              "    </tr>\n",
              "  </thead>\n",
              "  <tbody>\n",
              "    <tr>\n",
              "      <th>0</th>\n",
              "      <td>19</td>\n",
              "      <td>female</td>\n",
              "      <td>27.900</td>\n",
              "      <td>0</td>\n",
              "      <td>yes</td>\n",
              "      <td>southwest</td>\n",
              "      <td>16884.92400</td>\n",
              "    </tr>\n",
              "    <tr>\n",
              "      <th>1</th>\n",
              "      <td>18</td>\n",
              "      <td>male</td>\n",
              "      <td>33.770</td>\n",
              "      <td>1</td>\n",
              "      <td>no</td>\n",
              "      <td>southeast</td>\n",
              "      <td>1725.55230</td>\n",
              "    </tr>\n",
              "    <tr>\n",
              "      <th>2</th>\n",
              "      <td>28</td>\n",
              "      <td>male</td>\n",
              "      <td>33.000</td>\n",
              "      <td>3</td>\n",
              "      <td>no</td>\n",
              "      <td>southeast</td>\n",
              "      <td>4449.46200</td>\n",
              "    </tr>\n",
              "    <tr>\n",
              "      <th>3</th>\n",
              "      <td>33</td>\n",
              "      <td>male</td>\n",
              "      <td>22.705</td>\n",
              "      <td>0</td>\n",
              "      <td>no</td>\n",
              "      <td>northwest</td>\n",
              "      <td>21984.47061</td>\n",
              "    </tr>\n",
              "    <tr>\n",
              "      <th>4</th>\n",
              "      <td>32</td>\n",
              "      <td>male</td>\n",
              "      <td>28.880</td>\n",
              "      <td>0</td>\n",
              "      <td>no</td>\n",
              "      <td>northwest</td>\n",
              "      <td>3866.85520</td>\n",
              "    </tr>\n",
              "    <tr>\n",
              "      <th>...</th>\n",
              "      <td>...</td>\n",
              "      <td>...</td>\n",
              "      <td>...</td>\n",
              "      <td>...</td>\n",
              "      <td>...</td>\n",
              "      <td>...</td>\n",
              "      <td>...</td>\n",
              "    </tr>\n",
              "    <tr>\n",
              "      <th>1333</th>\n",
              "      <td>50</td>\n",
              "      <td>male</td>\n",
              "      <td>30.970</td>\n",
              "      <td>3</td>\n",
              "      <td>no</td>\n",
              "      <td>northwest</td>\n",
              "      <td>10600.54830</td>\n",
              "    </tr>\n",
              "    <tr>\n",
              "      <th>1334</th>\n",
              "      <td>18</td>\n",
              "      <td>female</td>\n",
              "      <td>31.920</td>\n",
              "      <td>0</td>\n",
              "      <td>no</td>\n",
              "      <td>northeast</td>\n",
              "      <td>2205.98080</td>\n",
              "    </tr>\n",
              "    <tr>\n",
              "      <th>1335</th>\n",
              "      <td>18</td>\n",
              "      <td>female</td>\n",
              "      <td>36.850</td>\n",
              "      <td>0</td>\n",
              "      <td>no</td>\n",
              "      <td>southeast</td>\n",
              "      <td>1629.83350</td>\n",
              "    </tr>\n",
              "    <tr>\n",
              "      <th>1336</th>\n",
              "      <td>21</td>\n",
              "      <td>female</td>\n",
              "      <td>25.800</td>\n",
              "      <td>0</td>\n",
              "      <td>no</td>\n",
              "      <td>southwest</td>\n",
              "      <td>2007.94500</td>\n",
              "    </tr>\n",
              "    <tr>\n",
              "      <th>1337</th>\n",
              "      <td>61</td>\n",
              "      <td>female</td>\n",
              "      <td>29.070</td>\n",
              "      <td>0</td>\n",
              "      <td>yes</td>\n",
              "      <td>northwest</td>\n",
              "      <td>29141.36030</td>\n",
              "    </tr>\n",
              "  </tbody>\n",
              "</table>\n",
              "<p>1338 rows × 7 columns</p>\n",
              "</div>"
            ],
            "text/plain": [
              "      age     sex     bmi  children smoker     region      charges\n",
              "0      19  female  27.900         0    yes  southwest  16884.92400\n",
              "1      18    male  33.770         1     no  southeast   1725.55230\n",
              "2      28    male  33.000         3     no  southeast   4449.46200\n",
              "3      33    male  22.705         0     no  northwest  21984.47061\n",
              "4      32    male  28.880         0     no  northwest   3866.85520\n",
              "...   ...     ...     ...       ...    ...        ...          ...\n",
              "1333   50    male  30.970         3     no  northwest  10600.54830\n",
              "1334   18  female  31.920         0     no  northeast   2205.98080\n",
              "1335   18  female  36.850         0     no  southeast   1629.83350\n",
              "1336   21  female  25.800         0     no  southwest   2007.94500\n",
              "1337   61  female  29.070         0    yes  northwest  29141.36030\n",
              "\n",
              "[1338 rows x 7 columns]"
            ]
          },
          "metadata": {
            "tags": []
          },
          "execution_count": 70
        }
      ]
    },
    {
      "cell_type": "code",
      "metadata": {
        "id": "zp_hMaHwBtYU",
        "outputId": "023f3789-4d86-4780-d1a9-a501217618ae",
        "colab": {
          "base_uri": "https://localhost:8080/"
        }
      },
      "source": [
        "insurance.info() #Summarising the data"
      ],
      "execution_count": 71,
      "outputs": [
        {
          "output_type": "stream",
          "text": [
            "<class 'pandas.core.frame.DataFrame'>\n",
            "RangeIndex: 1338 entries, 0 to 1337\n",
            "Data columns (total 7 columns):\n",
            " #   Column    Non-Null Count  Dtype  \n",
            "---  ------    --------------  -----  \n",
            " 0   age       1338 non-null   int64  \n",
            " 1   sex       1338 non-null   object \n",
            " 2   bmi       1338 non-null   float64\n",
            " 3   children  1338 non-null   int64  \n",
            " 4   smoker    1338 non-null   object \n",
            " 5   region    1338 non-null   object \n",
            " 6   charges   1338 non-null   float64\n",
            "dtypes: float64(2), int64(2), object(3)\n",
            "memory usage: 73.3+ KB\n"
          ],
          "name": "stdout"
        }
      ]
    },
    {
      "cell_type": "markdown",
      "metadata": {
        "id": "LY14km3TBxLH"
      },
      "source": [
        "###One hot encoding to turn categorical variables into numerical variables"
      ]
    },
    {
      "cell_type": "code",
      "metadata": {
        "id": "FNYUmJXHDBGR",
        "outputId": "d2b5d29b-219d-4e0f-b218-8bab31f53500",
        "colab": {
          "base_uri": "https://localhost:8080/",
          "height": 203
        }
      },
      "source": [
        "#One hot encoding\n",
        "insurance_one_hot = pd.get_dummies(insurance)\n",
        "insurance_one_hot.head()"
      ],
      "execution_count": 72,
      "outputs": [
        {
          "output_type": "execute_result",
          "data": {
            "text/html": [
              "<div>\n",
              "<style scoped>\n",
              "    .dataframe tbody tr th:only-of-type {\n",
              "        vertical-align: middle;\n",
              "    }\n",
              "\n",
              "    .dataframe tbody tr th {\n",
              "        vertical-align: top;\n",
              "    }\n",
              "\n",
              "    .dataframe thead th {\n",
              "        text-align: right;\n",
              "    }\n",
              "</style>\n",
              "<table border=\"1\" class=\"dataframe\">\n",
              "  <thead>\n",
              "    <tr style=\"text-align: right;\">\n",
              "      <th></th>\n",
              "      <th>age</th>\n",
              "      <th>bmi</th>\n",
              "      <th>children</th>\n",
              "      <th>charges</th>\n",
              "      <th>sex_female</th>\n",
              "      <th>sex_male</th>\n",
              "      <th>smoker_no</th>\n",
              "      <th>smoker_yes</th>\n",
              "      <th>region_northeast</th>\n",
              "      <th>region_northwest</th>\n",
              "      <th>region_southeast</th>\n",
              "      <th>region_southwest</th>\n",
              "    </tr>\n",
              "  </thead>\n",
              "  <tbody>\n",
              "    <tr>\n",
              "      <th>0</th>\n",
              "      <td>19</td>\n",
              "      <td>27.900</td>\n",
              "      <td>0</td>\n",
              "      <td>16884.92400</td>\n",
              "      <td>1</td>\n",
              "      <td>0</td>\n",
              "      <td>0</td>\n",
              "      <td>1</td>\n",
              "      <td>0</td>\n",
              "      <td>0</td>\n",
              "      <td>0</td>\n",
              "      <td>1</td>\n",
              "    </tr>\n",
              "    <tr>\n",
              "      <th>1</th>\n",
              "      <td>18</td>\n",
              "      <td>33.770</td>\n",
              "      <td>1</td>\n",
              "      <td>1725.55230</td>\n",
              "      <td>0</td>\n",
              "      <td>1</td>\n",
              "      <td>1</td>\n",
              "      <td>0</td>\n",
              "      <td>0</td>\n",
              "      <td>0</td>\n",
              "      <td>1</td>\n",
              "      <td>0</td>\n",
              "    </tr>\n",
              "    <tr>\n",
              "      <th>2</th>\n",
              "      <td>28</td>\n",
              "      <td>33.000</td>\n",
              "      <td>3</td>\n",
              "      <td>4449.46200</td>\n",
              "      <td>0</td>\n",
              "      <td>1</td>\n",
              "      <td>1</td>\n",
              "      <td>0</td>\n",
              "      <td>0</td>\n",
              "      <td>0</td>\n",
              "      <td>1</td>\n",
              "      <td>0</td>\n",
              "    </tr>\n",
              "    <tr>\n",
              "      <th>3</th>\n",
              "      <td>33</td>\n",
              "      <td>22.705</td>\n",
              "      <td>0</td>\n",
              "      <td>21984.47061</td>\n",
              "      <td>0</td>\n",
              "      <td>1</td>\n",
              "      <td>1</td>\n",
              "      <td>0</td>\n",
              "      <td>0</td>\n",
              "      <td>1</td>\n",
              "      <td>0</td>\n",
              "      <td>0</td>\n",
              "    </tr>\n",
              "    <tr>\n",
              "      <th>4</th>\n",
              "      <td>32</td>\n",
              "      <td>28.880</td>\n",
              "      <td>0</td>\n",
              "      <td>3866.85520</td>\n",
              "      <td>0</td>\n",
              "      <td>1</td>\n",
              "      <td>1</td>\n",
              "      <td>0</td>\n",
              "      <td>0</td>\n",
              "      <td>1</td>\n",
              "      <td>0</td>\n",
              "      <td>0</td>\n",
              "    </tr>\n",
              "  </tbody>\n",
              "</table>\n",
              "</div>"
            ],
            "text/plain": [
              "   age     bmi  children  ...  region_northwest  region_southeast  region_southwest\n",
              "0   19  27.900         0  ...                 0                 0                 1\n",
              "1   18  33.770         1  ...                 0                 1                 0\n",
              "2   28  33.000         3  ...                 0                 1                 0\n",
              "3   33  22.705         0  ...                 1                 0                 0\n",
              "4   32  28.880         0  ...                 1                 0                 0\n",
              "\n",
              "[5 rows x 12 columns]"
            ]
          },
          "metadata": {
            "tags": []
          },
          "execution_count": 72
        }
      ]
    },
    {
      "cell_type": "code",
      "metadata": {
        "id": "HSJqQ2_nDaYi"
      },
      "source": [
        "# Create X and y values (features and labels)\n",
        "X = insurance_one_hot.drop([\"charges\"], axis = 1)\n",
        "y = insurance_one_hot[\"charges\"]"
      ],
      "execution_count": 73,
      "outputs": []
    },
    {
      "cell_type": "code",
      "metadata": {
        "id": "4kHvza64DmH6"
      },
      "source": [
        "#Split the data into train and test sets\n",
        "tf.random.set_seed(42)\n",
        "from sklearn.model_selection import train_test_split\n",
        "\n",
        "X_train, X_test, y_train, y_test = train_test_split(X, y, test_size=0.2)"
      ],
      "execution_count": 74,
      "outputs": []
    },
    {
      "cell_type": "code",
      "metadata": {
        "id": "d8g8-t4YEKT7",
        "outputId": "805d7790-caa8-43b2-851e-c2808a9040d4",
        "colab": {
          "base_uri": "https://localhost:8080/"
        }
      },
      "source": [
        "print(X_train.shape) \n",
        "print(X_test.shape)\n",
        "print(y_train.shape)\n",
        "print(y_test.shape)"
      ],
      "execution_count": 75,
      "outputs": [
        {
          "output_type": "stream",
          "text": [
            "(1070, 11)\n",
            "(268, 11)\n",
            "(1070,)\n",
            "(268,)\n"
          ],
          "name": "stdout"
        }
      ]
    },
    {
      "cell_type": "code",
      "metadata": {
        "id": "fhgB7kNTEp2K",
        "outputId": "cd6cae11-48ba-4616-fa0e-28db20b21f64",
        "colab": {
          "base_uri": "https://localhost:8080/"
        }
      },
      "source": [
        "# Build a neural network (like the model_3 above)\n",
        "tf.random.set_seed(42)\n",
        "\n",
        "#1. Create a model\n",
        "insurance_model = tf.keras.Sequential()\n",
        "insurance_model.add(tf.keras.layers.Dense(10)),\n",
        "insurance_model.add(tf.keras.layers.Dense(1))\n",
        "\n",
        "#2. Compile the model\n",
        "insurance_model.compile(loss = tf.keras.losses.mae,\n",
        "                        optimizer = tf.keras.optimizers.SGD(),\n",
        "                        metrics = ['mae'])\n",
        "\n",
        "#3. Fit the model\n",
        "insurance_model.fit(X_train, y_train, epochs = 100, verbose = 0)"
      ],
      "execution_count": 91,
      "outputs": [
        {
          "output_type": "execute_result",
          "data": {
            "text/plain": [
              "<tensorflow.python.keras.callbacks.History at 0x7f539fc20c50>"
            ]
          },
          "metadata": {
            "tags": []
          },
          "execution_count": 91
        }
      ]
    },
    {
      "cell_type": "code",
      "metadata": {
        "id": "Opb98lhdFz3D",
        "outputId": "ffc2dbeb-effa-4937-d80b-e1095e44c62e",
        "colab": {
          "base_uri": "https://localhost:8080/"
        }
      },
      "source": [
        "insurance_model.summary()"
      ],
      "execution_count": 92,
      "outputs": [
        {
          "output_type": "stream",
          "text": [
            "Model: \"sequential_11\"\n",
            "_________________________________________________________________\n",
            "Layer (type)                 Output Shape              Param #   \n",
            "=================================================================\n",
            "dense_18 (Dense)             (None, 10)                120       \n",
            "_________________________________________________________________\n",
            "dense_19 (Dense)             (None, 1)                 11        \n",
            "=================================================================\n",
            "Total params: 131\n",
            "Trainable params: 131\n",
            "Non-trainable params: 0\n",
            "_________________________________________________________________\n"
          ],
          "name": "stdout"
        }
      ]
    },
    {
      "cell_type": "code",
      "metadata": {
        "id": "cxPnF1luF2ql",
        "outputId": "a98ad3e1-43b1-4c9e-b691-3f0bbf629423",
        "colab": {
          "base_uri": "https://localhost:8080/",
          "height": 312
        }
      },
      "source": [
        "#Plotting our neural network\n",
        "tf.keras.utils.plot_model(insurance_model, show_shapes= True)"
      ],
      "execution_count": 93,
      "outputs": [
        {
          "output_type": "execute_result",
          "data": {
            "image/png": "[encoded data removed]",
            "text/plain": [
              "<IPython.core.display.Image object>"
            ]
          },
          "metadata": {
            "tags": []
          },
          "execution_count": 93
        }
      ]
    },
    {
      "cell_type": "code",
      "metadata": {
        "id": "Shliw3gFHnJb",
        "outputId": "e6f3ceaf-ded7-4370-f2da-ac031a8903cf",
        "colab": {
          "base_uri": "https://localhost:8080/"
        }
      },
      "source": [
        "# Check the results of the insurance model on the test data\n",
        "insurance_model.evaluate(X_test, y_test)"
      ],
      "execution_count": 94,
      "outputs": [
        {
          "output_type": "stream",
          "text": [
            "9/9 [==============================] - 0s 2ms/step - loss: 7099.3154 - mae: 7099.3154\n"
          ],
          "name": "stdout"
        },
        {
          "output_type": "execute_result",
          "data": {
            "text/plain": [
              "[7099.3154296875, 7099.3154296875]"
            ]
          },
          "metadata": {
            "tags": []
          },
          "execution_count": 94
        }
      ]
    },
    {
      "cell_type": "markdown",
      "metadata": {
        "id": "7pkIpkaVVTyk"
      },
      "source": [
        "Right now it looks like our model isn't performing too well..let's try and improve it.\n",
        "\n",
        "We'll try 3 things:\n",
        "\n",
        "Increasing the number of layers (2 -> 3).\n",
        "Increasing the number of units in each layer (except for the output layer).\n",
        "Changing the optimizer (from SGD to Adam).\n",
        "Everything else will stay the same."
      ]
    },
    {
      "cell_type": "code",
      "metadata": {
        "id": "-sSsOHQXV9_C",
        "outputId": "56061e95-78c3-4c24-dd38-f6d97155892d",
        "colab": {
          "base_uri": "https://localhost:8080/"
        }
      },
      "source": [
        "# Build a better model\n",
        "\n",
        "# Set random seed\n",
        "\n",
        "tf.random.set_seed(42)\n",
        "\n",
        "# Add an extra layer and extra units\n",
        "\n",
        "insurance_model_2 = tf.keras.Sequential()\n",
        "insurance_model_2.add(tf.keras.layers.Dense(100, activation='relu'))  # 100 units in the first layer\n",
        "insurance_model_2.add(tf.keras.layers.Dense(10, activation='relu'))  # 10 units in the second layer\n",
        "insurance_model_2.add(tf.keras.layers.Dense(1))  #Final unit\n",
        "\n",
        "# Compile a model\n",
        "\n",
        "insurance_model_2.compile(loss=tf.keras.losses.mae,\n",
        "                          optimizer=tf.keras.optimizers.Adam(learning_rate=0.01),\n",
        "                          metrics=['mae'])\n",
        "\n",
        "# Fit a model\n",
        "\n",
        "history = insurance_model_2.fit(X_train, y_train, epochs=100, verbose=1)"
      ],
      "execution_count": 122,
      "outputs": [
        {
          "output_type": "stream",
          "text": [
            "Epoch 1/100\n",
            "34/34 [==============================] - 0s 2ms/step - loss: 12845.0537 - mae: 12845.0537\n",
            "Epoch 2/100\n",
            "34/34 [==============================] - 0s 2ms/step - loss: 9742.3623 - mae: 9742.3623\n",
            "Epoch 3/100\n",
            "34/34 [==============================] - 0s 2ms/step - loss: 7313.7627 - mae: 7313.7627\n",
            "Epoch 4/100\n",
            "34/34 [==============================] - 0s 2ms/step - loss: 7137.0615 - mae: 7137.0615\n",
            "Epoch 5/100\n",
            "34/34 [==============================] - 0s 2ms/step - loss: 7024.3398 - mae: 7024.3398\n",
            "Epoch 6/100\n",
            "34/34 [==============================] - 0s 1ms/step - loss: 6909.8530 - mae: 6909.8530\n",
            "Epoch 7/100\n",
            "34/34 [==============================] - 0s 1ms/step - loss: 6774.8521 - mae: 6774.8521\n",
            "Epoch 8/100\n",
            "34/34 [==============================] - 0s 1ms/step - loss: 6614.6543 - mae: 6614.6543\n",
            "Epoch 9/100\n",
            "34/34 [==============================] - 0s 1ms/step - loss: 6434.7036 - mae: 6434.7036\n",
            "Epoch 10/100\n",
            "34/34 [==============================] - 0s 2ms/step - loss: 6282.8389 - mae: 6282.8389\n",
            "Epoch 11/100\n",
            "34/34 [==============================] - 0s 2ms/step - loss: 6160.0347 - mae: 6160.0347\n",
            "Epoch 12/100\n",
            "34/34 [==============================] - 0s 2ms/step - loss: 6098.3364 - mae: 6098.3364\n",
            "Epoch 13/100\n",
            "34/34 [==============================] - 0s 2ms/step - loss: 6032.7261 - mae: 6032.7261\n",
            "Epoch 14/100\n",
            "34/34 [==============================] - 0s 1ms/step - loss: 5939.1406 - mae: 5939.1406\n",
            "Epoch 15/100\n",
            "34/34 [==============================] - 0s 2ms/step - loss: 5852.9160 - mae: 5852.9160\n",
            "Epoch 16/100\n",
            "34/34 [==============================] - 0s 2ms/step - loss: 5757.8521 - mae: 5757.8521\n",
            "Epoch 17/100\n",
            "34/34 [==============================] - 0s 2ms/step - loss: 5650.3267 - mae: 5650.3267\n",
            "Epoch 18/100\n",
            "34/34 [==============================] - 0s 1ms/step - loss: 5563.7852 - mae: 5563.7852\n",
            "Epoch 19/100\n",
            "34/34 [==============================] - 0s 1ms/step - loss: 5423.5459 - mae: 5423.5459\n",
            "Epoch 20/100\n",
            "34/34 [==============================] - 0s 1ms/step - loss: 5191.3384 - mae: 5191.3384\n",
            "Epoch 21/100\n",
            "34/34 [==============================] - 0s 2ms/step - loss: 4980.2720 - mae: 4980.2720\n",
            "Epoch 22/100\n",
            "34/34 [==============================] - 0s 1ms/step - loss: 4700.6934 - mae: 4700.6934\n",
            "Epoch 23/100\n",
            "34/34 [==============================] - 0s 2ms/step - loss: 4350.8755 - mae: 4350.8755\n",
            "Epoch 24/100\n",
            "34/34 [==============================] - 0s 2ms/step - loss: 3978.8323 - mae: 3978.8323\n",
            "Epoch 25/100\n",
            "34/34 [==============================] - 0s 1ms/step - loss: 3645.4163 - mae: 3645.4163\n",
            "Epoch 26/100\n",
            "34/34 [==============================] - 0s 2ms/step - loss: 3480.6404 - mae: 3480.6404\n",
            "Epoch 27/100\n",
            "34/34 [==============================] - 0s 1ms/step - loss: 3406.8298 - mae: 3406.8298\n",
            "Epoch 28/100\n",
            "34/34 [==============================] - 0s 1ms/step - loss: 3356.9683 - mae: 3356.9683\n",
            "Epoch 29/100\n",
            "34/34 [==============================] - 0s 1ms/step - loss: 3319.2581 - mae: 3319.2581\n",
            "Epoch 30/100\n",
            "34/34 [==============================] - 0s 2ms/step - loss: 3303.0410 - mae: 3303.0410\n",
            "Epoch 31/100\n",
            "34/34 [==============================] - 0s 2ms/step - loss: 3270.2710 - mae: 3270.2710\n",
            "Epoch 32/100\n",
            "34/34 [==============================] - 0s 1ms/step - loss: 3234.2566 - mae: 3234.2566\n",
            "Epoch 33/100\n",
            "34/34 [==============================] - 0s 2ms/step - loss: 3237.9529 - mae: 3237.9529\n",
            "Epoch 34/100\n",
            "34/34 [==============================] - 0s 2ms/step - loss: 3202.7942 - mae: 3202.7942\n",
            "Epoch 35/100\n",
            "34/34 [==============================] - 0s 1ms/step - loss: 3176.7559 - mae: 3176.7559\n",
            "Epoch 36/100\n",
            "34/34 [==============================] - 0s 1ms/step - loss: 3165.6748 - mae: 3165.6748\n",
            "Epoch 37/100\n",
            "34/34 [==============================] - 0s 2ms/step - loss: 3157.9783 - mae: 3157.9783\n",
            "Epoch 38/100\n",
            "34/34 [==============================] - 0s 1ms/step - loss: 3099.8062 - mae: 3099.8062\n",
            "Epoch 39/100\n",
            "34/34 [==============================] - 0s 1ms/step - loss: 3070.0671 - mae: 3070.0671\n",
            "Epoch 40/100\n",
            "34/34 [==============================] - 0s 1ms/step - loss: 3063.3330 - mae: 3063.3330\n",
            "Epoch 41/100\n",
            "34/34 [==============================] - 0s 2ms/step - loss: 3020.5317 - mae: 3020.5317\n",
            "Epoch 42/100\n",
            "34/34 [==============================] - 0s 1ms/step - loss: 3023.8093 - mae: 3023.8093\n",
            "Epoch 43/100\n",
            "34/34 [==============================] - 0s 1ms/step - loss: 2963.8335 - mae: 2963.8335\n",
            "Epoch 44/100\n",
            "34/34 [==============================] - 0s 1ms/step - loss: 2905.3005 - mae: 2905.3005\n",
            "Epoch 45/100\n",
            "34/34 [==============================] - 0s 1ms/step - loss: 2870.8225 - mae: 2870.8225\n",
            "Epoch 46/100\n",
            "34/34 [==============================] - 0s 2ms/step - loss: 2840.1006 - mae: 2840.1006\n",
            "Epoch 47/100\n",
            "34/34 [==============================] - 0s 1ms/step - loss: 2822.0767 - mae: 2822.0767\n",
            "Epoch 48/100\n",
            "34/34 [==============================] - 0s 1ms/step - loss: 2779.3379 - mae: 2779.3379\n",
            "Epoch 49/100\n",
            "34/34 [==============================] - 0s 2ms/step - loss: 2761.8276 - mae: 2761.8276\n",
            "Epoch 50/100\n",
            "34/34 [==============================] - 0s 2ms/step - loss: 2691.4866 - mae: 2691.4866\n",
            "Epoch 51/100\n",
            "34/34 [==============================] - 0s 2ms/step - loss: 2698.1533 - mae: 2698.1533\n",
            "Epoch 52/100\n",
            "34/34 [==============================] - 0s 2ms/step - loss: 2672.4143 - mae: 2672.4143\n",
            "Epoch 53/100\n",
            "34/34 [==============================] - 0s 1ms/step - loss: 2655.6157 - mae: 2655.6157\n",
            "Epoch 54/100\n",
            "34/34 [==============================] - 0s 1ms/step - loss: 2658.1709 - mae: 2658.1709\n",
            "Epoch 55/100\n",
            "34/34 [==============================] - 0s 1ms/step - loss: 2654.2515 - mae: 2654.2515\n",
            "Epoch 56/100\n",
            "34/34 [==============================] - 0s 1ms/step - loss: 2640.5369 - mae: 2640.5369\n",
            "Epoch 57/100\n",
            "34/34 [==============================] - 0s 1ms/step - loss: 2631.4719 - mae: 2631.4719\n",
            "Epoch 58/100\n",
            "34/34 [==============================] - 0s 2ms/step - loss: 2607.2532 - mae: 2607.2532\n",
            "Epoch 59/100\n",
            "34/34 [==============================] - 0s 2ms/step - loss: 2598.0789 - mae: 2598.0789\n",
            "Epoch 60/100\n",
            "34/34 [==============================] - 0s 2ms/step - loss: 2577.2236 - mae: 2577.2236\n",
            "Epoch 61/100\n",
            "34/34 [==============================] - 0s 2ms/step - loss: 2591.8276 - mae: 2591.8276\n",
            "Epoch 62/100\n",
            "34/34 [==============================] - 0s 2ms/step - loss: 2580.6348 - mae: 2580.6348\n",
            "Epoch 63/100\n",
            "34/34 [==============================] - 0s 2ms/step - loss: 2563.5959 - mae: 2563.5959\n",
            "Epoch 64/100\n",
            "34/34 [==============================] - 0s 1ms/step - loss: 2560.4199 - mae: 2560.4199\n",
            "Epoch 65/100\n",
            "34/34 [==============================] - 0s 2ms/step - loss: 2560.5024 - mae: 2560.5024\n",
            "Epoch 66/100\n",
            "34/34 [==============================] - 0s 2ms/step - loss: 2544.6748 - mae: 2544.6748\n",
            "Epoch 67/100\n",
            "34/34 [==============================] - 0s 1ms/step - loss: 2526.3489 - mae: 2526.3489\n",
            "Epoch 68/100\n",
            "34/34 [==============================] - 0s 1ms/step - loss: 2515.2200 - mae: 2515.2200\n",
            "Epoch 69/100\n",
            "34/34 [==============================] - 0s 1ms/step - loss: 2527.6328 - mae: 2527.6328\n",
            "Epoch 70/100\n",
            "34/34 [==============================] - 0s 1ms/step - loss: 2509.2756 - mae: 2509.2756\n",
            "Epoch 71/100\n",
            "34/34 [==============================] - 0s 2ms/step - loss: 2518.9153 - mae: 2518.9153\n",
            "Epoch 72/100\n",
            "34/34 [==============================] - 0s 1ms/step - loss: 2476.3962 - mae: 2476.3962\n",
            "Epoch 73/100\n",
            "34/34 [==============================] - 0s 2ms/step - loss: 2499.2419 - mae: 2499.2419\n",
            "Epoch 74/100\n",
            "34/34 [==============================] - 0s 1ms/step - loss: 2487.7019 - mae: 2487.7019\n",
            "Epoch 75/100\n",
            "34/34 [==============================] - 0s 1ms/step - loss: 2482.0488 - mae: 2482.0488\n",
            "Epoch 76/100\n",
            "34/34 [==============================] - 0s 2ms/step - loss: 2480.6531 - mae: 2480.6531\n",
            "Epoch 77/100\n",
            "34/34 [==============================] - 0s 2ms/step - loss: 2459.5115 - mae: 2459.5115\n",
            "Epoch 78/100\n",
            "34/34 [==============================] - 0s 1ms/step - loss: 2454.8015 - mae: 2454.8015\n",
            "Epoch 79/100\n",
            "34/34 [==============================] - 0s 1ms/step - loss: 2422.5232 - mae: 2422.5232\n",
            "Epoch 80/100\n",
            "34/34 [==============================] - 0s 2ms/step - loss: 2452.6680 - mae: 2452.6680\n",
            "Epoch 81/100\n",
            "34/34 [==============================] - 0s 1ms/step - loss: 2456.6396 - mae: 2456.6396\n",
            "Epoch 82/100\n",
            "34/34 [==============================] - 0s 1ms/step - loss: 2392.9697 - mae: 2392.9697\n",
            "Epoch 83/100\n",
            "34/34 [==============================] - 0s 1ms/step - loss: 2384.0430 - mae: 2384.0430\n",
            "Epoch 84/100\n",
            "34/34 [==============================] - 0s 1ms/step - loss: 2423.9482 - mae: 2423.9482\n",
            "Epoch 85/100\n",
            "34/34 [==============================] - 0s 2ms/step - loss: 2389.6396 - mae: 2389.6396\n",
            "Epoch 86/100\n",
            "34/34 [==============================] - 0s 2ms/step - loss: 2372.3608 - mae: 2372.3608\n",
            "Epoch 87/100\n",
            "34/34 [==============================] - 0s 1ms/step - loss: 2359.9150 - mae: 2359.9150\n",
            "Epoch 88/100\n",
            "34/34 [==============================] - 0s 1ms/step - loss: 2363.2290 - mae: 2363.2290\n",
            "Epoch 89/100\n",
            "34/34 [==============================] - 0s 1ms/step - loss: 2359.8777 - mae: 2359.8777\n",
            "Epoch 90/100\n",
            "34/34 [==============================] - 0s 1ms/step - loss: 2394.8572 - mae: 2394.8572\n",
            "Epoch 91/100\n",
            "34/34 [==============================] - 0s 1ms/step - loss: 2375.3074 - mae: 2375.3074\n",
            "Epoch 92/100\n",
            "34/34 [==============================] - 0s 1ms/step - loss: 2340.4077 - mae: 2340.4077\n",
            "Epoch 93/100\n",
            "34/34 [==============================] - 0s 2ms/step - loss: 2327.0034 - mae: 2327.0034\n",
            "Epoch 94/100\n",
            "34/34 [==============================] - 0s 2ms/step - loss: 2299.3088 - mae: 2299.3088\n",
            "Epoch 95/100\n",
            "34/34 [==============================] - 0s 2ms/step - loss: 2305.5923 - mae: 2305.5923\n",
            "Epoch 96/100\n",
            "34/34 [==============================] - 0s 1ms/step - loss: 2306.3386 - mae: 2306.3386\n",
            "Epoch 97/100\n",
            "34/34 [==============================] - 0s 1ms/step - loss: 2274.9224 - mae: 2274.9224\n",
            "Epoch 98/100\n",
            "34/34 [==============================] - 0s 2ms/step - loss: 2264.0923 - mae: 2264.0923\n",
            "Epoch 99/100\n",
            "34/34 [==============================] - 0s 2ms/step - loss: 2293.6487 - mae: 2293.6487\n",
            "Epoch 100/100\n",
            "34/34 [==============================] - 0s 2ms/step - loss: 2294.7227 - mae: 2294.7227\n"
          ],
          "name": "stdout"
        }
      ]
    },
    {
      "cell_type": "code",
      "metadata": {
        "id": "u_6V0ZqeeWLx",
        "outputId": "f6a7e002-bd7f-4eb7-ed29-7ffe59d86976",
        "colab": {
          "base_uri": "https://localhost:8080/"
        }
      },
      "source": [
        "# Evaluate our larger model\n",
        "insurance_model_2.evaluate(X_train,y_train)"
      ],
      "execution_count": 123,
      "outputs": [
        {
          "output_type": "stream",
          "text": [
            "34/34 [==============================] - 0s 1ms/step - loss: 2240.0447 - mae: 2240.0447\n"
          ],
          "name": "stdout"
        },
        {
          "output_type": "execute_result",
          "data": {
            "text/plain": [
              "[2240.044677734375, 2240.044677734375]"
            ]
          },
          "metadata": {
            "tags": []
          },
          "execution_count": 123
        }
      ]
    },
    {
      "cell_type": "code",
      "metadata": {
        "id": "JdD2pVRBecTQ",
        "outputId": "b1b9b2a8-3aa1-40aa-94fe-910ca03e2a71",
        "colab": {
          "base_uri": "https://localhost:8080/"
        }
      },
      "source": [
        "#Let us see the performance boost with the second model.\n",
        "print(insurance_model.evaluate(X_test,y_test))\n",
        "print(insurance_model_2.evaluate(X_test,y_test))"
      ],
      "execution_count": 124,
      "outputs": [
        {
          "output_type": "stream",
          "text": [
            "9/9 [==============================] - 0s 2ms/step - loss: 6016.6240 - mae: 6016.6240\n",
            "[6016.6240234375, 6016.6240234375]\n",
            "9/9 [==============================] - 0s 2ms/step - loss: 2796.3152 - mae: 2796.3152\n",
            "[2796.315185546875, 2796.315185546875]\n"
          ],
          "name": "stdout"
        }
      ]
    },
    {
      "cell_type": "markdown",
      "metadata": {
        "id": "g0CAjtGBfIGC"
      },
      "source": [
        "## Let us run a third model and increase epochs"
      ]
    },
    {
      "cell_type": "code",
      "metadata": {
        "id": "qYfZZfK5flln",
        "outputId": "cf7cb96a-3e28-4a4f-8683-02f8e01f7095",
        "colab": {
          "base_uri": "https://localhost:8080/"
        }
      },
      "source": [
        "# Set random seed\n",
        "tf.random.set_seed(42)\n",
        "\n",
        "# Build our model\n",
        "\n",
        "insurance_model_3 = tf.keras.Sequential()\n",
        "insurance_model_3.add(tf.keras.layers.Dense(100, activation= 'relu')) # 100 units in the first layer\n",
        "insurance_model_3.add(tf.keras.layers.Dense(10, activation='relu')) #10 units in the second layer\n",
        "insurance_model_3.add(tf.keras.layers.Dense(1)) #Final output layer\n",
        "\n",
        "# Compile a model\n",
        "\n",
        "insurance_model_3.compile(loss = tf.keras.losses.mae,\n",
        "                          optimizer = tf.keras.optimizers.Adam(),\n",
        "                          metrics = ['mae'])\n",
        "\n",
        "# Fit a model\n",
        "insurance_model.fit(X_train, y_train, epochs = 200, verbose = 1)"
      ],
      "execution_count": 125,
      "outputs": [
        {
          "output_type": "stream",
          "text": [
            "Epoch 1/200\n",
            "34/34 [==============================] - 0s 1ms/step - loss: 5507.1348 - mae: 5507.1348\n",
            "Epoch 2/200\n",
            "34/34 [==============================] - 0s 1ms/step - loss: 4659.4937 - mae: 4659.4937\n",
            "Epoch 3/200\n",
            "34/34 [==============================] - 0s 1ms/step - loss: 5221.5151 - mae: 5221.5151\n",
            "Epoch 4/200\n",
            "34/34 [==============================] - 0s 1ms/step - loss: 5099.2891 - mae: 5099.2891\n",
            "Epoch 5/200\n",
            "34/34 [==============================] - 0s 1ms/step - loss: 5181.3506 - mae: 5181.3506\n",
            "Epoch 6/200\n",
            "34/34 [==============================] - 0s 1ms/step - loss: 4833.5889 - mae: 4833.5889\n",
            "Epoch 7/200\n",
            "34/34 [==============================] - 0s 1ms/step - loss: 5423.9321 - mae: 5423.9321\n",
            "Epoch 8/200\n",
            "34/34 [==============================] - 0s 1ms/step - loss: 4818.8198 - mae: 4818.8198\n",
            "Epoch 9/200\n",
            "34/34 [==============================] - 0s 1ms/step - loss: 5171.7798 - mae: 5171.7798\n",
            "Epoch 10/200\n",
            "34/34 [==============================] - 0s 1ms/step - loss: 4882.8174 - mae: 4882.8174\n",
            "Epoch 11/200\n",
            "34/34 [==============================] - 0s 1ms/step - loss: 5336.0254 - mae: 5336.0254\n",
            "Epoch 12/200\n",
            "34/34 [==============================] - 0s 1ms/step - loss: 5089.9556 - mae: 5089.9556\n",
            "Epoch 13/200\n",
            "34/34 [==============================] - 0s 1ms/step - loss: 5429.5850 - mae: 5429.5850\n",
            "Epoch 14/200\n",
            "34/34 [==============================] - 0s 1ms/step - loss: 5352.6343 - mae: 5352.6343\n",
            "Epoch 15/200\n",
            "34/34 [==============================] - 0s 1ms/step - loss: 5266.2778 - mae: 5266.2778\n",
            "Epoch 16/200\n",
            "34/34 [==============================] - 0s 1ms/step - loss: 5407.4775 - mae: 5407.4775\n",
            "Epoch 17/200\n",
            "34/34 [==============================] - 0s 1ms/step - loss: 5215.5049 - mae: 5215.5049\n",
            "Epoch 18/200\n",
            "34/34 [==============================] - 0s 1ms/step - loss: 4856.1416 - mae: 4856.1416\n",
            "Epoch 19/200\n",
            "34/34 [==============================] - 0s 1ms/step - loss: 4822.4800 - mae: 4822.4800\n",
            "Epoch 20/200\n",
            "34/34 [==============================] - 0s 1ms/step - loss: 5280.9258 - mae: 5280.9258\n",
            "Epoch 21/200\n",
            "34/34 [==============================] - 0s 1ms/step - loss: 5128.9526 - mae: 5128.9526\n",
            "Epoch 22/200\n",
            "34/34 [==============================] - 0s 1ms/step - loss: 5063.6108 - mae: 5063.6108\n",
            "Epoch 23/200\n",
            "34/34 [==============================] - 0s 1ms/step - loss: 5299.3691 - mae: 5299.3691\n",
            "Epoch 24/200\n",
            "34/34 [==============================] - 0s 1ms/step - loss: 4969.1450 - mae: 4969.1450\n",
            "Epoch 25/200\n",
            "34/34 [==============================] - 0s 1ms/step - loss: 4927.4106 - mae: 4927.4106\n",
            "Epoch 26/200\n",
            "34/34 [==============================] - 0s 1ms/step - loss: 4983.9648 - mae: 4983.9648\n",
            "Epoch 27/200\n",
            "34/34 [==============================] - 0s 1ms/step - loss: 5222.6133 - mae: 5222.6133\n",
            "Epoch 28/200\n",
            "34/34 [==============================] - 0s 1ms/step - loss: 4659.1309 - mae: 4659.1309\n",
            "Epoch 29/200\n",
            "34/34 [==============================] - 0s 1ms/step - loss: 5382.8989 - mae: 5382.8989\n",
            "Epoch 30/200\n",
            "34/34 [==============================] - 0s 1ms/step - loss: 5303.0278 - mae: 5303.0278\n",
            "Epoch 31/200\n",
            "34/34 [==============================] - 0s 1ms/step - loss: 5396.7759 - mae: 5396.7759\n",
            "Epoch 32/200\n",
            "34/34 [==============================] - 0s 2ms/step - loss: 5378.4272 - mae: 5378.4272\n",
            "Epoch 33/200\n",
            "34/34 [==============================] - 0s 1ms/step - loss: 4902.5723 - mae: 4902.5723\n",
            "Epoch 34/200\n",
            "34/34 [==============================] - 0s 1ms/step - loss: 5119.7837 - mae: 5119.7837\n",
            "Epoch 35/200\n",
            "34/34 [==============================] - 0s 1ms/step - loss: 5135.6572 - mae: 5135.6572\n",
            "Epoch 36/200\n",
            "34/34 [==============================] - 0s 1ms/step - loss: 5402.6274 - mae: 5402.6274\n",
            "Epoch 37/200\n",
            "34/34 [==============================] - 0s 1ms/step - loss: 5125.8057 - mae: 5125.8057\n",
            "Epoch 38/200\n",
            "34/34 [==============================] - 0s 1ms/step - loss: 5256.8892 - mae: 5256.8892\n",
            "Epoch 39/200\n",
            "34/34 [==============================] - 0s 1ms/step - loss: 4932.3257 - mae: 4932.3257\n",
            "Epoch 40/200\n",
            "34/34 [==============================] - 0s 1ms/step - loss: 5074.9302 - mae: 5074.9302\n",
            "Epoch 41/200\n",
            "34/34 [==============================] - 0s 1ms/step - loss: 4828.4043 - mae: 4828.4043\n",
            "Epoch 42/200\n",
            "34/34 [==============================] - 0s 1ms/step - loss: 5158.7729 - mae: 5158.7729\n",
            "Epoch 43/200\n",
            "34/34 [==============================] - 0s 1ms/step - loss: 5530.5459 - mae: 5530.5459\n",
            "Epoch 44/200\n",
            "34/34 [==============================] - 0s 1ms/step - loss: 4873.7837 - mae: 4873.7837\n",
            "Epoch 45/200\n",
            "34/34 [==============================] - 0s 1ms/step - loss: 5054.9629 - mae: 5054.9629\n",
            "Epoch 46/200\n",
            "34/34 [==============================] - 0s 1ms/step - loss: 5020.8550 - mae: 5020.8550\n",
            "Epoch 47/200\n",
            "34/34 [==============================] - 0s 1ms/step - loss: 5567.8975 - mae: 5567.8975\n",
            "Epoch 48/200\n",
            "34/34 [==============================] - 0s 1ms/step - loss: 5124.3467 - mae: 5124.3467\n",
            "Epoch 49/200\n",
            "34/34 [==============================] - 0s 1ms/step - loss: 4741.9736 - mae: 4741.9736\n",
            "Epoch 50/200\n",
            "34/34 [==============================] - 0s 1ms/step - loss: 5103.4688 - mae: 5103.4688\n",
            "Epoch 51/200\n",
            "34/34 [==============================] - 0s 1ms/step - loss: 4911.9448 - mae: 4911.9448\n",
            "Epoch 52/200\n",
            "34/34 [==============================] - 0s 1ms/step - loss: 5157.9502 - mae: 5157.9502\n",
            "Epoch 53/200\n",
            "34/34 [==============================] - 0s 1ms/step - loss: 4879.2524 - mae: 4879.2524\n",
            "Epoch 54/200\n",
            "34/34 [==============================] - 0s 1ms/step - loss: 5120.4878 - mae: 5120.4878\n",
            "Epoch 55/200\n",
            "34/34 [==============================] - 0s 1ms/step - loss: 5178.7637 - mae: 5178.7637\n",
            "Epoch 56/200\n",
            "34/34 [==============================] - 0s 1ms/step - loss: 5124.6938 - mae: 5124.6938\n",
            "Epoch 57/200\n",
            "34/34 [==============================] - 0s 1ms/step - loss: 4999.0508 - mae: 4999.0508\n",
            "Epoch 58/200\n",
            "34/34 [==============================] - 0s 1ms/step - loss: 5047.8721 - mae: 5047.8721\n",
            "Epoch 59/200\n",
            "34/34 [==============================] - 0s 1ms/step - loss: 4867.4243 - mae: 4867.4243\n",
            "Epoch 60/200\n",
            "34/34 [==============================] - 0s 1ms/step - loss: 5094.8403 - mae: 5094.8403\n",
            "Epoch 61/200\n",
            "34/34 [==============================] - 0s 1ms/step - loss: 5244.2368 - mae: 5244.2368\n",
            "Epoch 62/200\n",
            "34/34 [==============================] - 0s 1ms/step - loss: 4905.0850 - mae: 4905.0850\n",
            "Epoch 63/200\n",
            "34/34 [==============================] - 0s 1ms/step - loss: 5404.5488 - mae: 5404.5488\n",
            "Epoch 64/200\n",
            "34/34 [==============================] - 0s 1ms/step - loss: 4646.5562 - mae: 4646.5562\n",
            "Epoch 65/200\n",
            "34/34 [==============================] - 0s 1ms/step - loss: 4946.1631 - mae: 4946.1631\n",
            "Epoch 66/200\n",
            "34/34 [==============================] - 0s 1ms/step - loss: 5686.2383 - mae: 5686.2383\n",
            "Epoch 67/200\n",
            "34/34 [==============================] - 0s 2ms/step - loss: 5258.7920 - mae: 5258.7920\n",
            "Epoch 68/200\n",
            "34/34 [==============================] - 0s 1ms/step - loss: 4992.3589 - mae: 4992.3589\n",
            "Epoch 69/200\n",
            "34/34 [==============================] - 0s 2ms/step - loss: 5097.0317 - mae: 5097.0317\n",
            "Epoch 70/200\n",
            "34/34 [==============================] - 0s 1ms/step - loss: 5081.2290 - mae: 5081.2290\n",
            "Epoch 71/200\n",
            "34/34 [==============================] - 0s 1ms/step - loss: 5410.2246 - mae: 5410.2246\n",
            "Epoch 72/200\n",
            "34/34 [==============================] - 0s 1ms/step - loss: 4942.8530 - mae: 4942.8530\n",
            "Epoch 73/200\n",
            "34/34 [==============================] - 0s 1ms/step - loss: 5061.1694 - mae: 5061.1694\n",
            "Epoch 74/200\n",
            "34/34 [==============================] - 0s 1ms/step - loss: 4895.8486 - mae: 4895.8486\n",
            "Epoch 75/200\n",
            "34/34 [==============================] - 0s 1ms/step - loss: 5143.8281 - mae: 5143.8281\n",
            "Epoch 76/200\n",
            "34/34 [==============================] - 0s 1ms/step - loss: 5037.3145 - mae: 5037.3145\n",
            "Epoch 77/200\n",
            "34/34 [==============================] - 0s 1ms/step - loss: 4546.6133 - mae: 4546.6133\n",
            "Epoch 78/200\n",
            "34/34 [==============================] - 0s 1ms/step - loss: 5538.2163 - mae: 5538.2163\n",
            "Epoch 79/200\n",
            "34/34 [==============================] - 0s 1ms/step - loss: 4989.6831 - mae: 4989.6831\n",
            "Epoch 80/200\n",
            "34/34 [==============================] - 0s 1ms/step - loss: 5531.0356 - mae: 5531.0356\n",
            "Epoch 81/200\n",
            "34/34 [==============================] - 0s 1ms/step - loss: 5296.7173 - mae: 5296.7173\n",
            "Epoch 82/200\n",
            "34/34 [==============================] - 0s 1ms/step - loss: 5249.0215 - mae: 5249.0215\n",
            "Epoch 83/200\n",
            "34/34 [==============================] - 0s 1ms/step - loss: 5070.9409 - mae: 5070.9409\n",
            "Epoch 84/200\n",
            "34/34 [==============================] - 0s 1ms/step - loss: 5140.3901 - mae: 5140.3901\n",
            "Epoch 85/200\n",
            "34/34 [==============================] - 0s 1ms/step - loss: 5084.8545 - mae: 5084.8545\n",
            "Epoch 86/200\n",
            "34/34 [==============================] - 0s 1ms/step - loss: 5360.2925 - mae: 5360.2925\n",
            "Epoch 87/200\n",
            "34/34 [==============================] - 0s 1ms/step - loss: 5278.1709 - mae: 5278.1709\n",
            "Epoch 88/200\n",
            "34/34 [==============================] - 0s 1ms/step - loss: 5033.6455 - mae: 5033.6455\n",
            "Epoch 89/200\n",
            "34/34 [==============================] - 0s 1ms/step - loss: 5411.0571 - mae: 5411.0571\n",
            "Epoch 90/200\n",
            "34/34 [==============================] - 0s 1ms/step - loss: 4973.0596 - mae: 4973.0596\n",
            "Epoch 91/200\n",
            "34/34 [==============================] - 0s 1ms/step - loss: 5488.3887 - mae: 5488.3887\n",
            "Epoch 92/200\n",
            "34/34 [==============================] - 0s 1ms/step - loss: 5687.5815 - mae: 5687.5815\n",
            "Epoch 93/200\n",
            "34/34 [==============================] - 0s 1ms/step - loss: 4969.2705 - mae: 4969.2705\n",
            "Epoch 94/200\n",
            "34/34 [==============================] - 0s 1ms/step - loss: 5013.0156 - mae: 5013.0156\n",
            "Epoch 95/200\n",
            "34/34 [==============================] - 0s 1ms/step - loss: 5007.7935 - mae: 5007.7935\n",
            "Epoch 96/200\n",
            "34/34 [==============================] - 0s 1ms/step - loss: 4901.7710 - mae: 4901.7710\n",
            "Epoch 97/200\n",
            "34/34 [==============================] - 0s 1ms/step - loss: 5088.8960 - mae: 5088.8960\n",
            "Epoch 98/200\n",
            "34/34 [==============================] - 0s 1ms/step - loss: 4980.8774 - mae: 4980.8774\n",
            "Epoch 99/200\n",
            "34/34 [==============================] - 0s 1ms/step - loss: 5363.6514 - mae: 5363.6514\n",
            "Epoch 100/200\n",
            "34/34 [==============================] - 0s 1ms/step - loss: 5075.3062 - mae: 5075.3062\n",
            "Epoch 101/200\n",
            "34/34 [==============================] - 0s 1ms/step - loss: 4862.6958 - mae: 4862.6958\n",
            "Epoch 102/200\n",
            "34/34 [==============================] - 0s 1ms/step - loss: 4841.8540 - mae: 4841.8540\n",
            "Epoch 103/200\n",
            "34/34 [==============================] - 0s 1ms/step - loss: 5268.1162 - mae: 5268.1162\n",
            "Epoch 104/200\n",
            "34/34 [==============================] - 0s 2ms/step - loss: 5105.9575 - mae: 5105.9575\n",
            "Epoch 105/200\n",
            "34/34 [==============================] - 0s 1ms/step - loss: 5127.9546 - mae: 5127.9546\n",
            "Epoch 106/200\n",
            "34/34 [==============================] - 0s 1ms/step - loss: 5177.5293 - mae: 5177.5293\n",
            "Epoch 107/200\n",
            "34/34 [==============================] - 0s 1ms/step - loss: 5079.3716 - mae: 5079.3716\n",
            "Epoch 108/200\n",
            "34/34 [==============================] - 0s 1ms/step - loss: 5052.1606 - mae: 5052.1606\n",
            "Epoch 109/200\n",
            "34/34 [==============================] - 0s 1ms/step - loss: 5010.8721 - mae: 5010.8721\n",
            "Epoch 110/200\n",
            "34/34 [==============================] - 0s 1ms/step - loss: 5002.1045 - mae: 5002.1045\n",
            "Epoch 111/200\n",
            "34/34 [==============================] - 0s 1ms/step - loss: 5050.4082 - mae: 5050.4082\n",
            "Epoch 112/200\n",
            "34/34 [==============================] - 0s 1ms/step - loss: 5027.7295 - mae: 5027.7295\n",
            "Epoch 113/200\n",
            "34/34 [==============================] - 0s 1ms/step - loss: 5071.9297 - mae: 5071.9297\n",
            "Epoch 114/200\n",
            "34/34 [==============================] - 0s 1ms/step - loss: 5575.2012 - mae: 5575.2012\n",
            "Epoch 115/200\n",
            "34/34 [==============================] - 0s 1ms/step - loss: 5138.1221 - mae: 5138.1221\n",
            "Epoch 116/200\n",
            "34/34 [==============================] - 0s 1ms/step - loss: 4992.1240 - mae: 4992.1240\n",
            "Epoch 117/200\n",
            "34/34 [==============================] - 0s 1ms/step - loss: 4996.1260 - mae: 4996.1260\n",
            "Epoch 118/200\n",
            "34/34 [==============================] - 0s 1ms/step - loss: 5005.2778 - mae: 5005.2778\n",
            "Epoch 119/200\n",
            "34/34 [==============================] - 0s 1ms/step - loss: 4905.6084 - mae: 4905.6084\n",
            "Epoch 120/200\n",
            "34/34 [==============================] - 0s 1ms/step - loss: 4910.2061 - mae: 4910.2061\n",
            "Epoch 121/200\n",
            "34/34 [==============================] - 0s 1ms/step - loss: 4919.8047 - mae: 4919.8047\n",
            "Epoch 122/200\n",
            "34/34 [==============================] - 0s 1ms/step - loss: 4830.9644 - mae: 4830.9644\n",
            "Epoch 123/200\n",
            "34/34 [==============================] - 0s 1ms/step - loss: 5037.4014 - mae: 5037.4014\n",
            "Epoch 124/200\n",
            "34/34 [==============================] - 0s 1ms/step - loss: 5041.2983 - mae: 5041.2983\n",
            "Epoch 125/200\n",
            "34/34 [==============================] - 0s 1ms/step - loss: 5048.9893 - mae: 5048.9893\n",
            "Epoch 126/200\n",
            "34/34 [==============================] - 0s 1ms/step - loss: 4992.1016 - mae: 4992.1016\n",
            "Epoch 127/200\n",
            "34/34 [==============================] - 0s 1ms/step - loss: 4975.0874 - mae: 4975.0874\n",
            "Epoch 128/200\n",
            "34/34 [==============================] - 0s 1ms/step - loss: 5109.5146 - mae: 5109.5146\n",
            "Epoch 129/200\n",
            "34/34 [==============================] - 0s 1ms/step - loss: 5539.5942 - mae: 5539.5942\n",
            "Epoch 130/200\n",
            "34/34 [==============================] - 0s 1ms/step - loss: 5270.9180 - mae: 5270.9180\n",
            "Epoch 131/200\n",
            "34/34 [==============================] - 0s 1ms/step - loss: 4792.4551 - mae: 4792.4551\n",
            "Epoch 132/200\n",
            "34/34 [==============================] - 0s 1ms/step - loss: 5083.0103 - mae: 5083.0103\n",
            "Epoch 133/200\n",
            "34/34 [==============================] - 0s 1ms/step - loss: 5362.9800 - mae: 5362.9800\n",
            "Epoch 134/200\n",
            "34/34 [==============================] - 0s 1ms/step - loss: 5166.9746 - mae: 5166.9746\n",
            "Epoch 135/200\n",
            "34/34 [==============================] - 0s 1ms/step - loss: 4858.7383 - mae: 4858.7383\n",
            "Epoch 136/200\n",
            "34/34 [==============================] - 0s 1ms/step - loss: 5276.2754 - mae: 5276.2754\n",
            "Epoch 137/200\n",
            "34/34 [==============================] - 0s 1ms/step - loss: 4694.9854 - mae: 4694.9854\n",
            "Epoch 138/200\n",
            "34/34 [==============================] - 0s 1ms/step - loss: 5201.4790 - mae: 5201.4790\n",
            "Epoch 139/200\n",
            "34/34 [==============================] - 0s 2ms/step - loss: 5719.5708 - mae: 5719.5708\n",
            "Epoch 140/200\n",
            "34/34 [==============================] - 0s 1ms/step - loss: 5144.3384 - mae: 5144.3384\n",
            "Epoch 141/200\n",
            "34/34 [==============================] - 0s 1ms/step - loss: 4849.1919 - mae: 4849.1919\n",
            "Epoch 142/200\n",
            "34/34 [==============================] - 0s 1ms/step - loss: 4840.3613 - mae: 4840.3613\n",
            "Epoch 143/200\n",
            "34/34 [==============================] - 0s 1ms/step - loss: 4951.4292 - mae: 4951.4292\n",
            "Epoch 144/200\n",
            "34/34 [==============================] - 0s 1ms/step - loss: 5445.9346 - mae: 5445.9346\n",
            "Epoch 145/200\n",
            "34/34 [==============================] - 0s 1ms/step - loss: 5047.6392 - mae: 5047.6392\n",
            "Epoch 146/200\n",
            "34/34 [==============================] - 0s 1ms/step - loss: 4944.8525 - mae: 4944.8525\n",
            "Epoch 147/200\n",
            "34/34 [==============================] - 0s 1ms/step - loss: 4989.9180 - mae: 4989.9180\n",
            "Epoch 148/200\n",
            "34/34 [==============================] - 0s 1ms/step - loss: 5250.2817 - mae: 5250.2817\n",
            "Epoch 149/200\n",
            "34/34 [==============================] - 0s 1ms/step - loss: 4546.6821 - mae: 4546.6821\n",
            "Epoch 150/200\n",
            "34/34 [==============================] - 0s 1ms/step - loss: 4796.9355 - mae: 4796.9355\n",
            "Epoch 151/200\n",
            "34/34 [==============================] - 0s 1ms/step - loss: 5068.6167 - mae: 5068.6167\n",
            "Epoch 152/200\n",
            "34/34 [==============================] - 0s 1ms/step - loss: 5508.2998 - mae: 5508.2998\n",
            "Epoch 153/200\n",
            "34/34 [==============================] - 0s 1ms/step - loss: 5120.0874 - mae: 5120.0874\n",
            "Epoch 154/200\n",
            "34/34 [==============================] - 0s 1ms/step - loss: 5052.4668 - mae: 5052.4668\n",
            "Epoch 155/200\n",
            "34/34 [==============================] - 0s 1ms/step - loss: 5481.6299 - mae: 5481.6299\n",
            "Epoch 156/200\n",
            "34/34 [==============================] - 0s 1ms/step - loss: 5044.8257 - mae: 5044.8257\n",
            "Epoch 157/200\n",
            "34/34 [==============================] - 0s 1ms/step - loss: 4985.1045 - mae: 4985.1045\n",
            "Epoch 158/200\n",
            "34/34 [==============================] - 0s 1ms/step - loss: 5088.6064 - mae: 5088.6064\n",
            "Epoch 159/200\n",
            "34/34 [==============================] - 0s 1ms/step - loss: 5162.3115 - mae: 5162.3115\n",
            "Epoch 160/200\n",
            "34/34 [==============================] - 0s 1ms/step - loss: 5221.8657 - mae: 5221.8657\n",
            "Epoch 161/200\n",
            "34/34 [==============================] - 0s 1ms/step - loss: 4710.5679 - mae: 4710.5679\n",
            "Epoch 162/200\n",
            "34/34 [==============================] - 0s 1ms/step - loss: 5399.9854 - mae: 5399.9854\n",
            "Epoch 163/200\n",
            "34/34 [==============================] - 0s 1ms/step - loss: 5167.9297 - mae: 5167.9297\n",
            "Epoch 164/200\n",
            "34/34 [==============================] - 0s 2ms/step - loss: 5021.4341 - mae: 5021.4341\n",
            "Epoch 165/200\n",
            "34/34 [==============================] - 0s 1ms/step - loss: 5133.5527 - mae: 5133.5527\n",
            "Epoch 166/200\n",
            "34/34 [==============================] - 0s 1ms/step - loss: 5012.3516 - mae: 5012.3516\n",
            "Epoch 167/200\n",
            "34/34 [==============================] - 0s 1ms/step - loss: 5280.7881 - mae: 5280.7881\n",
            "Epoch 168/200\n",
            "34/34 [==============================] - 0s 1ms/step - loss: 5333.6235 - mae: 5333.6235\n",
            "Epoch 169/200\n",
            "34/34 [==============================] - 0s 2ms/step - loss: 4947.7812 - mae: 4947.7812\n",
            "Epoch 170/200\n",
            "34/34 [==============================] - 0s 1ms/step - loss: 5282.2026 - mae: 5282.2026\n",
            "Epoch 171/200\n",
            "34/34 [==============================] - 0s 1ms/step - loss: 5040.8423 - mae: 5040.8423\n",
            "Epoch 172/200\n",
            "34/34 [==============================] - 0s 1ms/step - loss: 5093.3330 - mae: 5093.3330\n",
            "Epoch 173/200\n",
            "34/34 [==============================] - 0s 1ms/step - loss: 5253.9854 - mae: 5253.9854\n",
            "Epoch 174/200\n",
            "34/34 [==============================] - 0s 1ms/step - loss: 5073.8560 - mae: 5073.8560\n",
            "Epoch 175/200\n",
            "34/34 [==============================] - 0s 1ms/step - loss: 5302.2603 - mae: 5302.2603\n",
            "Epoch 176/200\n",
            "34/34 [==============================] - 0s 1ms/step - loss: 4833.2500 - mae: 4833.2500\n",
            "Epoch 177/200\n",
            "34/34 [==============================] - 0s 1ms/step - loss: 5273.1001 - mae: 5273.1001\n",
            "Epoch 178/200\n",
            "34/34 [==============================] - 0s 1ms/step - loss: 4978.6187 - mae: 4978.6187\n",
            "Epoch 179/200\n",
            "34/34 [==============================] - 0s 1ms/step - loss: 5150.8687 - mae: 5150.8687\n",
            "Epoch 180/200\n",
            "34/34 [==============================] - 0s 1ms/step - loss: 5193.4619 - mae: 5193.4619\n",
            "Epoch 181/200\n",
            "34/34 [==============================] - 0s 1ms/step - loss: 4890.1567 - mae: 4890.1567\n",
            "Epoch 182/200\n",
            "34/34 [==============================] - 0s 1ms/step - loss: 4697.9336 - mae: 4697.9336\n",
            "Epoch 183/200\n",
            "34/34 [==============================] - 0s 1ms/step - loss: 5027.0562 - mae: 5027.0562\n",
            "Epoch 184/200\n",
            "34/34 [==============================] - 0s 1ms/step - loss: 4902.9985 - mae: 4902.9985\n",
            "Epoch 185/200\n",
            "34/34 [==============================] - 0s 1ms/step - loss: 5075.6216 - mae: 5075.6216\n",
            "Epoch 186/200\n",
            "34/34 [==============================] - 0s 1ms/step - loss: 5403.1201 - mae: 5403.1201\n",
            "Epoch 187/200\n",
            "34/34 [==============================] - 0s 1ms/step - loss: 5074.7988 - mae: 5074.7988\n",
            "Epoch 188/200\n",
            "34/34 [==============================] - 0s 1ms/step - loss: 5025.1143 - mae: 5025.1143\n",
            "Epoch 189/200\n",
            "34/34 [==============================] - 0s 1ms/step - loss: 5158.6538 - mae: 5158.6538\n",
            "Epoch 190/200\n",
            "34/34 [==============================] - 0s 1ms/step - loss: 4920.4751 - mae: 4920.4751\n",
            "Epoch 191/200\n",
            "34/34 [==============================] - 0s 1ms/step - loss: 4782.9565 - mae: 4782.9565\n",
            "Epoch 192/200\n",
            "34/34 [==============================] - 0s 1ms/step - loss: 5398.7988 - mae: 5398.7988\n",
            "Epoch 193/200\n",
            "34/34 [==============================] - 0s 2ms/step - loss: 4952.2046 - mae: 4952.2046\n",
            "Epoch 194/200\n",
            "34/34 [==============================] - 0s 1ms/step - loss: 4735.6328 - mae: 4735.6328\n",
            "Epoch 195/200\n",
            "34/34 [==============================] - 0s 1ms/step - loss: 4983.5205 - mae: 4983.5205\n",
            "Epoch 196/200\n",
            "34/34 [==============================] - 0s 1ms/step - loss: 5001.5488 - mae: 5001.5488\n",
            "Epoch 197/200\n",
            "34/34 [==============================] - 0s 1ms/step - loss: 4651.4077 - mae: 4651.4077\n",
            "Epoch 198/200\n",
            "34/34 [==============================] - 0s 1ms/step - loss: 4995.4614 - mae: 4995.4614\n",
            "Epoch 199/200\n",
            "34/34 [==============================] - 0s 1ms/step - loss: 4734.6665 - mae: 4734.6665\n",
            "Epoch 200/200\n",
            "34/34 [==============================] - 0s 1ms/step - loss: 5054.9956 - mae: 5054.9956\n"
          ],
          "name": "stdout"
        },
        {
          "output_type": "execute_result",
          "data": {
            "text/plain": [
              "<tensorflow.python.keras.callbacks.History at 0x7f539e18e4d0>"
            ]
          },
          "metadata": {
            "tags": []
          },
          "execution_count": 125
        }
      ]
    },
    {
      "cell_type": "code",
      "metadata": {
        "id": "Kz2fRtbtg5xI",
        "outputId": "b1bff970-5e6f-4c87-fe12-f171d3a63703",
        "colab": {
          "base_uri": "https://localhost:8080/"
        }
      },
      "source": [
        "# Check the results of the insurance model on the test data\n",
        "\n",
        "insurance_model_3.evaluate(X_test, y_test)"
      ],
      "execution_count": 126,
      "outputs": [
        {
          "output_type": "stream",
          "text": [
            "9/9 [==============================] - 0s 2ms/step - loss: 14207.0273 - mae: 14207.0273\n"
          ],
          "name": "stdout"
        },
        {
          "output_type": "execute_result",
          "data": {
            "text/plain": [
              "[14207.02734375, 14207.02734375]"
            ]
          },
          "metadata": {
            "tags": []
          },
          "execution_count": 126
        }
      ]
    },
    {
      "cell_type": "code",
      "metadata": {
        "id": "w4mIGXfmhCOm",
        "outputId": "70c7ecab-68e0-48ce-b840-e4cb0368d48c",
        "colab": {
          "base_uri": "https://localhost:8080/"
        }
      },
      "source": [
        "#Let us see the performance boost with the second model.\n",
        "print(insurance_model.evaluate(X_test,y_test))\n",
        "print(insurance_model_2.evaluate(X_test,y_test)) #The second model performed the best\n",
        "print(insurance_model_3.evaluate(X_test,y_test))"
      ],
      "execution_count": 127,
      "outputs": [
        {
          "output_type": "stream",
          "text": [
            "9/9 [==============================] - 0s 2ms/step - loss: 5252.6494 - mae: 5252.6494\n",
            "[5252.6494140625, 5252.6494140625]\n",
            "9/9 [==============================] - 0s 2ms/step - loss: 2796.3152 - mae: 2796.3152\n",
            "[2796.315185546875, 2796.315185546875]\n",
            "9/9 [==============================] - 0s 2ms/step - loss: 14207.0273 - mae: 14207.0273\n",
            "[14207.02734375, 14207.02734375]\n"
          ],
          "name": "stdout"
        }
      ]
    },
    {
      "cell_type": "code",
      "metadata": {
        "id": "kVSlHQWCiHHV",
        "outputId": "d329adda-94bb-4b28-ee2f-100998bfa939",
        "colab": {
          "base_uri": "https://localhost:8080/",
          "height": 300
        }
      },
      "source": [
        "# Plot history (also known as loss curve or training curve)\n",
        "pd.DataFrame(history.history).plot()\n",
        "plt.ylabel (\"Loss\")\n",
        "plt.xlabel(\"Epochs\")"
      ],
      "execution_count": 128,
      "outputs": [
        {
          "output_type": "execute_result",
          "data": {
            "text/plain": [
              "Text(0.5, 0, 'Epochs')"
            ]
          },
          "metadata": {
            "tags": []
          },
          "execution_count": 128
        },
        {
          "output_type": "display_data",
          "data": {
            "image/png": "[encoded data removed]",
            "text/plain": [
              "<Figure size 432x288 with 1 Axes>"
            ]
          },
          "metadata": {
            "tags": []
          }
        }
      ]
    },
    {
      "cell_type": "markdown",
      "metadata": {
        "id": "aPautD0-ip2M"
      },
      "source": [
        "From this, it looks like our model's loss (and MAE) were both still decreasing (in our case, MAE and loss are the same, hence the lines in the plot overlap eachother).\n",
        "\n",
        "What this tells us is the loss might go down if we try training it for longer.\n",
        "\n",
        "## 🤔 Question: How long should you train for?\n",
        "\n",
        "It depends on what problem you're working on. Sometimes training won't take very long, other times it'll take longer than you expect. A common method is to set your model training for a very long time (e.g. 1000's of epochs) but set it up with an EarlyStopping callback so it stops automatically when it stops improving. We'll see this in another module.\n",
        "\n",
        "Let's train the same model as above for a little longer. We can do this but calling fit on it again."
      ]
    },
    {
      "cell_type": "markdown",
      "metadata": {
        "id": "i7Vx4leUkCaZ"
      },
      "source": [
        "## Preprocessing Data (normalization and standardization)"
      ]
    },
    {
      "cell_type": "markdown",
      "metadata": {
        "id": "ayWWlDiNqTG0"
      },
      "source": [
        "\n",
        "Preprocessing data (normalization and standardization)\n",
        "A common practice when working with neural networks is to make sure all of the data you pass to them is in the range 0 to 1.\n",
        "\n",
        "This practice is called normalization (scaling all values from their original range to, e.g. between 0 and 100,000 to be between 0 and 1).\n",
        "\n",
        "There is another process call standardization which converts all of your data to unit variance and 0 mean.\n",
        "\n",
        "These two practices are often part of a preprocessing pipeline (a series of functions to prepare your data for use with neural networks).\n",
        "\n",
        "Knowing this, some of the major steps you'll take to preprocess your data for a neural network include:\n",
        "\n",
        "Turning all of your data to numbers (a neural network can't handle strings).\n",
        "Making sure your data is in the right shape (verifying input and output shapes).\n",
        "Feature scaling:\n",
        "Normalizing data (making sure all values are between 0 and 1). This is done by subtracting the minimum value then dividing by the maximum value minus the minmum. This is also referred to as min-max scaling.\n",
        "Standardization (making sure all values have a mean of 0 and a variance of 1). This is done by substracting the mean value from the target feature and then dividing it by the standard deviation.\n",
        "Which one should you use?\n",
        "With neural networks you'll tend to favour normalization as they tend to prefer values between 0 and 1 (you'll see this espcially with image processing), however, you'll often find a neural network can perform pretty well with minimal feature scaling.\n",
        "📖 Resource: For more on preprocessing data, I'd recommend reading the following resources:\n",
        "\n",
        "Scikit-Learn's documentation on preprocessing data.\n",
        "Scale, Standardize or Normalize with Scikit-Learn by Jeff Hale.\n",
        "We've already turned our data into numbers using get_dummies(), let's see how we'd normalize it as well."
      ]
    },
    {
      "cell_type": "code",
      "metadata": {
        "id": "9uCCRa5PtleT",
        "outputId": "01fcec78-50a8-433a-ad49-49cb2c7728da",
        "colab": {
          "base_uri": "https://localhost:8080/",
          "height": 417
        }
      },
      "source": [
        "import pandas as pd\n",
        "import numpy as np\n",
        "import matplotlib.pyplot as plt\n",
        "import tensorflow as tf\n",
        "\n",
        "#Read the insurance dataset\n",
        "insurance = pd.read_csv(\"https://raw.githubusercontent.com/stedy/Machine-Learning-with-R-datasets/master/insurance.csv\")\n",
        "insurance"
      ],
      "execution_count": 130,
      "outputs": [
        {
          "output_type": "execute_result",
          "data": {
            "text/html": [
              "<div>\n",
              "<style scoped>\n",
              "    .dataframe tbody tr th:only-of-type {\n",
              "        vertical-align: middle;\n",
              "    }\n",
              "\n",
              "    .dataframe tbody tr th {\n",
              "        vertical-align: top;\n",
              "    }\n",
              "\n",
              "    .dataframe thead th {\n",
              "        text-align: right;\n",
              "    }\n",
              "</style>\n",
              "<table border=\"1\" class=\"dataframe\">\n",
              "  <thead>\n",
              "    <tr style=\"text-align: right;\">\n",
              "      <th></th>\n",
              "      <th>age</th>\n",
              "      <th>sex</th>\n",
              "      <th>bmi</th>\n",
              "      <th>children</th>\n",
              "      <th>smoker</th>\n",
              "      <th>region</th>\n",
              "      <th>charges</th>\n",
              "    </tr>\n",
              "  </thead>\n",
              "  <tbody>\n",
              "    <tr>\n",
              "      <th>0</th>\n",
              "      <td>19</td>\n",
              "      <td>female</td>\n",
              "      <td>27.900</td>\n",
              "      <td>0</td>\n",
              "      <td>yes</td>\n",
              "      <td>southwest</td>\n",
              "      <td>16884.92400</td>\n",
              "    </tr>\n",
              "    <tr>\n",
              "      <th>1</th>\n",
              "      <td>18</td>\n",
              "      <td>male</td>\n",
              "      <td>33.770</td>\n",
              "      <td>1</td>\n",
              "      <td>no</td>\n",
              "      <td>southeast</td>\n",
              "      <td>1725.55230</td>\n",
              "    </tr>\n",
              "    <tr>\n",
              "      <th>2</th>\n",
              "      <td>28</td>\n",
              "      <td>male</td>\n",
              "      <td>33.000</td>\n",
              "      <td>3</td>\n",
              "      <td>no</td>\n",
              "      <td>southeast</td>\n",
              "      <td>4449.46200</td>\n",
              "    </tr>\n",
              "    <tr>\n",
              "      <th>3</th>\n",
              "      <td>33</td>\n",
              "      <td>male</td>\n",
              "      <td>22.705</td>\n",
              "      <td>0</td>\n",
              "      <td>no</td>\n",
              "      <td>northwest</td>\n",
              "      <td>21984.47061</td>\n",
              "    </tr>\n",
              "    <tr>\n",
              "      <th>4</th>\n",
              "      <td>32</td>\n",
              "      <td>male</td>\n",
              "      <td>28.880</td>\n",
              "      <td>0</td>\n",
              "      <td>no</td>\n",
              "      <td>northwest</td>\n",
              "      <td>3866.85520</td>\n",
              "    </tr>\n",
              "    <tr>\n",
              "      <th>...</th>\n",
              "      <td>...</td>\n",
              "      <td>...</td>\n",
              "      <td>...</td>\n",
              "      <td>...</td>\n",
              "      <td>...</td>\n",
              "      <td>...</td>\n",
              "      <td>...</td>\n",
              "    </tr>\n",
              "    <tr>\n",
              "      <th>1333</th>\n",
              "      <td>50</td>\n",
              "      <td>male</td>\n",
              "      <td>30.970</td>\n",
              "      <td>3</td>\n",
              "      <td>no</td>\n",
              "      <td>northwest</td>\n",
              "      <td>10600.54830</td>\n",
              "    </tr>\n",
              "    <tr>\n",
              "      <th>1334</th>\n",
              "      <td>18</td>\n",
              "      <td>female</td>\n",
              "      <td>31.920</td>\n",
              "      <td>0</td>\n",
              "      <td>no</td>\n",
              "      <td>northeast</td>\n",
              "      <td>2205.98080</td>\n",
              "    </tr>\n",
              "    <tr>\n",
              "      <th>1335</th>\n",
              "      <td>18</td>\n",
              "      <td>female</td>\n",
              "      <td>36.850</td>\n",
              "      <td>0</td>\n",
              "      <td>no</td>\n",
              "      <td>southeast</td>\n",
              "      <td>1629.83350</td>\n",
              "    </tr>\n",
              "    <tr>\n",
              "      <th>1336</th>\n",
              "      <td>21</td>\n",
              "      <td>female</td>\n",
              "      <td>25.800</td>\n",
              "      <td>0</td>\n",
              "      <td>no</td>\n",
              "      <td>southwest</td>\n",
              "      <td>2007.94500</td>\n",
              "    </tr>\n",
              "    <tr>\n",
              "      <th>1337</th>\n",
              "      <td>61</td>\n",
              "      <td>female</td>\n",
              "      <td>29.070</td>\n",
              "      <td>0</td>\n",
              "      <td>yes</td>\n",
              "      <td>northwest</td>\n",
              "      <td>29141.36030</td>\n",
              "    </tr>\n",
              "  </tbody>\n",
              "</table>\n",
              "<p>1338 rows × 7 columns</p>\n",
              "</div>"
            ],
            "text/plain": [
              "      age     sex     bmi  children smoker     region      charges\n",
              "0      19  female  27.900         0    yes  southwest  16884.92400\n",
              "1      18    male  33.770         1     no  southeast   1725.55230\n",
              "2      28    male  33.000         3     no  southeast   4449.46200\n",
              "3      33    male  22.705         0     no  northwest  21984.47061\n",
              "4      32    male  28.880         0     no  northwest   3866.85520\n",
              "...   ...     ...     ...       ...    ...        ...          ...\n",
              "1333   50    male  30.970         3     no  northwest  10600.54830\n",
              "1334   18  female  31.920         0     no  northeast   2205.98080\n",
              "1335   18  female  36.850         0     no  southeast   1629.83350\n",
              "1336   21  female  25.800         0     no  southwest   2007.94500\n",
              "1337   61  female  29.070         0    yes  northwest  29141.36030\n",
              "\n",
              "[1338 rows x 7 columns]"
            ]
          },
          "metadata": {
            "tags": []
          },
          "execution_count": 130
        }
      ]
    },
    {
      "cell_type": "markdown",
      "metadata": {
        "id": "rwVWkizWuEMF"
      },
      "source": [
        "Now, just as before, we need to transform the non-numerical columns into numbers and this time we'll also be normalizing the numerical columns with different ranges (to make sure they're all between 0 and 1).\n",
        "\n",
        "To do this, we're going to use a few classes from Scikit-Learn:\n",
        "\n",
        "make_column_transformer - build a multi-step data preprocessing function for the folllowing trnasformations:\n",
        "MinMaxScaler - make sure all numerical columns are normalized (between 0 and 1).\n",
        "OneHotEncoder - one hot encode the non-numerical columns"
      ]
    },
    {
      "cell_type": "code",
      "metadata": {
        "id": "8Tu1UQb7tx8I"
      },
      "source": [
        "from sklearn.preprocessing import MinMaxScaler, OneHotEncoder\n",
        "from sklearn.compose import make_column_transformer\n",
        "\n",
        "# Create a column transformer\n",
        "\n",
        "ct = make_column_transformer((MinMaxScaler(), ['age', 'bmi', 'children'\n",
        "                             ]), (OneHotEncoder(handle_unknown='ignore'\n",
        "                             ), ['sex', 'smoker', 'region']))\n",
        "\n",
        "# Create X and y\n",
        "\n",
        "X = insurance.drop('charges', axis=1)\n",
        "y = insurance['charges']\n",
        "\n",
        "# Build our train and test sets\n",
        "\n",
        "(X_train, X_test, y_train, y_test) = train_test_split(X, y,\n",
        "        test_size=0.2, random_state=42)\n",
        "\n",
        "# Fit the column transformer to our training data\n",
        "\n",
        "ct.fit(X_train)\n",
        "\n",
        "# Transform training and test data with normalization (MinMaxScaler) and (OneHotEncoder)\n",
        "\n",
        "X_train_normal = ct.transform(X_train)\n",
        "X_test_normal = ct.transform(X_test)"
      ],
      "execution_count": 138,
      "outputs": []
    },
    {
      "cell_type": "code",
      "metadata": {
        "id": "ijAsZf_kvCAT",
        "outputId": "bcff0a79-178b-4640-d611-952d54f7d3a2",
        "colab": {
          "base_uri": "https://localhost:8080/"
        }
      },
      "source": [
        "# What does our data look like now?\n",
        "X_train_normal[0]"
      ],
      "execution_count": 140,
      "outputs": [
        {
          "output_type": "execute_result",
          "data": {
            "text/plain": [
              "array([0.60869565, 0.10734463, 0.4       , 1.        , 0.        ,\n",
              "       1.        , 0.        , 0.        , 1.        , 0.        ,\n",
              "       0.        ])"
            ]
          },
          "metadata": {
            "tags": []
          },
          "execution_count": 140
        }
      ]
    },
    {
      "cell_type": "code",
      "metadata": {
        "id": "bqTwAb0VxTkI",
        "outputId": "b02a8bb4-01bf-4167-c8e5-f1af838bfa3e",
        "colab": {
          "base_uri": "https://localhost:8080/"
        }
      },
      "source": [
        "# Notice the normalized/one-hot encoded shape is larger because of the extra columns\n",
        "X_train_normal.shape, X_train.shape"
      ],
      "execution_count": 141,
      "outputs": [
        {
          "output_type": "execute_result",
          "data": {
            "text/plain": [
              "((1070, 11), (1070, 6))"
            ]
          },
          "metadata": {
            "tags": []
          },
          "execution_count": 141
        }
      ]
    },
    {
      "cell_type": "markdown",
      "metadata": {
        "id": "7qMgBuaHx1wG"
      },
      "source": [
        "Our data is normalized and numerical, let's model it.\n",
        "\n",
        "We'll use the same model as insurance_model_2."
      ]
    },
    {
      "cell_type": "code",
      "metadata": {
        "id": "iXakXXmux5QS",
        "outputId": "19acf3f3-feec-4ce9-b4d1-932f5aabd633",
        "colab": {
          "base_uri": "https://localhost:8080/"
        }
      },
      "source": [
        "# Set random seed\n",
        "\n",
        "tf.random.set_seed(42)\n",
        "\n",
        "# 1. Build a model\n",
        "\n",
        "insurance_model_4 = tf.keras.Sequential()\n",
        "insurance_model_4.add(tf.keras.layers.Dense(100, activation='relu'))\n",
        "insurance_model_4.add(tf.keras.layers.Dense(10, activation='relu'))\n",
        "insurance_model_4.add(tf.keras.layers.Dense(1))\n",
        "\n",
        "# 2. Compile a model\n",
        "\n",
        "insurance_model_4.compile(loss=tf.keras.losses.mae,\n",
        "                          optimizer=tf.keras.optimizers.Adam(learning_rate=0.01),\n",
        "                          metrics=['mae'])\n",
        "\n",
        "# 3. Build a model\n",
        "\n",
        "insurance_model_4.fit(X_train_normal, y_train, epochs=100)"
      ],
      "execution_count": 143,
      "outputs": [
        {
          "output_type": "stream",
          "text": [
            "Epoch 1/100\n",
            "34/34 [==============================] - 0s 2ms/step - loss: 13329.9062 - mae: 13329.9062\n",
            "Epoch 2/100\n",
            "34/34 [==============================] - 0s 2ms/step - loss: 12997.3760 - mae: 12997.3760\n",
            "Epoch 3/100\n",
            "34/34 [==============================] - 0s 2ms/step - loss: 11294.1982 - mae: 11294.1982\n",
            "Epoch 4/100\n",
            "34/34 [==============================] - 0s 2ms/step - loss: 8596.6260 - mae: 8596.6260\n",
            "Epoch 5/100\n",
            "34/34 [==============================] - 0s 2ms/step - loss: 7823.9551 - mae: 7823.9551\n",
            "Epoch 6/100\n",
            "34/34 [==============================] - 0s 2ms/step - loss: 7563.9800 - mae: 7563.9800\n",
            "Epoch 7/100\n",
            "34/34 [==============================] - 0s 2ms/step - loss: 7272.8896 - mae: 7272.8896\n",
            "Epoch 8/100\n",
            "34/34 [==============================] - 0s 1ms/step - loss: 6946.5977 - mae: 6946.5977\n",
            "Epoch 9/100\n",
            "34/34 [==============================] - 0s 2ms/step - loss: 6544.5186 - mae: 6544.5186\n",
            "Epoch 10/100\n",
            "34/34 [==============================] - 0s 2ms/step - loss: 6019.6108 - mae: 6019.6108\n",
            "Epoch 11/100\n",
            "34/34 [==============================] - 0s 2ms/step - loss: 5356.5342 - mae: 5356.5342\n",
            "Epoch 12/100\n",
            "34/34 [==============================] - 0s 2ms/step - loss: 4600.3418 - mae: 4600.3418\n",
            "Epoch 13/100\n",
            "34/34 [==============================] - 0s 2ms/step - loss: 4012.6187 - mae: 4012.6187\n",
            "Epoch 14/100\n",
            "34/34 [==============================] - 0s 2ms/step - loss: 3701.8381 - mae: 3701.8381\n",
            "Epoch 15/100\n",
            "34/34 [==============================] - 0s 2ms/step - loss: 3615.5103 - mae: 3615.5103\n",
            "Epoch 16/100\n",
            "34/34 [==============================] - 0s 2ms/step - loss: 3560.7754 - mae: 3560.7754\n",
            "Epoch 17/100\n",
            "34/34 [==============================] - 0s 2ms/step - loss: 3521.9805 - mae: 3521.9805\n",
            "Epoch 18/100\n",
            "34/34 [==============================] - 0s 1ms/step - loss: 3463.6362 - mae: 3463.6362\n",
            "Epoch 19/100\n",
            "34/34 [==============================] - 0s 2ms/step - loss: 3425.1125 - mae: 3425.1125\n",
            "Epoch 20/100\n",
            "34/34 [==============================] - 0s 1ms/step - loss: 3388.6548 - mae: 3388.6548\n",
            "Epoch 21/100\n",
            "34/34 [==============================] - 0s 2ms/step - loss: 3340.5547 - mae: 3340.5547\n",
            "Epoch 22/100\n",
            "34/34 [==============================] - 0s 2ms/step - loss: 3310.7825 - mae: 3310.7825\n",
            "Epoch 23/100\n",
            "34/34 [==============================] - 0s 2ms/step - loss: 3297.2393 - mae: 3297.2393\n",
            "Epoch 24/100\n",
            "34/34 [==============================] - 0s 1ms/step - loss: 3265.8428 - mae: 3265.8428\n",
            "Epoch 25/100\n",
            "34/34 [==============================] - 0s 1ms/step - loss: 3254.7175 - mae: 3254.7175\n",
            "Epoch 26/100\n",
            "34/34 [==============================] - 0s 2ms/step - loss: 3232.0789 - mae: 3232.0789\n",
            "Epoch 27/100\n",
            "34/34 [==============================] - 0s 2ms/step - loss: 3227.5083 - mae: 3227.5083\n",
            "Epoch 28/100\n",
            "34/34 [==============================] - 0s 2ms/step - loss: 3225.1831 - mae: 3225.1831\n",
            "Epoch 29/100\n",
            "34/34 [==============================] - 0s 2ms/step - loss: 3224.4402 - mae: 3224.4402\n",
            "Epoch 30/100\n",
            "34/34 [==============================] - 0s 2ms/step - loss: 3211.1616 - mae: 3211.1616\n",
            "Epoch 31/100\n",
            "34/34 [==============================] - 0s 2ms/step - loss: 3211.5935 - mae: 3211.5935\n",
            "Epoch 32/100\n",
            "34/34 [==============================] - 0s 1ms/step - loss: 3205.9993 - mae: 3205.9993\n",
            "Epoch 33/100\n",
            "34/34 [==============================] - 0s 1ms/step - loss: 3210.4880 - mae: 3210.4880\n",
            "Epoch 34/100\n",
            "34/34 [==============================] - 0s 1ms/step - loss: 3202.4663 - mae: 3202.4663\n",
            "Epoch 35/100\n",
            "34/34 [==============================] - 0s 2ms/step - loss: 3198.8567 - mae: 3198.8567\n",
            "Epoch 36/100\n",
            "34/34 [==============================] - 0s 1ms/step - loss: 3196.9216 - mae: 3196.9216\n",
            "Epoch 37/100\n",
            "34/34 [==============================] - 0s 1ms/step - loss: 3208.7739 - mae: 3208.7739\n",
            "Epoch 38/100\n",
            "34/34 [==============================] - 0s 1ms/step - loss: 3190.8372 - mae: 3190.8372\n",
            "Epoch 39/100\n",
            "34/34 [==============================] - 0s 1ms/step - loss: 3194.0667 - mae: 3194.0667\n",
            "Epoch 40/100\n",
            "34/34 [==============================] - 0s 2ms/step - loss: 3189.6184 - mae: 3189.6184\n",
            "Epoch 41/100\n",
            "34/34 [==============================] - 0s 1ms/step - loss: 3190.8071 - mae: 3190.8071\n",
            "Epoch 42/100\n",
            "34/34 [==============================] - 0s 2ms/step - loss: 3193.8708 - mae: 3193.8708\n",
            "Epoch 43/100\n",
            "34/34 [==============================] - 0s 1ms/step - loss: 3194.3484 - mae: 3194.3484\n",
            "Epoch 44/100\n",
            "34/34 [==============================] - 0s 2ms/step - loss: 3188.3345 - mae: 3188.3345\n",
            "Epoch 45/100\n",
            "34/34 [==============================] - 0s 2ms/step - loss: 3197.7202 - mae: 3197.7202\n",
            "Epoch 46/100\n",
            "34/34 [==============================] - 0s 2ms/step - loss: 3192.7585 - mae: 3192.7585\n",
            "Epoch 47/100\n",
            "34/34 [==============================] - 0s 2ms/step - loss: 3190.9597 - mae: 3190.9597\n",
            "Epoch 48/100\n",
            "34/34 [==============================] - 0s 2ms/step - loss: 3189.5649 - mae: 3189.5649\n",
            "Epoch 49/100\n",
            "34/34 [==============================] - 0s 2ms/step - loss: 3185.8716 - mae: 3185.8716\n",
            "Epoch 50/100\n",
            "34/34 [==============================] - 0s 1ms/step - loss: 3192.2363 - mae: 3192.2363\n",
            "Epoch 51/100\n",
            "34/34 [==============================] - 0s 1ms/step - loss: 3178.1670 - mae: 3178.1670\n",
            "Epoch 52/100\n",
            "34/34 [==============================] - 0s 2ms/step - loss: 3178.2498 - mae: 3178.2498\n",
            "Epoch 53/100\n",
            "34/34 [==============================] - 0s 1ms/step - loss: 3174.7097 - mae: 3174.7097\n",
            "Epoch 54/100\n",
            "34/34 [==============================] - 0s 2ms/step - loss: 3175.0588 - mae: 3175.0588\n",
            "Epoch 55/100\n",
            "34/34 [==============================] - 0s 1ms/step - loss: 3191.7964 - mae: 3191.7964\n",
            "Epoch 56/100\n",
            "34/34 [==============================] - 0s 1ms/step - loss: 3175.5989 - mae: 3175.5989\n",
            "Epoch 57/100\n",
            "34/34 [==============================] - 0s 1ms/step - loss: 3167.4048 - mae: 3167.4048\n",
            "Epoch 58/100\n",
            "34/34 [==============================] - 0s 1ms/step - loss: 3173.7996 - mae: 3173.7996\n",
            "Epoch 59/100\n",
            "34/34 [==============================] - 0s 2ms/step - loss: 3165.0422 - mae: 3165.0422\n",
            "Epoch 60/100\n",
            "34/34 [==============================] - 0s 2ms/step - loss: 3162.8499 - mae: 3162.8499\n",
            "Epoch 61/100\n",
            "34/34 [==============================] - 0s 2ms/step - loss: 3165.8472 - mae: 3165.8472\n",
            "Epoch 62/100\n",
            "34/34 [==============================] - 0s 2ms/step - loss: 3164.1831 - mae: 3164.1831\n",
            "Epoch 63/100\n",
            "34/34 [==============================] - 0s 2ms/step - loss: 3158.2463 - mae: 3158.2463\n",
            "Epoch 64/100\n",
            "34/34 [==============================] - 0s 1ms/step - loss: 3154.9121 - mae: 3154.9121\n",
            "Epoch 65/100\n",
            "34/34 [==============================] - 0s 1ms/step - loss: 3151.3252 - mae: 3151.3252\n",
            "Epoch 66/100\n",
            "34/34 [==============================] - 0s 1ms/step - loss: 3148.9758 - mae: 3148.9758\n",
            "Epoch 67/100\n",
            "34/34 [==============================] - 0s 1ms/step - loss: 3148.8967 - mae: 3148.8967\n",
            "Epoch 68/100\n",
            "34/34 [==============================] - 0s 2ms/step - loss: 3144.5239 - mae: 3144.5239\n",
            "Epoch 69/100\n",
            "34/34 [==============================] - 0s 2ms/step - loss: 3134.6416 - mae: 3134.6416\n",
            "Epoch 70/100\n",
            "34/34 [==============================] - 0s 1ms/step - loss: 3132.6487 - mae: 3132.6487\n",
            "Epoch 71/100\n",
            "34/34 [==============================] - 0s 2ms/step - loss: 3130.3945 - mae: 3130.3945\n",
            "Epoch 72/100\n",
            "34/34 [==============================] - 0s 2ms/step - loss: 3126.0586 - mae: 3126.0586\n",
            "Epoch 73/100\n",
            "34/34 [==============================] - 0s 1ms/step - loss: 3119.8994 - mae: 3119.8994\n",
            "Epoch 74/100\n",
            "34/34 [==============================] - 0s 2ms/step - loss: 3111.1069 - mae: 3111.1069\n",
            "Epoch 75/100\n",
            "34/34 [==============================] - 0s 2ms/step - loss: 3110.4795 - mae: 3110.4795\n",
            "Epoch 76/100\n",
            "34/34 [==============================] - 0s 2ms/step - loss: 3106.5781 - mae: 3106.5781\n",
            "Epoch 77/100\n",
            "34/34 [==============================] - 0s 1ms/step - loss: 3105.1716 - mae: 3105.1716\n",
            "Epoch 78/100\n",
            "34/34 [==============================] - 0s 2ms/step - loss: 3098.8992 - mae: 3098.8992\n",
            "Epoch 79/100\n",
            "34/34 [==============================] - 0s 2ms/step - loss: 3098.4636 - mae: 3098.4636\n",
            "Epoch 80/100\n",
            "34/34 [==============================] - 0s 2ms/step - loss: 3096.6929 - mae: 3096.6929\n",
            "Epoch 81/100\n",
            "34/34 [==============================] - 0s 1ms/step - loss: 3098.9500 - mae: 3098.9500\n",
            "Epoch 82/100\n",
            "34/34 [==============================] - 0s 2ms/step - loss: 3084.1946 - mae: 3084.1946\n",
            "Epoch 83/100\n",
            "34/34 [==============================] - 0s 1ms/step - loss: 3074.3547 - mae: 3074.3547\n",
            "Epoch 84/100\n",
            "34/34 [==============================] - 0s 2ms/step - loss: 3066.3069 - mae: 3066.3069\n",
            "Epoch 85/100\n",
            "34/34 [==============================] - 0s 1ms/step - loss: 3070.9958 - mae: 3070.9958\n",
            "Epoch 86/100\n",
            "34/34 [==============================] - 0s 1ms/step - loss: 3054.1504 - mae: 3054.1504\n",
            "Epoch 87/100\n",
            "34/34 [==============================] - 0s 1ms/step - loss: 3049.9749 - mae: 3049.9749\n",
            "Epoch 88/100\n",
            "34/34 [==============================] - 0s 1ms/step - loss: 3043.1389 - mae: 3043.1389\n",
            "Epoch 89/100\n",
            "34/34 [==============================] - 0s 1ms/step - loss: 3045.9087 - mae: 3045.9087\n",
            "Epoch 90/100\n",
            "34/34 [==============================] - 0s 2ms/step - loss: 3042.2065 - mae: 3042.2065\n",
            "Epoch 91/100\n",
            "34/34 [==============================] - 0s 2ms/step - loss: 3026.7771 - mae: 3026.7771\n",
            "Epoch 92/100\n",
            "34/34 [==============================] - 0s 2ms/step - loss: 3034.1699 - mae: 3034.1699\n",
            "Epoch 93/100\n",
            "34/34 [==============================] - 0s 2ms/step - loss: 3019.4080 - mae: 3019.4080\n",
            "Epoch 94/100\n",
            "34/34 [==============================] - 0s 2ms/step - loss: 3003.3818 - mae: 3003.3818\n",
            "Epoch 95/100\n",
            "34/34 [==============================] - 0s 2ms/step - loss: 2999.1489 - mae: 2999.1489\n",
            "Epoch 96/100\n",
            "34/34 [==============================] - 0s 1ms/step - loss: 2994.8218 - mae: 2994.8218\n",
            "Epoch 97/100\n",
            "34/34 [==============================] - 0s 2ms/step - loss: 2983.8318 - mae: 2983.8318\n",
            "Epoch 98/100\n",
            "34/34 [==============================] - 0s 1ms/step - loss: 2971.2710 - mae: 2971.2710\n",
            "Epoch 99/100\n",
            "34/34 [==============================] - 0s 1ms/step - loss: 2965.8098 - mae: 2965.8098\n",
            "Epoch 100/100\n",
            "34/34 [==============================] - 0s 2ms/step - loss: 2957.4316 - mae: 2957.4316\n"
          ],
          "name": "stdout"
        },
        {
          "output_type": "execute_result",
          "data": {
            "text/plain": [
              "<tensorflow.python.keras.callbacks.History at 0x7f539e1f9790>"
            ]
          },
          "metadata": {
            "tags": []
          },
          "execution_count": 143
        }
      ]
    },
    {
      "cell_type": "code",
      "metadata": {
        "id": "0Ff-P8-S0Dk4",
        "outputId": "3e9eae34-9940-4f37-ad51-156ff36a8efa",
        "colab": {
          "base_uri": "https://localhost:8080/"
        }
      },
      "source": [
        "# Evaulate 3rd model\n",
        "insurance_model_4.evaluate(X_test_normal, y_test)"
      ],
      "execution_count": 145,
      "outputs": [
        {
          "output_type": "stream",
          "text": [
            "9/9 [==============================] - 0s 2ms/step - loss: 2726.3518 - mae: 2726.3518\n"
          ],
          "name": "stdout"
        },
        {
          "output_type": "execute_result",
          "data": {
            "text/plain": [
              "[2726.351806640625, 2726.351806640625]"
            ]
          },
          "metadata": {
            "tags": []
          },
          "execution_count": 145
        }
      ]
    },
    {
      "cell_type": "code",
      "metadata": {
        "id": "FW5j_2TO00hj",
        "outputId": "67ed6fa2-28ff-441a-8b44-8ccfd26a2e6d",
        "colab": {
          "base_uri": "https://localhost:8080/"
        }
      },
      "source": [
        "# Compare modelling results from non-normalized data and normalized data\n",
        "insurance_model_2.evaluate(X_test_normal, y_test), insurance_model_4.evaluate(X_test_normal, y_test)"
      ],
      "execution_count": 147,
      "outputs": [
        {
          "output_type": "stream",
          "text": [
            "9/9 [==============================] - 0s 2ms/step - loss: 12017.2500 - mae: 12017.2500\n",
            "9/9 [==============================] - 0s 2ms/step - loss: 2726.3518 - mae: 2726.3518\n"
          ],
          "name": "stdout"
        },
        {
          "output_type": "execute_result",
          "data": {
            "text/plain": [
              "([12017.25, 12017.25], [2726.351806640625, 2726.351806640625])"
            ]
          },
          "metadata": {
            "tags": []
          },
          "execution_count": 147
        }
      ]
    },
    {
      "cell_type": "markdown",
      "metadata": {
        "id": "XC8sSuFj08k1"
      },
      "source": [
        "This is one of the main benefits of normalization: faster convergence time (a fancy way of saying, your model gets to better results faster).\n",
        "\n",
        "insurance_model_2 may have eventually achieved the same results as insurance_model_3 if we left it training for longer.\n",
        "\n",
        "Also, the results may change if we were to alter the architectures of the models, e.g. more hidden units per layer or more layers.\n",
        "\n",
        "But since our main goal as neural network practioners is to decrease the time between experiments, anything that helps us get better results sooner is a plus."
      ]
    }
  ]
}